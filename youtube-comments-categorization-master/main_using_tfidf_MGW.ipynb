{
 "cells": [
  {
   "cell_type": "code",
   "execution_count": 1,
   "metadata": {},
   "outputs": [],
   "source": [
    "import numpy as np\n",
    "import pandas as pd\n",
    "import nltk\n",
    "from nltk import pos_tag\n",
    "from nltk.tokenize import word_tokenize\n",
    "import re\n",
    "from nltk.corpus import stopwords\n",
    "import matplotlib.pyplot as plt\n",
    "\n",
    "from sklearn.feature_extraction.text import TfidfVectorizer\n",
    "from sklearn.cluster import KMeans\n",
    "from sklearn.tree import DecisionTreeClassifier"
   ]
  },
  {
   "cell_type": "markdown",
   "metadata": {},
   "source": [
    "## Importing the Data"
   ]
  },
  {
   "cell_type": "code",
   "execution_count": 2,
   "metadata": {},
   "outputs": [],
   "source": [
    "# importing dataset\n",
    "df = pd.read_csv('Data/final_data.csv', header=None)\n",
    "df.rename(columns={0: 'comment', 1: 'category'}, inplace=True)"
   ]
  },
  {
   "cell_type": "markdown",
   "metadata": {},
   "source": [
    "## Exploring the Data"
   ]
  },
  {
   "cell_type": "code",
   "execution_count": 3,
   "metadata": {},
   "outputs": [
    {
     "data": {
      "text/html": [
       "<div>\n",
       "<style scoped>\n",
       "    .dataframe tbody tr th:only-of-type {\n",
       "        vertical-align: middle;\n",
       "    }\n",
       "\n",
       "    .dataframe tbody tr th {\n",
       "        vertical-align: top;\n",
       "    }\n",
       "\n",
       "    .dataframe thead th {\n",
       "        text-align: right;\n",
       "    }\n",
       "</style>\n",
       "<table border=\"1\" class=\"dataframe\">\n",
       "  <thead>\n",
       "    <tr style=\"text-align: right;\">\n",
       "      <th></th>\n",
       "      <th>comment</th>\n",
       "      <th>category</th>\n",
       "    </tr>\n",
       "  </thead>\n",
       "  <tbody>\n",
       "    <tr>\n",
       "      <th>0</th>\n",
       "      <td>Love you sir!!</td>\n",
       "      <td>positive</td>\n",
       "    </tr>\n",
       "    <tr>\n",
       "      <th>1</th>\n",
       "      <td>Please make videos on..Midpoint circle drawing...</td>\n",
       "      <td>imperative</td>\n",
       "    </tr>\n",
       "    <tr>\n",
       "      <th>2</th>\n",
       "      <td>I bought both of your courses on Udemy. You ar...</td>\n",
       "      <td>interrogative</td>\n",
       "    </tr>\n",
       "    <tr>\n",
       "      <th>3</th>\n",
       "      <td>Thank you very much, u really got me in the fi...</td>\n",
       "      <td>positive</td>\n",
       "    </tr>\n",
       "    <tr>\n",
       "      <th>4</th>\n",
       "      <td>i hope u are ok with everything going on again...</td>\n",
       "      <td>miscellaneous</td>\n",
       "    </tr>\n",
       "  </tbody>\n",
       "</table>\n",
       "</div>"
      ],
      "text/plain": [
       "                                             comment       category\n",
       "0                                     Love you sir!!       positive\n",
       "1  Please make videos on..Midpoint circle drawing...     imperative\n",
       "2  I bought both of your courses on Udemy. You ar...  interrogative\n",
       "3  Thank you very much, u really got me in the fi...       positive\n",
       "4  i hope u are ok with everything going on again...  miscellaneous"
      ]
     },
     "execution_count": 3,
     "metadata": {},
     "output_type": "execute_result"
    }
   ],
   "source": [
    "df.head()"
   ]
  },
  {
   "cell_type": "code",
   "execution_count": 4,
   "metadata": {},
   "outputs": [
    {
     "data": {
      "text/plain": [
       "(10000, 2)"
      ]
     },
     "execution_count": 4,
     "metadata": {},
     "output_type": "execute_result"
    }
   ],
   "source": [
    "# dimension of the dataset\n",
    "df.shape"
   ]
  },
  {
   "cell_type": "code",
   "execution_count": 5,
   "metadata": {},
   "outputs": [
    {
     "name": "stdout",
     "output_type": "stream",
     "text": [
      "<class 'pandas.core.frame.DataFrame'>\n",
      "RangeIndex: 10000 entries, 0 to 9999\n",
      "Data columns (total 2 columns):\n",
      " #   Column    Non-Null Count  Dtype \n",
      "---  ------    --------------  ----- \n",
      " 0   comment   10000 non-null  object\n",
      " 1   category  10000 non-null  object\n",
      "dtypes: object(2)\n",
      "memory usage: 156.4+ KB\n"
     ]
    }
   ],
   "source": [
    "df.info()"
   ]
  },
  {
   "cell_type": "code",
   "execution_count": 6,
   "metadata": {},
   "outputs": [
    {
     "data": {
      "text/html": [
       "<div>\n",
       "<style scoped>\n",
       "    .dataframe tbody tr th:only-of-type {\n",
       "        vertical-align: middle;\n",
       "    }\n",
       "\n",
       "    .dataframe tbody tr th {\n",
       "        vertical-align: top;\n",
       "    }\n",
       "\n",
       "    .dataframe thead th {\n",
       "        text-align: right;\n",
       "    }\n",
       "</style>\n",
       "<table border=\"1\" class=\"dataframe\">\n",
       "  <thead>\n",
       "    <tr style=\"text-align: right;\">\n",
       "      <th></th>\n",
       "      <th>comment</th>\n",
       "      <th>category</th>\n",
       "    </tr>\n",
       "  </thead>\n",
       "  <tbody>\n",
       "    <tr>\n",
       "      <th>count</th>\n",
       "      <td>10000</td>\n",
       "      <td>10000</td>\n",
       "    </tr>\n",
       "    <tr>\n",
       "      <th>unique</th>\n",
       "      <td>9783</td>\n",
       "      <td>6</td>\n",
       "    </tr>\n",
       "    <tr>\n",
       "      <th>top</th>\n",
       "      <td>great explanation</td>\n",
       "      <td>positive</td>\n",
       "    </tr>\n",
       "    <tr>\n",
       "      <th>freq</th>\n",
       "      <td>19</td>\n",
       "      <td>3648</td>\n",
       "    </tr>\n",
       "  </tbody>\n",
       "</table>\n",
       "</div>"
      ],
      "text/plain": [
       "                  comment  category\n",
       "count               10000     10000\n",
       "unique               9783         6\n",
       "top     great explanation  positive\n",
       "freq                   19      3648"
      ]
     },
     "execution_count": 6,
     "metadata": {},
     "output_type": "execute_result"
    }
   ],
   "source": [
    "df.describe()"
   ]
  },
  {
   "cell_type": "code",
   "execution_count": 7,
   "metadata": {},
   "outputs": [
    {
     "data": {
      "text/plain": [
       "array(['positive', 'imperative', 'interrogative', 'miscellaneous',\n",
       "       'corrective', 'negative'], dtype=object)"
      ]
     },
     "execution_count": 7,
     "metadata": {},
     "output_type": "execute_result"
    }
   ],
   "source": [
    "# unique categories\n",
    "df['category'].unique()"
   ]
  },
  {
   "cell_type": "code",
   "execution_count": 8,
   "metadata": {},
   "outputs": [
    {
     "data": {
      "text/plain": [
       "(103.4091, 143.0047431830402, 4124)"
      ]
     },
     "execution_count": 8,
     "metadata": {},
     "output_type": "execute_result"
    }
   ],
   "source": [
    "lens = df.comment.str.len()\n",
    "lens.mean(), lens.std(), lens.max()"
   ]
  },
  {
   "cell_type": "code",
   "execution_count": 9,
   "metadata": {},
   "outputs": [
    {
     "data": {
      "image/png": "[encoded data removed]",
      "text/plain": [
       "<Figure size 432x288 with 1 Axes>"
      ]
     },
     "metadata": {
      "needs_background": "light"
     },
     "output_type": "display_data"
    }
   ],
   "source": [
    "lens.hist();"
   ]
  },
  {
   "cell_type": "code",
   "execution_count": 10,
   "metadata": {},
   "outputs": [
    {
     "data": {
      "image/png": "[encoded data removed]",
      "text/plain": [
       "<Figure size 576x360 with 1 Axes>"
      ]
     },
     "metadata": {
      "needs_background": "light"
     },
     "output_type": "display_data"
    }
   ],
   "source": [
    "categories = df.groupby('category').size()\n",
    "\n",
    "y_pos = categories.index\n",
    " \n",
    "plt.figure(figsize=(8,5))\n",
    "    \n",
    "# Create bars\n",
    "plt.bar(y_pos, categories.values)\n",
    " \n",
    "# Show graphic\n",
    "plt.show()"
   ]
  },
  {
   "cell_type": "markdown",
   "metadata": {},
   "source": [
    "## Preprocessing"
   ]
  },
  {
   "cell_type": "code",
   "execution_count": 11,
   "metadata": {},
   "outputs": [
    {
     "data": {
      "text/plain": [
       "0                                          love you sir!!\n",
       "1       please make videos on..midpoint circle drawing...\n",
       "2       i bought both of your courses on udemy. you ar...\n",
       "3       thank you very much, u really got me in the fi...\n",
       "4       i hope u are ok with everything going on again...\n",
       "                              ...                        \n",
       "9995    this is gold! absolute peach of a video. but i...\n",
       "9996    this is helpful, how to decode a logical conte...\n",
       "9997    wow. reading this slowly actually helped me se...\n",
       "9998    great video sir, really helped a lot.keep goin...\n",
       "9999    oh damn! u deserve a lot many subscribers than...\n",
       "Name: comment, Length: 10000, dtype: object"
      ]
     },
     "execution_count": 11,
     "metadata": {},
     "output_type": "execute_result"
    }
   ],
   "source": [
    "# lowercasing\n",
    "df['comment'] = df['comment'].str.lower()\n",
    "df['comment']"
   ]
  },
  {
   "cell_type": "code",
   "execution_count": 12,
   "metadata": {},
   "outputs": [
    {
     "data": {
      "text/plain": [
       "comment     0\n",
       "category    0\n",
       "dtype: int64"
      ]
     },
     "execution_count": 12,
     "metadata": {},
     "output_type": "execute_result"
    }
   ],
   "source": [
    "# checking for NaN values\n",
    "df.isnull().sum()"
   ]
  },
  {
   "cell_type": "markdown",
   "metadata": {},
   "source": [
    "There is no **NaN** value in the dataset."
   ]
  },
  {
   "cell_type": "code",
   "execution_count": 13,
   "metadata": {},
   "outputs": [
    {
     "data": {
      "text/plain": [
       "True"
      ]
     },
     "execution_count": 13,
     "metadata": {},
     "output_type": "execute_result"
    }
   ],
   "source": [
    "# checking for duplicate \n",
    "df.duplicated().any()"
   ]
  },
  {
   "cell_type": "markdown",
   "metadata": {},
   "source": [
    "Duplicate row is present. Let's remove the duplicate rows."
   ]
  },
  {
   "cell_type": "code",
   "execution_count": 14,
   "metadata": {},
   "outputs": [],
   "source": [
    "# # removing duplicate rows\n",
    "# df = df.drop_duplicates()\n",
    "# df.duplicated().any()"
   ]
  },
  {
   "cell_type": "markdown",
   "metadata": {},
   "source": [
    "Duplicated removed succefully."
   ]
  },
  {
   "cell_type": "code",
   "execution_count": 15,
   "metadata": {},
   "outputs": [
    {
     "name": "stderr",
     "output_type": "stream",
     "text": [
      "/var/folders/f7/7wm8ypsx1_zcy_df6_f5nrl40000gn/T/ipykernel_40290/3288102125.py:4: FutureWarning: The default value of regex will change from True to False in a future version.\n",
      "  df['comment'] = df['comment'].str.replace('http\\S+|www.\\S+', '', case=False)\n",
      "/var/folders/f7/7wm8ypsx1_zcy_df6_f5nrl40000gn/T/ipykernel_40290/3288102125.py:10: FutureWarning: The default value of regex will change from True to False in a future version.\n",
      "  df['comment'] = df['comment'].str.replace('[^\\w\\s]',' ')\n",
      "/var/folders/f7/7wm8ypsx1_zcy_df6_f5nrl40000gn/T/ipykernel_40290/3288102125.py:16: FutureWarning: The default value of regex will change from True to False in a future version.\n",
      "  df['comment'] = df['comment'].str.replace('[^\\w\\s#@/:%.,_-]', '', flags=re.UNICODE)\n"
     ]
    },
    {
     "data": {
      "text/html": [
       "<div>\n",
       "<style scoped>\n",
       "    .dataframe tbody tr th:only-of-type {\n",
       "        vertical-align: middle;\n",
       "    }\n",
       "\n",
       "    .dataframe tbody tr th {\n",
       "        vertical-align: top;\n",
       "    }\n",
       "\n",
       "    .dataframe thead th {\n",
       "        text-align: right;\n",
       "    }\n",
       "</style>\n",
       "<table border=\"1\" class=\"dataframe\">\n",
       "  <thead>\n",
       "    <tr style=\"text-align: right;\">\n",
       "      <th></th>\n",
       "      <th>comment</th>\n",
       "      <th>category</th>\n",
       "    </tr>\n",
       "  </thead>\n",
       "  <tbody>\n",
       "    <tr>\n",
       "      <th>0</th>\n",
       "      <td>love you sir</td>\n",
       "      <td>positive</td>\n",
       "    </tr>\n",
       "    <tr>\n",
       "      <th>1</th>\n",
       "      <td>please make videos on  midpoint circle drawing...</td>\n",
       "      <td>imperative</td>\n",
       "    </tr>\n",
       "    <tr>\n",
       "      <th>2</th>\n",
       "      <td>i bought both of your courses on udemy  you ar...</td>\n",
       "      <td>interrogative</td>\n",
       "    </tr>\n",
       "    <tr>\n",
       "      <th>3</th>\n",
       "      <td>thank you very much  u really got me in the fi...</td>\n",
       "      <td>positive</td>\n",
       "    </tr>\n",
       "    <tr>\n",
       "      <th>4</th>\n",
       "      <td>i hope u are ok with everything going on again...</td>\n",
       "      <td>miscellaneous</td>\n",
       "    </tr>\n",
       "    <tr>\n",
       "      <th>...</th>\n",
       "      <td>...</td>\n",
       "      <td>...</td>\n",
       "    </tr>\n",
       "    <tr>\n",
       "      <th>9995</th>\n",
       "      <td>this is gold  absolute peach of a video  but i...</td>\n",
       "      <td>positive</td>\n",
       "    </tr>\n",
       "    <tr>\n",
       "      <th>9996</th>\n",
       "      <td>this is helpful  how to decode a logical conte...</td>\n",
       "      <td>interrogative</td>\n",
       "    </tr>\n",
       "    <tr>\n",
       "      <th>9997</th>\n",
       "      <td>wow  reading this slowly actually helped me se...</td>\n",
       "      <td>positive</td>\n",
       "    </tr>\n",
       "    <tr>\n",
       "      <th>9998</th>\n",
       "      <td>great video sir  really helped a lot keep goin...</td>\n",
       "      <td>positive</td>\n",
       "    </tr>\n",
       "    <tr>\n",
       "      <th>9999</th>\n",
       "      <td>oh damn  u deserve a lot many subscribers than...</td>\n",
       "      <td>interrogative</td>\n",
       "    </tr>\n",
       "  </tbody>\n",
       "</table>\n",
       "<p>10000 rows × 2 columns</p>\n",
       "</div>"
      ],
      "text/plain": [
       "                                                comment       category\n",
       "0                                        love you sir         positive\n",
       "1     please make videos on  midpoint circle drawing...     imperative\n",
       "2     i bought both of your courses on udemy  you ar...  interrogative\n",
       "3     thank you very much  u really got me in the fi...       positive\n",
       "4     i hope u are ok with everything going on again...  miscellaneous\n",
       "...                                                 ...            ...\n",
       "9995  this is gold  absolute peach of a video  but i...       positive\n",
       "9996  this is helpful  how to decode a logical conte...  interrogative\n",
       "9997  wow  reading this slowly actually helped me se...       positive\n",
       "9998  great video sir  really helped a lot keep goin...       positive\n",
       "9999  oh damn  u deserve a lot many subscribers than...  interrogative\n",
       "\n",
       "[10000 rows x 2 columns]"
      ]
     },
     "execution_count": 15,
     "metadata": {},
     "output_type": "execute_result"
    }
   ],
   "source": [
    "# Preprocessing\n",
    "\n",
    "# removing urls\n",
    "df['comment'] = df['comment'].str.replace('http\\S+|www.\\S+', '', case=False)\n",
    "\n",
    "# removing new lines \"\\n\"\n",
    "df['comment'] = df['comment'].replace('\\n','', regex=True)\n",
    "\n",
    "# removing all the punctuations\n",
    "df['comment'] = df['comment'].str.replace('[^\\w\\s]',' ')\n",
    "\n",
    "# removing integers\n",
    "df['comment'] = df['comment'].replace('\\d','', regex=True)\n",
    "\n",
    "# removing emojis\n",
    "df['comment'] = df['comment'].str.replace('[^\\w\\s#@/:%.,_-]', '', flags=re.UNICODE)\n",
    "df"
   ]
  },
  {
   "cell_type": "code",
   "execution_count": null,
   "metadata": {},
   "outputs": [],
   "source": []
  },
  {
   "cell_type": "code",
   "execution_count": 16,
   "metadata": {
    "scrolled": false
   },
   "outputs": [],
   "source": [
    "# removing punctuations except ! and ?\n",
    "# import string\n",
    "\n",
    "# def remove_punctuations(text):\n",
    "    \n",
    "#     punct = string.punctuation\n",
    "#     punct = punct.replace('!', '')\n",
    "#     punct = punct.replace('?', '')\n",
    "    \n",
    "#     for punctuation in punct:\n",
    "#         text = text.replace(punctuation, '')\n",
    "#     return text\n",
    "\n",
    "# df[\"comment\"] = df['comment'].apply(remove_punctuations)\n",
    "# df\n"
   ]
  },
  {
   "cell_type": "code",
   "execution_count": null,
   "metadata": {},
   "outputs": [],
   "source": []
  },
  {
   "cell_type": "code",
   "execution_count": 17,
   "metadata": {
    "scrolled": false
   },
   "outputs": [],
   "source": [
    "# # replacing sequence of \"!\" with single \"!\"\n",
    "# def replace(string, char): \n",
    "#     pattern = char + '{2,}'\n",
    "#     string = re.sub(pattern, char, string)\n",
    "#     return string \n",
    "\n",
    "# char = '!'\n",
    "\n",
    "# df_ = pd.DataFrame(columns=['comment', 'category'])\n",
    "\n",
    "# for index, row in df.iterrows():\n",
    "#     df_ = df_.append({'comment':replace(row['comment'], char), 'category':row['category']}, ignore_index=True)\n",
    "\n",
    "# df_"
   ]
  },
  {
   "cell_type": "code",
   "execution_count": 18,
   "metadata": {},
   "outputs": [],
   "source": [
    "# # replacing sequence of \"?\" with single \"?\"\n",
    "# def replace_q(string):\n",
    "#     char = '?'\n",
    "#     string = re.sub('[?-?]+', char, string)\n",
    "#     return string\n",
    "\n",
    "# df_['comment'] = df_['comment'].apply(replace_q)\n",
    "# df_"
   ]
  },
  {
   "cell_type": "code",
   "execution_count": null,
   "metadata": {},
   "outputs": [],
   "source": []
  },
  {
   "cell_type": "code",
   "execution_count": null,
   "metadata": {},
   "outputs": [],
   "source": []
  },
  {
   "cell_type": "code",
   "execution_count": 19,
   "metadata": {},
   "outputs": [
    {
     "data": {
      "text/html": [
       "<div>\n",
       "<style scoped>\n",
       "    .dataframe tbody tr th:only-of-type {\n",
       "        vertical-align: middle;\n",
       "    }\n",
       "\n",
       "    .dataframe tbody tr th {\n",
       "        vertical-align: top;\n",
       "    }\n",
       "\n",
       "    .dataframe thead th {\n",
       "        text-align: right;\n",
       "    }\n",
       "</style>\n",
       "<table border=\"1\" class=\"dataframe\">\n",
       "  <thead>\n",
       "    <tr style=\"text-align: right;\">\n",
       "      <th></th>\n",
       "      <th>comment</th>\n",
       "      <th>category</th>\n",
       "    </tr>\n",
       "  </thead>\n",
       "  <tbody>\n",
       "    <tr>\n",
       "      <th>0</th>\n",
       "      <td>love you sir</td>\n",
       "      <td>positive</td>\n",
       "    </tr>\n",
       "    <tr>\n",
       "      <th>1</th>\n",
       "      <td>please make videos on  midpoint circle drawing...</td>\n",
       "      <td>imperative</td>\n",
       "    </tr>\n",
       "    <tr>\n",
       "      <th>2</th>\n",
       "      <td>i bought both of your courses on dmy  you are ...</td>\n",
       "      <td>interrogative</td>\n",
       "    </tr>\n",
       "    <tr>\n",
       "      <th>3</th>\n",
       "      <td>thank you very much  u really got me in the fi...</td>\n",
       "      <td>positive</td>\n",
       "    </tr>\n",
       "    <tr>\n",
       "      <th>4</th>\n",
       "      <td>i hope u are ok with everything going on again...</td>\n",
       "      <td>miscellaneous</td>\n",
       "    </tr>\n",
       "    <tr>\n",
       "      <th>...</th>\n",
       "      <td>...</td>\n",
       "      <td>...</td>\n",
       "    </tr>\n",
       "    <tr>\n",
       "      <th>9995</th>\n",
       "      <td>this is gold  absolute peach of a video  but i...</td>\n",
       "      <td>positive</td>\n",
       "    </tr>\n",
       "    <tr>\n",
       "      <th>9996</th>\n",
       "      <td>this is helpful  how to decode a logical conte...</td>\n",
       "      <td>interrogative</td>\n",
       "    </tr>\n",
       "    <tr>\n",
       "      <th>9997</th>\n",
       "      <td>wow  reading this slowly actually helped me se...</td>\n",
       "      <td>positive</td>\n",
       "    </tr>\n",
       "    <tr>\n",
       "      <th>9998</th>\n",
       "      <td>great video sir  really helped a lot keep goin...</td>\n",
       "      <td>positive</td>\n",
       "    </tr>\n",
       "    <tr>\n",
       "      <th>9999</th>\n",
       "      <td>oh damn  u deserve a lot many subscribers than...</td>\n",
       "      <td>interrogative</td>\n",
       "    </tr>\n",
       "  </tbody>\n",
       "</table>\n",
       "<p>10000 rows × 2 columns</p>\n",
       "</div>"
      ],
      "text/plain": [
       "                                                comment       category\n",
       "0                                        love you sir         positive\n",
       "1     please make videos on  midpoint circle drawing...     imperative\n",
       "2     i bought both of your courses on dmy  you are ...  interrogative\n",
       "3     thank you very much  u really got me in the fi...       positive\n",
       "4     i hope u are ok with everything going on again...  miscellaneous\n",
       "...                                                 ...            ...\n",
       "9995  this is gold  absolute peach of a video  but i...       positive\n",
       "9996  this is helpful  how to decode a logical conte...  interrogative\n",
       "9997  wow  reading this slowly actually helped me se...       positive\n",
       "9998  great video sir  really helped a lot keep goin...       positive\n",
       "9999  oh damn  u deserve a lot many subscribers than...  interrogative\n",
       "\n",
       "[10000 rows x 2 columns]"
      ]
     },
     "execution_count": 19,
     "metadata": {},
     "output_type": "execute_result"
    }
   ],
   "source": [
    "# correcting the typos\n",
    "from autocorrect import Speller\n",
    "\n",
    "spell = Speller(lang='en')\n",
    "\n",
    "def typo_corrector(text):\n",
    "    return spell(text)\n",
    "\n",
    "df['comment'] = df['comment'].apply(typo_corrector)\n",
    "df"
   ]
  },
  {
   "cell_type": "code",
   "execution_count": 20,
   "metadata": {},
   "outputs": [],
   "source": [
    "# # tokenizing\n",
    "# df_['comment'] = df_.apply(lambda row: nltk.word_tokenize(row['comment']), axis=1)\n",
    "# df_"
   ]
  },
  {
   "cell_type": "code",
   "execution_count": 21,
   "metadata": {},
   "outputs": [],
   "source": [
    "# # removing stopwords\n",
    "# stop = stopwords.words('english')\n",
    "# negative_words = ['nor','no','not']\n",
    "# for word in negative_words:\n",
    "#     stop.remove(word)\n",
    "\n",
    "# df['comment'] = df['comment'].apply(lambda x: ' '.join([word for word in x.split() if word not in (stop)]))\n",
    "# df\n",
    "\n",
    "\n",
    "\n",
    "# Removing stopwords\n",
    "stop = stopwords.words('english')\n",
    "\n",
    "# These are the words that should not be removed from their category\n",
    "negative_words = ['no','not']\n",
    "interrogative_words = ['how','what','which','who','whom','why','do','does','is','are','was','were','will','am',\n",
    "                      'are','could','would','should','can','did','does','do','had','have']\n",
    "imperative_words = ['could','would','should','can']\n",
    "\n",
    "for_negative_category = stop.copy()\n",
    "for word in negative_words:\n",
    "    if word in for_negative_category:\n",
    "        for_negative_category.remove(word)\n",
    "    \n",
    "for_interrogative_category = stop.copy()\n",
    "for word in interrogative_words:\n",
    "    if word in for_interrogative_category:\n",
    "        for_interrogative_category.remove(word)\n",
    "    \n",
    "for_imperative_category = stop.copy()\n",
    "for word in imperative_words:\n",
    "    if word in for_imperative_category:\n",
    "        for_imperative_category.remove(word)\n",
    "\n",
    "# For negative words\n",
    "for i in range(len(df)):\n",
    "    if df['category'][i] == \"negative\":\n",
    "        df['comment'][i] = ' '.join([word for word in df['comment'][i].split() if word not in for_negative_category])\n",
    "\n",
    "# For interrogative words\n",
    "for i in range(len(df)):\n",
    "    if df['category'][i] == \"interrogative\":\n",
    "        df['comment'][i] = ' '.join([word for word in df['comment'][i].split() if word not in for_interrogative_category])\n",
    "        \n",
    "# For interrogative words\n",
    "for i in range(len(df)):\n",
    "    if df['category'][i] == \"imperative\":\n",
    "        df['comment'][i] = ' '.join([word for word in df['comment'][i].split() if word not in for_imperative_category])\n",
    "        \n",
    "# For all other category\n",
    "for i in range(len(df)):\n",
    "    if df['category'][i] == \"positive\" or df['category'][i] == \"correction\" or df['category'][i] == \"other\":\n",
    "        df['comment'][i] = ' '.join([word for word in df['comment'][i].split() if word not in stop])\n",
    "\n",
    "# df[0] = df[0].apply(lambda x: ' '.join([word for word in x.split() if word not in (stop)]))\n",
    "# df\n"
   ]
  },
  {
   "cell_type": "code",
   "execution_count": null,
   "metadata": {},
   "outputs": [],
   "source": []
  },
  {
   "cell_type": "code",
   "execution_count": 22,
   "metadata": {},
   "outputs": [
    {
     "data": {
      "text/html": [
       "<div>\n",
       "<style scoped>\n",
       "    .dataframe tbody tr th:only-of-type {\n",
       "        vertical-align: middle;\n",
       "    }\n",
       "\n",
       "    .dataframe tbody tr th {\n",
       "        vertical-align: top;\n",
       "    }\n",
       "\n",
       "    .dataframe thead th {\n",
       "        text-align: right;\n",
       "    }\n",
       "</style>\n",
       "<table border=\"1\" class=\"dataframe\">\n",
       "  <thead>\n",
       "    <tr style=\"text-align: right;\">\n",
       "      <th></th>\n",
       "      <th>comment</th>\n",
       "      <th>category</th>\n",
       "    </tr>\n",
       "  </thead>\n",
       "  <tbody>\n",
       "    <tr>\n",
       "      <th>0</th>\n",
       "      <td>love sir</td>\n",
       "      <td>positive</td>\n",
       "    </tr>\n",
       "    <tr>\n",
       "      <th>1</th>\n",
       "      <td>please make video midpoint circle drawing bres...</td>\n",
       "      <td>imperative</td>\n",
       "    </tr>\n",
       "    <tr>\n",
       "      <th>2</th>\n",
       "      <td>bought course dmy are talented teacher keep pr...</td>\n",
       "      <td>interrogative</td>\n",
       "    </tr>\n",
       "    <tr>\n",
       "      <th>3</th>\n",
       "      <td>thank much u really got first video algorithm ...</td>\n",
       "      <td>positive</td>\n",
       "    </tr>\n",
       "    <tr>\n",
       "      <th>4</th>\n",
       "      <td>i hope u are ok with everything going on again...</td>\n",
       "      <td>miscellaneous</td>\n",
       "    </tr>\n",
       "    <tr>\n",
       "      <th>...</th>\n",
       "      <td>...</td>\n",
       "      <td>...</td>\n",
       "    </tr>\n",
       "    <tr>\n",
       "      <th>9995</th>\n",
       "      <td>gold absolute peach video messed last two ques...</td>\n",
       "      <td>positive</td>\n",
       "    </tr>\n",
       "    <tr>\n",
       "      <th>9996</th>\n",
       "      <td>is helpful how decode logical context easily s...</td>\n",
       "      <td>interrogative</td>\n",
       "    </tr>\n",
       "    <tr>\n",
       "      <th>9997</th>\n",
       "      <td>wow reading slowly actually helped see extra i...</td>\n",
       "      <td>positive</td>\n",
       "    </tr>\n",
       "    <tr>\n",
       "      <th>9998</th>\n",
       "      <td>great video sir really helped lot keep going l...</td>\n",
       "      <td>positive</td>\n",
       "    </tr>\n",
       "    <tr>\n",
       "      <th>9999</th>\n",
       "      <td>oh damn u deserve lot many subscriber have nev...</td>\n",
       "      <td>interrogative</td>\n",
       "    </tr>\n",
       "  </tbody>\n",
       "</table>\n",
       "<p>10000 rows × 2 columns</p>\n",
       "</div>"
      ],
      "text/plain": [
       "                                                comment       category\n",
       "0                                              love sir       positive\n",
       "1     please make video midpoint circle drawing bres...     imperative\n",
       "2     bought course dmy are talented teacher keep pr...  interrogative\n",
       "3     thank much u really got first video algorithm ...       positive\n",
       "4     i hope u are ok with everything going on again...  miscellaneous\n",
       "...                                                 ...            ...\n",
       "9995  gold absolute peach video messed last two ques...       positive\n",
       "9996  is helpful how decode logical context easily s...  interrogative\n",
       "9997  wow reading slowly actually helped see extra i...       positive\n",
       "9998  great video sir really helped lot keep going l...       positive\n",
       "9999  oh damn u deserve lot many subscriber have nev...  interrogative\n",
       "\n",
       "[10000 rows x 2 columns]"
      ]
     },
     "execution_count": 22,
     "metadata": {},
     "output_type": "execute_result"
    }
   ],
   "source": [
    "# # stemming\n",
    "# stemmer = nltk.stem.SnowballStemmer('english')\n",
    "\n",
    "# df['comment'] = df['comment'].apply(lambda x: ' '.join([stemmer.stem(word) for word in x.split()]))\n",
    "\n",
    "# def stem_text(text):\n",
    "#     return [stemmer.stem(w) for w in text]\n",
    "\n",
    "# df_['comment'] = df_['comment'].apply(stem_text)\n",
    "\n",
    "\n",
    "# # lemmatizing\n",
    "# lemmatizer = nltk.stem.WordNetLemmatizer()\n",
    "# def lemmatize_text(text):\n",
    "#     return [lemmatizer.lemmatize(w) for w in text]\n",
    "\n",
    "# df_['comment'] = df_['comment'].apply(lemmatize_text)\n",
    "# df_\n",
    "\n",
    "lemmatizer = nltk.stem.WordNetLemmatizer()\n",
    "df['comment'] = df['comment'].apply(lambda x: ' '.join([lemmatizer.lemmatize(word) for word in x.split()]))\n",
    "\n",
    "df"
   ]
  },
  {
   "cell_type": "code",
   "execution_count": null,
   "metadata": {},
   "outputs": [],
   "source": []
  },
  {
   "cell_type": "code",
   "execution_count": null,
   "metadata": {},
   "outputs": [],
   "source": []
  },
  {
   "cell_type": "code",
   "execution_count": null,
   "metadata": {},
   "outputs": [],
   "source": []
  },
  {
   "cell_type": "code",
   "execution_count": null,
   "metadata": {},
   "outputs": [],
   "source": []
  },
  {
   "cell_type": "markdown",
   "metadata": {},
   "source": [
    "## Feature Extraction"
   ]
  },
  {
   "cell_type": "code",
   "execution_count": null,
   "metadata": {
    "scrolled": true
   },
   "outputs": [],
   "source": []
  },
  {
   "cell_type": "code",
   "execution_count": 23,
   "metadata": {},
   "outputs": [
    {
     "data": {
      "text/plain": [
       "(10000, 4304)"
      ]
     },
     "execution_count": 23,
     "metadata": {},
     "output_type": "execute_result"
    }
   ],
   "source": [
    "from sklearn.feature_extraction.text import TfidfVectorizer\n",
    "\n",
    "tfidf = TfidfVectorizer(sublinear_tf=False, min_df=5, norm='l2', ngram_range=(1, 2))\n",
    "features = tfidf.fit_transform(df.comment).toarray()\n",
    "\n",
    "features.shape"
   ]
  },
  {
   "cell_type": "code",
   "execution_count": null,
   "metadata": {},
   "outputs": [],
   "source": []
  },
  {
   "cell_type": "code",
   "execution_count": 24,
   "metadata": {},
   "outputs": [],
   "source": [
    "from sklearn.model_selection import train_test_split\n",
    "\n",
    "X_train, X_test, y_train, y_test = train_test_split(features, df.category, test_size=0.2, random_state=42)"
   ]
  },
  {
   "cell_type": "code",
   "execution_count": null,
   "metadata": {},
   "outputs": [],
   "source": []
  },
  {
   "cell_type": "code",
   "execution_count": null,
   "metadata": {},
   "outputs": [],
   "source": [
    "### Hyperparameter Tuning ###\n",
    "\n",
    "from sklearn.model_selection import RepeatedStratifiedKFold\n",
    "from sklearn.model_selection import GridSearchCV\n",
    "from sklearn.naive_bayes import MultinomialNB\n",
    "\n",
    "# define models and parameters\n",
    "model = MultinomialNB()\n",
    "fit_prior=[True, False]\n",
    "alpha=[0,0.5,1]\n",
    "\n",
    "# define grid search\n",
    "grid = dict(fit_prior=fit_prior,alpha=alpha)\n",
    "cv = RepeatedStratifiedKFold(n_splits=10, n_repeats=3, random_state=1)\n",
    "grid_search = GridSearchCV(estimator=model, param_grid=grid, n_jobs=-1, cv=cv, scoring='accuracy',error_score=0)\n",
    "grid_result = grid_search.fit(X_train, y_train)\n",
    "# summarize results\n",
    "print(\"Best: %f using %s\" % (grid_result.best_score_, grid_result.best_params_))\n",
    "means = grid_result.cv_results_['mean_test_score']\n",
    "stds = grid_result.cv_results_['std_test_score']\n",
    "params = grid_result.cv_results_['params']\n",
    "for mean, stdev, param in zip(means, stds, params):\n",
    "    print(\"%f (%f) with: %r\" % (mean, stdev, param))"
   ]
  },
  {
   "cell_type": "code",
   "execution_count": null,
   "metadata": {},
   "outputs": [],
   "source": [
    "nb_alpha, nb_fit_prior = [], []\n",
    "\n",
    "\n",
    "for sample in params:\n",
    "    nb_alpha.append(sample['alpha'])\n",
    "\n",
    "    nb_fit_prior.append(sample['fit_prior'])\n",
    "\n",
    "\n",
    "nb_dict = {'mean_test_score': means, \n",
    "                    'alpha': nb_alpha,\n",
    "                    'fit_prior': nb_fit_prior}\n",
    "\n",
    "final_nb = pd.DataFrame(nb_dict)"
   ]
  },
  {
   "cell_type": "code",
   "execution_count": null,
   "metadata": {},
   "outputs": [],
   "source": [
    "### Hyperparameter Tuning ###\n",
    "\n",
    "from sklearn.model_selection import RepeatedStratifiedKFold\n",
    "from sklearn.model_selection import GridSearchCV\n",
    "from sklearn.svm import SVC\n",
    "\n",
    "# define model and parameters\n",
    "model = SVC()\n",
    "kernel = ['linear','poly', 'rbf', 'sigmoid']\n",
    "C = [50, 10, 1.0, 0.1, 0.01]\n",
    "gamma = ['scale']\n",
    "# define grid search\n",
    "grid = dict(kernel=kernel,C=C,gamma=gamma)\n",
    "cv = RepeatedStratifiedKFold(n_splits=10, n_repeats=3, random_state=1)\n",
    "grid_search = GridSearchCV(estimator=model, param_grid=grid, n_jobs=-1, cv=cv, scoring='accuracy',error_score=0)\n",
    "grid_result = grid_search.fit(X_train, y_train)\n",
    "# summarize results\n",
    "print(\"Best: %f using %s\" % (grid_result.best_score_, grid_result.best_params_))\n",
    "means = grid_result.cv_results_['mean_test_score']\n",
    "stds = grid_result.cv_results_['std_test_score']\n",
    "params = grid_result.cv_results_['params']\n",
    "for mean, stdev, param in zip(means, stds, params):\n",
    "    print(\"%f (%f) with: %r\" % (mean, stdev, param))"
   ]
  },
  {
   "cell_type": "code",
   "execution_count": null,
   "metadata": {},
   "outputs": [],
   "source": [
    "svc_kernel, svc_C, svc_gamma = [], [], []\n",
    "\n",
    "\n",
    "for sample in params:\n",
    "    svc_kernel.append(sample['kernel'])\n",
    "    svc_C.append(sample['C'])\n",
    "    svc_gamma.append(sample['gamma'])\n",
    "\n",
    "\n",
    "svc_dict = {'mean_test_score': means, \n",
    "                    'kernel': svc_kernel,\n",
    "                    'C': svc_C,\n",
    "                    'gamma': svc_gamma}\n",
    "\n",
    "final_svc = pd.DataFrame(svc_dict)"
   ]
  },
  {
   "cell_type": "code",
   "execution_count": null,
   "metadata": {},
   "outputs": [],
   "source": [
    "### Hyperparameter Tuning ###\n",
    "\n",
    "from sklearn.model_selection import RepeatedStratifiedKFold\n",
    "from sklearn.model_selection import GridSearchCV\n",
    "from sklearn.linear_model import LogisticRegression\n",
    "\n",
    "# define models and parameters\n",
    "model = LogisticRegression()\n",
    "solvers = ['newton-cg', 'lbfgs', 'liblinear']\n",
    "penalty = ['l1', 'l2', 'elasticnet', 'none']\n",
    "c_values = [100, 10, 1.0, 0.1, 0.01]\n",
    "# define grid search\n",
    "grid = dict(solver=solvers,penalty=penalty,C=c_values)\n",
    "cv = RepeatedStratifiedKFold(n_splits=10, n_repeats=3, random_state=1)\n",
    "grid_search = GridSearchCV(estimator=model, param_grid=grid, n_jobs=-1, cv=cv, scoring='accuracy',error_score=0)\n",
    "grid_result = grid_search.fit(X_train, y_train)\n",
    "# summarize results\n",
    "print(\"Best: %f using %s\" % (grid_result.best_score_, grid_result.best_params_))\n",
    "means = grid_result.cv_results_['mean_test_score']\n",
    "stds = grid_result.cv_results_['std_test_score']\n",
    "params = grid_result.cv_results_['params']\n",
    "for mean, stdev, param in zip(means, stds, params):\n",
    "    print(\"%f (%f) with: %r\" % (mean, stdev, param))"
   ]
  },
  {
   "cell_type": "code",
   "execution_count": null,
   "metadata": {},
   "outputs": [],
   "source": [
    "logistic_solvers, logistic_penalty, logistic_C = [], [], []\n",
    "\n",
    "\n",
    "for sample in params:\n",
    "    logistic_solvers.append(sample['solver'])\n",
    "    logistic_penalty.append(sample['penalty'])\n",
    "    logistic_C.append(sample['C'])\n",
    "\n",
    "\n",
    "logistic_dict = {'mean_test_score': means, \n",
    "                    'solvers': logistic_solvers,\n",
    "                    'penalty': logistic_penalty,\n",
    "                    'C': logistic_C}\n",
    "\n",
    "final_logistic = pd.DataFrame(logistic_dict)"
   ]
  },
  {
   "cell_type": "code",
   "execution_count": null,
   "metadata": {},
   "outputs": [],
   "source": [
    "### Hyperparameter Tuning ###\n",
    "\n",
    "from sklearn.model_selection import RepeatedStratifiedKFold\n",
    "from sklearn.model_selection import GridSearchCV\n",
    "from sklearn.ensemble import RandomForestClassifier\n",
    "\n",
    "# define models and parameters\n",
    "model = RandomForestClassifier()\n",
    "n_estimators = [10, 100, 1000]\n",
    "max_features = ['sqrt', 'log2']\n",
    "criterion = ['gini', 'entropy']\n",
    "# define grid search\n",
    "grid = dict(n_estimators=n_estimators,max_features=max_features,criterion=criterion)\n",
    "cv = RepeatedStratifiedKFold(n_splits=10, n_repeats=3, random_state=1)\n",
    "grid_search = GridSearchCV(estimator=model, param_grid=grid, n_jobs=-1, cv=cv, scoring='accuracy',error_score=0)\n",
    "grid_result = grid_search.fit(X_train, y_train)\n",
    "# summarize results\n",
    "print(\"Best: %f using %s\" % (grid_result.best_score_, grid_result.best_params_))\n",
    "means = grid_result.cv_results_['mean_test_score']\n",
    "stds = grid_result.cv_results_['std_test_score']\n",
    "params = grid_result.cv_results_['params']\n",
    "for mean, stdev, param in zip(means, stds, params):\n",
    "    print(\"%f (%f) with: %r\" % (mean, stdev, param))"
   ]
  },
  {
   "cell_type": "code",
   "execution_count": null,
   "metadata": {},
   "outputs": [],
   "source": [
    "randfor_n_estimators, randfor_max_features, randfor_criterion = [], [], []\n",
    "\n",
    "\n",
    "for sample in params:\n",
    "    randfor_n_estimators.append(sample['n_estimators'])\n",
    "    randfor_max_features.append(sample['max_features'])\n",
    "    randfor_criterion.append(sample['criterion'])\n",
    "\n",
    "\n",
    "randfor_dict = {'mean_test_score': means, \n",
    "                    'n_estimators': randfor_n_estimators,\n",
    "                    'max_features': randfor_max_features,\n",
    "                    'criterion': randfor_criterion}\n",
    "\n",
    "final_randfor = pd.DataFrame(randfor_dict)"
   ]
  },
  {
   "cell_type": "code",
   "execution_count": 25,
   "metadata": {},
   "outputs": [
    {
     "name": "stderr",
     "output_type": "stream",
     "text": [
      "/Users/mgw/opt/anaconda3/envs/cs680/lib/python3.9/site-packages/sklearn/model_selection/_validation.py:372: FitFailedWarning: \n",
      "240 fits failed out of a total of 2160.\n",
      "The score on these train-test partitions for these parameters will be set to 0.\n",
      "If these failures are not expected, you can try to debug them by setting error_score='raise'.\n",
      "\n",
      "Below are more details about the failures:\n",
      "--------------------------------------------------------------------------------\n",
      "240 fits failed with the following error:\n",
      "Traceback (most recent call last):\n",
      "  File \"/Users/mgw/opt/anaconda3/envs/cs680/lib/python3.9/site-packages/sklearn/model_selection/_validation.py\", line 681, in _fit_and_score\n",
      "    estimator.fit(X_train, y_train, **fit_params)\n",
      "  File \"/Users/mgw/opt/anaconda3/envs/cs680/lib/python3.9/site-packages/sklearn/tree/_classes.py\", line 937, in fit\n",
      "    super().fit(\n",
      "  File \"/Users/mgw/opt/anaconda3/envs/cs680/lib/python3.9/site-packages/sklearn/tree/_classes.py\", line 250, in fit\n",
      "    raise ValueError(\n",
      "ValueError: min_samples_split must be an integer greater than 1 or a float in (0.0, 1.0]; got the integer 1\n",
      "\n",
      "  warnings.warn(some_fits_failed_message, FitFailedWarning)\n"
     ]
    },
    {
     "name": "stdout",
     "output_type": "stream",
     "text": [
      "Best: 0.811250 using {'criterion': 'gini', 'max_depth': None, 'max_features': None, 'min_samples_leaf': 1, 'min_samples_split': 2}\n",
      "0.000000 (0.000000) with: {'criterion': 'gini', 'max_depth': None, 'max_features': None, 'min_samples_leaf': 1, 'min_samples_split': 1}\n",
      "0.811250 (0.013010) with: {'criterion': 'gini', 'max_depth': None, 'max_features': None, 'min_samples_leaf': 1, 'min_samples_split': 2}\n",
      "0.809958 (0.015879) with: {'criterion': 'gini', 'max_depth': None, 'max_features': None, 'min_samples_leaf': 1, 'min_samples_split': 3}\n",
      "0.809542 (0.016236) with: {'criterion': 'gini', 'max_depth': None, 'max_features': None, 'min_samples_leaf': 1, 'min_samples_split': 4}\n",
      "0.807833 (0.015626) with: {'criterion': 'gini', 'max_depth': None, 'max_features': None, 'min_samples_leaf': 1, 'min_samples_split': 5}\n",
      "0.807792 (0.014566) with: {'criterion': 'gini', 'max_depth': None, 'max_features': None, 'min_samples_leaf': 1, 'min_samples_split': 6}\n",
      "0.808958 (0.014635) with: {'criterion': 'gini', 'max_depth': None, 'max_features': None, 'min_samples_leaf': 1, 'min_samples_split': 7}\n",
      "0.809875 (0.016464) with: {'criterion': 'gini', 'max_depth': None, 'max_features': None, 'min_samples_leaf': 1, 'min_samples_split': 8}\n",
      "0.809292 (0.014288) with: {'criterion': 'gini', 'max_depth': None, 'max_features': None, 'min_samples_leaf': 1, 'min_samples_split': 9}\n",
      "0.000000 (0.000000) with: {'criterion': 'gini', 'max_depth': None, 'max_features': None, 'min_samples_leaf': 2, 'min_samples_split': 1}\n",
      "0.790292 (0.014964) with: {'criterion': 'gini', 'max_depth': None, 'max_features': None, 'min_samples_leaf': 2, 'min_samples_split': 2}\n",
      "0.791375 (0.016556) with: {'criterion': 'gini', 'max_depth': None, 'max_features': None, 'min_samples_leaf': 2, 'min_samples_split': 3}\n",
      "0.790125 (0.014739) with: {'criterion': 'gini', 'max_depth': None, 'max_features': None, 'min_samples_leaf': 2, 'min_samples_split': 4}\n",
      "0.791667 (0.013864) with: {'criterion': 'gini', 'max_depth': None, 'max_features': None, 'min_samples_leaf': 2, 'min_samples_split': 5}\n",
      "0.793625 (0.014374) with: {'criterion': 'gini', 'max_depth': None, 'max_features': None, 'min_samples_leaf': 2, 'min_samples_split': 6}\n",
      "0.794542 (0.013970) with: {'criterion': 'gini', 'max_depth': None, 'max_features': None, 'min_samples_leaf': 2, 'min_samples_split': 7}\n",
      "0.796292 (0.014572) with: {'criterion': 'gini', 'max_depth': None, 'max_features': None, 'min_samples_leaf': 2, 'min_samples_split': 8}\n",
      "0.795208 (0.014656) with: {'criterion': 'gini', 'max_depth': None, 'max_features': None, 'min_samples_leaf': 2, 'min_samples_split': 9}\n",
      "0.000000 (0.000000) with: {'criterion': 'gini', 'max_depth': None, 'max_features': None, 'min_samples_leaf': 3, 'min_samples_split': 1}\n",
      "0.791208 (0.014866) with: {'criterion': 'gini', 'max_depth': None, 'max_features': None, 'min_samples_leaf': 3, 'min_samples_split': 2}\n",
      "0.793125 (0.015322) with: {'criterion': 'gini', 'max_depth': None, 'max_features': None, 'min_samples_leaf': 3, 'min_samples_split': 3}\n",
      "0.793167 (0.015715) with: {'criterion': 'gini', 'max_depth': None, 'max_features': None, 'min_samples_leaf': 3, 'min_samples_split': 4}\n",
      "0.791792 (0.014908) with: {'criterion': 'gini', 'max_depth': None, 'max_features': None, 'min_samples_leaf': 3, 'min_samples_split': 5}\n",
      "0.792250 (0.016283) with: {'criterion': 'gini', 'max_depth': None, 'max_features': None, 'min_samples_leaf': 3, 'min_samples_split': 6}\n",
      "0.794125 (0.014293) with: {'criterion': 'gini', 'max_depth': None, 'max_features': None, 'min_samples_leaf': 3, 'min_samples_split': 7}\n",
      "0.794375 (0.015220) with: {'criterion': 'gini', 'max_depth': None, 'max_features': None, 'min_samples_leaf': 3, 'min_samples_split': 8}\n",
      "0.794125 (0.014780) with: {'criterion': 'gini', 'max_depth': None, 'max_features': None, 'min_samples_leaf': 3, 'min_samples_split': 9}\n",
      "0.000000 (0.000000) with: {'criterion': 'gini', 'max_depth': None, 'max_features': None, 'min_samples_leaf': 4, 'min_samples_split': 1}\n",
      "0.789625 (0.015729) with: {'criterion': 'gini', 'max_depth': None, 'max_features': None, 'min_samples_leaf': 4, 'min_samples_split': 2}\n",
      "0.790292 (0.015461) with: {'criterion': 'gini', 'max_depth': None, 'max_features': None, 'min_samples_leaf': 4, 'min_samples_split': 3}\n",
      "0.790458 (0.014998) with: {'criterion': 'gini', 'max_depth': None, 'max_features': None, 'min_samples_leaf': 4, 'min_samples_split': 4}\n",
      "0.790792 (0.016003) with: {'criterion': 'gini', 'max_depth': None, 'max_features': None, 'min_samples_leaf': 4, 'min_samples_split': 5}\n",
      "0.790792 (0.014654) with: {'criterion': 'gini', 'max_depth': None, 'max_features': None, 'min_samples_leaf': 4, 'min_samples_split': 6}\n",
      "0.790583 (0.015237) with: {'criterion': 'gini', 'max_depth': None, 'max_features': None, 'min_samples_leaf': 4, 'min_samples_split': 7}\n",
      "0.790583 (0.016488) with: {'criterion': 'gini', 'max_depth': None, 'max_features': None, 'min_samples_leaf': 4, 'min_samples_split': 8}\n",
      "0.792208 (0.015274) with: {'criterion': 'gini', 'max_depth': None, 'max_features': None, 'min_samples_leaf': 4, 'min_samples_split': 9}\n",
      "0.000000 (0.000000) with: {'criterion': 'entropy', 'max_depth': None, 'max_features': None, 'min_samples_leaf': 1, 'min_samples_split': 1}\n",
      "0.810125 (0.014816) with: {'criterion': 'entropy', 'max_depth': None, 'max_features': None, 'min_samples_leaf': 1, 'min_samples_split': 2}\n",
      "0.810125 (0.014457) with: {'criterion': 'entropy', 'max_depth': None, 'max_features': None, 'min_samples_leaf': 1, 'min_samples_split': 3}\n",
      "0.809958 (0.015621) with: {'criterion': 'entropy', 'max_depth': None, 'max_features': None, 'min_samples_leaf': 1, 'min_samples_split': 4}\n",
      "0.808917 (0.014512) with: {'criterion': 'entropy', 'max_depth': None, 'max_features': None, 'min_samples_leaf': 1, 'min_samples_split': 5}\n",
      "0.810417 (0.015753) with: {'criterion': 'entropy', 'max_depth': None, 'max_features': None, 'min_samples_leaf': 1, 'min_samples_split': 6}\n",
      "0.809750 (0.015473) with: {'criterion': 'entropy', 'max_depth': None, 'max_features': None, 'min_samples_leaf': 1, 'min_samples_split': 7}\n",
      "0.810667 (0.015356) with: {'criterion': 'entropy', 'max_depth': None, 'max_features': None, 'min_samples_leaf': 1, 'min_samples_split': 8}\n",
      "0.809208 (0.016236) with: {'criterion': 'entropy', 'max_depth': None, 'max_features': None, 'min_samples_leaf': 1, 'min_samples_split': 9}\n",
      "0.000000 (0.000000) with: {'criterion': 'entropy', 'max_depth': None, 'max_features': None, 'min_samples_leaf': 2, 'min_samples_split': 1}\n",
      "0.787583 (0.017446) with: {'criterion': 'entropy', 'max_depth': None, 'max_features': None, 'min_samples_leaf': 2, 'min_samples_split': 2}\n",
      "0.788708 (0.016747) with: {'criterion': 'entropy', 'max_depth': None, 'max_features': None, 'min_samples_leaf': 2, 'min_samples_split': 3}\n",
      "0.789625 (0.014934) with: {'criterion': 'entropy', 'max_depth': None, 'max_features': None, 'min_samples_leaf': 2, 'min_samples_split': 4}\n",
      "0.792958 (0.017334) with: {'criterion': 'entropy', 'max_depth': None, 'max_features': None, 'min_samples_leaf': 2, 'min_samples_split': 5}\n",
      "0.795750 (0.015856) with: {'criterion': 'entropy', 'max_depth': None, 'max_features': None, 'min_samples_leaf': 2, 'min_samples_split': 6}\n",
      "0.797083 (0.013906) with: {'criterion': 'entropy', 'max_depth': None, 'max_features': None, 'min_samples_leaf': 2, 'min_samples_split': 7}\n",
      "0.799083 (0.016144) with: {'criterion': 'entropy', 'max_depth': None, 'max_features': None, 'min_samples_leaf': 2, 'min_samples_split': 8}\n",
      "0.799250 (0.017397) with: {'criterion': 'entropy', 'max_depth': None, 'max_features': None, 'min_samples_leaf': 2, 'min_samples_split': 9}\n",
      "0.000000 (0.000000) with: {'criterion': 'entropy', 'max_depth': None, 'max_features': None, 'min_samples_leaf': 3, 'min_samples_split': 1}\n",
      "0.790333 (0.013840) with: {'criterion': 'entropy', 'max_depth': None, 'max_features': None, 'min_samples_leaf': 3, 'min_samples_split': 2}\n",
      "0.791708 (0.013888) with: {'criterion': 'entropy', 'max_depth': None, 'max_features': None, 'min_samples_leaf': 3, 'min_samples_split': 3}\n",
      "0.790625 (0.014090) with: {'criterion': 'entropy', 'max_depth': None, 'max_features': None, 'min_samples_leaf': 3, 'min_samples_split': 4}\n",
      "0.791042 (0.015749) with: {'criterion': 'entropy', 'max_depth': None, 'max_features': None, 'min_samples_leaf': 3, 'min_samples_split': 5}\n",
      "0.790125 (0.014714) with: {'criterion': 'entropy', 'max_depth': None, 'max_features': None, 'min_samples_leaf': 3, 'min_samples_split': 6}\n",
      "0.791833 (0.014750) with: {'criterion': 'entropy', 'max_depth': None, 'max_features': None, 'min_samples_leaf': 3, 'min_samples_split': 7}\n",
      "0.792875 (0.013792) with: {'criterion': 'entropy', 'max_depth': None, 'max_features': None, 'min_samples_leaf': 3, 'min_samples_split': 8}\n",
      "0.794625 (0.014857) with: {'criterion': 'entropy', 'max_depth': None, 'max_features': None, 'min_samples_leaf': 3, 'min_samples_split': 9}\n",
      "0.000000 (0.000000) with: {'criterion': 'entropy', 'max_depth': None, 'max_features': None, 'min_samples_leaf': 4, 'min_samples_split': 1}\n",
      "0.788792 (0.015036) with: {'criterion': 'entropy', 'max_depth': None, 'max_features': None, 'min_samples_leaf': 4, 'min_samples_split': 2}\n",
      "0.789250 (0.014411) with: {'criterion': 'entropy', 'max_depth': None, 'max_features': None, 'min_samples_leaf': 4, 'min_samples_split': 3}\n",
      "0.788958 (0.014128) with: {'criterion': 'entropy', 'max_depth': None, 'max_features': None, 'min_samples_leaf': 4, 'min_samples_split': 4}\n",
      "0.789625 (0.013912) with: {'criterion': 'entropy', 'max_depth': None, 'max_features': None, 'min_samples_leaf': 4, 'min_samples_split': 5}\n",
      "0.788583 (0.013892) with: {'criterion': 'entropy', 'max_depth': None, 'max_features': None, 'min_samples_leaf': 4, 'min_samples_split': 6}\n",
      "0.788708 (0.014003) with: {'criterion': 'entropy', 'max_depth': None, 'max_features': None, 'min_samples_leaf': 4, 'min_samples_split': 7}\n",
      "0.788667 (0.014491) with: {'criterion': 'entropy', 'max_depth': None, 'max_features': None, 'min_samples_leaf': 4, 'min_samples_split': 8}\n",
      "0.790125 (0.014735) with: {'criterion': 'entropy', 'max_depth': None, 'max_features': None, 'min_samples_leaf': 4, 'min_samples_split': 9}\n"
     ]
    }
   ],
   "source": [
    "### Hyperparameter Tuning ###\n",
    "\n",
    "from sklearn.model_selection import RepeatedStratifiedKFold\n",
    "from sklearn.model_selection import GridSearchCV\n",
    "\n",
    "# DecisionTreeClassifier(criterion='gini',max_depth=12, max_features='sqrt', min_samples_leaf=2, min_samples_split=5,random_state=0)\n",
    "\n",
    "# define models and parameters\n",
    "model = DecisionTreeClassifier()\n",
    "#max_features = ['sqrt', 'log2', 'auto']\n",
    "max_features = [None]\n",
    "criterion = ['gini', 'entropy']\n",
    "#max_depth = [2,4,6,8,10,12]\n",
    "max_depth = [None]\n",
    "min_samples_split = range(1,10)\n",
    "min_samples_leaf = range(1,5)\n",
    "# define grid search\n",
    "grid = dict(max_depth=max_depth,max_features=max_features,criterion=criterion,min_samples_split=min_samples_split,min_samples_leaf=min_samples_leaf)\n",
    "cv = RepeatedStratifiedKFold(n_splits=10, n_repeats=3, random_state=1)\n",
    "grid_search = GridSearchCV(estimator=model, param_grid=grid, n_jobs=-1, cv=cv, scoring='accuracy',error_score=0)\n",
    "grid_result = grid_search.fit(X_train, y_train)\n",
    "# summarize results\n",
    "print(\"Best: %f using %s\" % (grid_result.best_score_, grid_result.best_params_))\n",
    "means = grid_result.cv_results_['mean_test_score']\n",
    "stds = grid_result.cv_results_['std_test_score']\n",
    "params = grid_result.cv_results_['params']\n",
    "for mean, stdev, param in zip(means, stds, params):\n",
    "    print(\"%f (%f) with: %r\" % (mean, stdev, param))"
   ]
  },
  {
   "cell_type": "code",
   "execution_count": 26,
   "metadata": {},
   "outputs": [
    {
     "data": {
      "text/html": [
       "<div>\n",
       "<style scoped>\n",
       "    .dataframe tbody tr th:only-of-type {\n",
       "        vertical-align: middle;\n",
       "    }\n",
       "\n",
       "    .dataframe tbody tr th {\n",
       "        vertical-align: top;\n",
       "    }\n",
       "\n",
       "    .dataframe thead th {\n",
       "        text-align: right;\n",
       "    }\n",
       "</style>\n",
       "<table border=\"1\" class=\"dataframe\">\n",
       "  <thead>\n",
       "    <tr style=\"text-align: right;\">\n",
       "      <th></th>\n",
       "      <th>mean_test_score</th>\n",
       "      <th>max_features</th>\n",
       "      <th>criterion</th>\n",
       "      <th>max_depth</th>\n",
       "      <th>min_samples_split</th>\n",
       "      <th>min_samples_leaf</th>\n",
       "    </tr>\n",
       "  </thead>\n",
       "  <tbody>\n",
       "    <tr>\n",
       "      <th>0</th>\n",
       "      <td>0.811250</td>\n",
       "      <td>None</td>\n",
       "      <td>gini</td>\n",
       "      <td>None</td>\n",
       "      <td>2</td>\n",
       "      <td>1</td>\n",
       "    </tr>\n",
       "    <tr>\n",
       "      <th>1</th>\n",
       "      <td>0.810667</td>\n",
       "      <td>None</td>\n",
       "      <td>entropy</td>\n",
       "      <td>None</td>\n",
       "      <td>8</td>\n",
       "      <td>1</td>\n",
       "    </tr>\n",
       "    <tr>\n",
       "      <th>2</th>\n",
       "      <td>0.810417</td>\n",
       "      <td>None</td>\n",
       "      <td>entropy</td>\n",
       "      <td>None</td>\n",
       "      <td>6</td>\n",
       "      <td>1</td>\n",
       "    </tr>\n",
       "    <tr>\n",
       "      <th>3</th>\n",
       "      <td>0.810125</td>\n",
       "      <td>None</td>\n",
       "      <td>entropy</td>\n",
       "      <td>None</td>\n",
       "      <td>2</td>\n",
       "      <td>1</td>\n",
       "    </tr>\n",
       "    <tr>\n",
       "      <th>4</th>\n",
       "      <td>0.810125</td>\n",
       "      <td>None</td>\n",
       "      <td>entropy</td>\n",
       "      <td>None</td>\n",
       "      <td>3</td>\n",
       "      <td>1</td>\n",
       "    </tr>\n",
       "    <tr>\n",
       "      <th>5</th>\n",
       "      <td>0.809958</td>\n",
       "      <td>None</td>\n",
       "      <td>gini</td>\n",
       "      <td>None</td>\n",
       "      <td>3</td>\n",
       "      <td>1</td>\n",
       "    </tr>\n",
       "    <tr>\n",
       "      <th>6</th>\n",
       "      <td>0.809958</td>\n",
       "      <td>None</td>\n",
       "      <td>entropy</td>\n",
       "      <td>None</td>\n",
       "      <td>4</td>\n",
       "      <td>1</td>\n",
       "    </tr>\n",
       "    <tr>\n",
       "      <th>7</th>\n",
       "      <td>0.809875</td>\n",
       "      <td>None</td>\n",
       "      <td>gini</td>\n",
       "      <td>None</td>\n",
       "      <td>8</td>\n",
       "      <td>1</td>\n",
       "    </tr>\n",
       "    <tr>\n",
       "      <th>8</th>\n",
       "      <td>0.809750</td>\n",
       "      <td>None</td>\n",
       "      <td>entropy</td>\n",
       "      <td>None</td>\n",
       "      <td>7</td>\n",
       "      <td>1</td>\n",
       "    </tr>\n",
       "    <tr>\n",
       "      <th>9</th>\n",
       "      <td>0.809542</td>\n",
       "      <td>None</td>\n",
       "      <td>gini</td>\n",
       "      <td>None</td>\n",
       "      <td>4</td>\n",
       "      <td>1</td>\n",
       "    </tr>\n",
       "  </tbody>\n",
       "</table>\n",
       "</div>"
      ],
      "text/plain": [
       "   mean_test_score max_features criterion max_depth  min_samples_split  \\\n",
       "0         0.811250         None      gini      None                  2   \n",
       "1         0.810667         None   entropy      None                  8   \n",
       "2         0.810417         None   entropy      None                  6   \n",
       "3         0.810125         None   entropy      None                  2   \n",
       "4         0.810125         None   entropy      None                  3   \n",
       "5         0.809958         None      gini      None                  3   \n",
       "6         0.809958         None   entropy      None                  4   \n",
       "7         0.809875         None      gini      None                  8   \n",
       "8         0.809750         None   entropy      None                  7   \n",
       "9         0.809542         None      gini      None                  4   \n",
       "\n",
       "   min_samples_leaf  \n",
       "0                 1  \n",
       "1                 1  \n",
       "2                 1  \n",
       "3                 1  \n",
       "4                 1  \n",
       "5                 1  \n",
       "6                 1  \n",
       "7                 1  \n",
       "8                 1  \n",
       "9                 1  "
      ]
     },
     "execution_count": 26,
     "metadata": {},
     "output_type": "execute_result"
    }
   ],
   "source": [
    "dectree_max_features, dectree_criterion, dectree_max_depth, dectree_min_samples_split, dectree_min_samples_leaf = [], [], [], [], []\n",
    "\n",
    "\n",
    "for sample in params:\n",
    "    dectree_max_features.append(sample['max_features'])\n",
    "    dectree_criterion.append(sample['criterion'])\n",
    "    dectree_max_depth.append(sample['max_depth'])\n",
    "    dectree_min_samples_split.append(sample['min_samples_split'])\n",
    "    dectree_min_samples_leaf.append(sample['min_samples_leaf'])\n",
    "\n",
    "\n",
    "dectree_dict = {'mean_test_score': means, \n",
    "                    'max_features': dectree_max_features,\n",
    "                    'criterion': dectree_criterion,\n",
    "                    'max_depth': dectree_max_depth,\n",
    "                    'min_samples_split': dectree_min_samples_split,\n",
    "                    'min_samples_leaf': dectree_min_samples_leaf}\n",
    "\n",
    "final_dectree = pd.DataFrame(dectree_dict)\n",
    "\n",
    "final_dectree.sort_values(by = 'mean_test_score', ascending=False).head(10).reset_index(drop=True)"
   ]
  },
  {
   "cell_type": "code",
   "execution_count": null,
   "metadata": {},
   "outputs": [],
   "source": [
    "# Final dataframes of all hyperparameter results (top 10 only)\n",
    "\n",
    "#final_nb.sort_values(by = 'mean_test_score', ascending=False).head(10).reset_index(drop=True)\n",
    "\n",
    "# final_svc.sort_values(by = 'mean_test_score', ascending=False).head(10).reset_index(drop=True)\n",
    "\n",
    "# final_logistic.sort_values(by = 'mean_test_score', ascending=False).head(10).reset_index(drop=True)\n",
    "\n",
    "# final_randfor.sort_values(by = 'mean_test_score', ascending=False).head(10).reset_index(drop=True)\n",
    "\n",
    "# final_dectree.sort_values(by = 'mean_test_score', ascending=False).head(10).reset_index(drop=True)"
   ]
  },
  {
   "cell_type": "code",
   "execution_count": null,
   "metadata": {},
   "outputs": [],
   "source": [
    "\n",
    "nb_dict = {'mean_test_score': [0.785833,\n",
    "                                0.759958,\n",
    "                                0.804583,\n",
    "                                0.807917,\n",
    "                                0.792333, \n",
    "                                0.814208],\n",
    "            'alpha': [0, 0, 0.5, 0.5, 1, 1],\n",
    "            'fit_prior': [True, False, True, False, True, False]}\n",
    "\n",
    "final_nb = pd.DataFrame(nb_dict)\n",
    "\n",
    "final_nb.sort_values(by = 'mean_test_score', ascending=False).head(10).reset_index(drop=True)"
   ]
  },
  {
   "cell_type": "code",
   "execution_count": null,
   "metadata": {},
   "outputs": [],
   "source": [
    "'linear',\n",
    "'poly',\n",
    "'rbf',\n",
    "'sigmoid',\n",
    "'linear',\n",
    "'poly',\n",
    "'rbf',\n",
    "'sigmoid',\n",
    "'linear',\n",
    "'poly',\n",
    "'rbf',\n",
    "'sigmoid',\n",
    "'linear',\n",
    "'poly',\n",
    "'rbf',\n",
    "'sigmoid',\n",
    "'linear',\n",
    "'poly',\n",
    "'rbf',\n",
    "'sigmoid',\n",
    "\n",
    "svc_dict = {'mean_test_score': [0.841875, \n",
    "                                0.432500, \n",
    "                                0.862125, \n",
    "                                0.789458, \n",
    "                                0.844042, \n",
    "                                0.647333, \n",
    "                                0.862125, \n",
    "                                0.827417, \n",
    "                                0.862000, \n",
    "                                0.715500, \n",
    "                                0.856125, \n",
    "                                0.858833, \n",
    "                                0.779667, \n",
    "                                0.371833, \n",
    "                                0.701917, \n",
    "                                0.778583, \n",
    "                                0.395125, \n",
    "                                0.369000, \n",
    "                                0.369000, \n",
    "                                0.397500],\n",
    "            'C': [50,\n",
    "                    50,\n",
    "                    50,\n",
    "                    50,\n",
    "                    10,\n",
    "                    10,\n",
    "                    10,\n",
    "                    10,\n",
    "                    1.0,\n",
    "                    1.0,\n",
    "                    1.0,\n",
    "                    1.0,\n",
    "                    0.1,\n",
    "                    0.1,\n",
    "                    0.1,\n",
    "                    0.1,\n",
    "                    0.01,\n",
    "                    0.01,\n",
    "                    0.01,\n",
    "                    0.01], \n",
    "            'kernel': ['linear',\n",
    "                        'poly',\n",
    "                        'rbf',\n",
    "                        'sigmoid',\n",
    "                        'linear',\n",
    "                        'poly',\n",
    "                        'rbf',\n",
    "                        'sigmoid',\n",
    "                        'linear',\n",
    "                        'poly',\n",
    "                        'rbf',\n",
    "                        'sigmoid',\n",
    "                        'linear',\n",
    "                        'poly',\n",
    "                        'rbf',\n",
    "                        'sigmoid',\n",
    "                        'linear',\n",
    "                        'poly',\n",
    "                        'rbf',\n",
    "                        'sigmoid']}\n",
    "\n",
    "final_svc = pd.DataFrame(svc_dict)\n",
    "\n",
    "final_svc.sort_values(by = 'mean_test_score', ascending=False).head(10).reset_index(drop=True)"
   ]
  },
  {
   "cell_type": "code",
   "execution_count": null,
   "metadata": {},
   "outputs": [],
   "source": [
    "final_logistic.sort_values(by = 'mean_test_score', ascending=False).head(10).reset_index(drop=True)\n"
   ]
  },
  {
   "cell_type": "code",
   "execution_count": null,
   "metadata": {},
   "outputs": [],
   "source": [
    "\n",
    "final_randfor.sort_values(by = 'mean_test_score', ascending=False).head(10).reset_index(drop=True)\n"
   ]
  },
  {
   "cell_type": "code",
   "execution_count": null,
   "metadata": {},
   "outputs": [],
   "source": [
    "\n",
    "final_dectree.sort_values(by = 'mean_test_score', ascending=False).head(10).reset_index(drop=True)"
   ]
  },
  {
   "cell_type": "code",
   "execution_count": null,
   "metadata": {},
   "outputs": [],
   "source": []
  },
  {
   "cell_type": "code",
   "execution_count": null,
   "metadata": {},
   "outputs": [],
   "source": []
  },
  {
   "cell_type": "code",
   "execution_count": null,
   "metadata": {},
   "outputs": [],
   "source": []
  },
  {
   "cell_type": "code",
   "execution_count": null,
   "metadata": {},
   "outputs": [],
   "source": []
  },
  {
   "cell_type": "code",
   "execution_count": null,
   "metadata": {},
   "outputs": [],
   "source": []
  },
  {
   "cell_type": "code",
   "execution_count": null,
   "metadata": {},
   "outputs": [],
   "source": []
  },
  {
   "cell_type": "code",
   "execution_count": null,
   "metadata": {},
   "outputs": [],
   "source": []
  },
  {
   "cell_type": "code",
   "execution_count": null,
   "metadata": {},
   "outputs": [],
   "source": []
  },
  {
   "cell_type": "code",
   "execution_count": null,
   "metadata": {},
   "outputs": [],
   "source": []
  },
  {
   "cell_type": "code",
   "execution_count": null,
   "metadata": {},
   "outputs": [],
   "source": []
  },
  {
   "cell_type": "code",
   "execution_count": null,
   "metadata": {},
   "outputs": [],
   "source": []
  },
  {
   "cell_type": "code",
   "execution_count": null,
   "metadata": {},
   "outputs": [],
   "source": []
  },
  {
   "cell_type": "code",
   "execution_count": null,
   "metadata": {},
   "outputs": [],
   "source": []
  },
  {
   "cell_type": "code",
   "execution_count": null,
   "metadata": {},
   "outputs": [],
   "source": []
  },
  {
   "cell_type": "code",
   "execution_count": null,
   "metadata": {},
   "outputs": [],
   "source": []
  },
  {
   "cell_type": "code",
   "execution_count": null,
   "metadata": {},
   "outputs": [],
   "source": []
  },
  {
   "cell_type": "code",
   "execution_count": null,
   "metadata": {},
   "outputs": [],
   "source": []
  },
  {
   "cell_type": "markdown",
   "metadata": {},
   "source": [
    "## Applying ML Models"
   ]
  },
  {
   "cell_type": "code",
   "execution_count": null,
   "metadata": {},
   "outputs": [],
   "source": [
    "# Applying models\n",
    "import matplotlib.pyplot as plt\n",
    "from sklearn.linear_model import LogisticRegression\n",
    "from sklearn.ensemble import RandomForestClassifier\n",
    "from sklearn.naive_bayes import MultinomialNB\n",
    "from sklearn.svm import LinearSVC\n",
    "from sklearn.svm import SVC\n",
    "from sklearn.model_selection import cross_val_score\n",
    "\n",
    "labels = df['category']\n",
    "# models = [\n",
    "#     RandomForestClassifier(n_estimators=1000, max_features='log2', criterion='entropy', random_state=0),\n",
    "#     LinearSVC(C = 1, random_state=0),\n",
    "#     MultinomialNB(alpha=1, fit_prior=False,),\n",
    "#     LogisticRegression(C=10, penalty='l2', solver='liblinear',random_state=0),\n",
    "#     DecisionTreeClassifier(criterion='entropy',max_features=None,random_state=0),\n",
    "# ]\n",
    "\n",
    "models = [\n",
    "    RandomForestClassifier(n_estimators=1000, max_features='sqrt', criterion='gini', random_state=0),\n",
    "    SVC(C = 10, kernel = 'rbf', random_state=0),\n",
    "    MultinomialNB(alpha=1, fit_prior=False,),\n",
    "    LogisticRegression(C=10, penalty='l2', solver='liblinear',random_state=0),\n",
    "    DecisionTreeClassifier(criterion='gini',max_depth=12, max_features='sqrt', min_samples_leaf=2, min_samples_split=5,random_state=0),\n",
    "]\n",
    "\n",
    "\n",
    "cv_df = pd.DataFrame()\n",
    "entries = []\n",
    "\n",
    "for model in models:\n",
    "  model_name = model.__class__.__name__\n",
    "  accuracies = cross_val_score(model, features, labels, scoring='accuracy', cv=10)\n",
    "  for fold_idx, accuracy in enumerate(accuracies):\n",
    "    entries.append((model_name, fold_idx, accuracy))\n",
    "\n",
    "cv_df = pd.DataFrame(entries, columns=['model_name', 'fold_idx', 'accuracy'])\n",
    "\n",
    "import seaborn as sns\n",
    "sns.boxplot(x='model_name', y='accuracy', data=cv_df)\n",
    "sns.stripplot(x='model_name', y='accuracy', data=cv_df, size=10, jitter=True, linewidth=1)\n",
    "plt.show()"
   ]
  },
  {
   "cell_type": "code",
   "execution_count": null,
   "metadata": {},
   "outputs": [],
   "source": [
    "# Printing the accuracies\n",
    "cv_df.groupby('model_name').accuracy.mean()"
   ]
  },
  {
   "cell_type": "code",
   "execution_count": null,
   "metadata": {},
   "outputs": [],
   "source": [
    "# for scatter plot -> at the bottom\n",
    "labels = np.unique(y_test)\n",
    "acc_corrective = []\n",
    "acc_imperative = []\n",
    "acc_interrogative = []\n",
    "acc_miscellaneous = []\n",
    "acc_negative = []\n",
    "acc_positive = []\n",
    "\n",
    "# Function to show the accuracy of each class\n",
    "def acc_each_class(cf_matrix):\n",
    "    total_comments = cf_matrix.sum(axis=1)\n",
    "    correctly_classified = np.diagonal(cf_matrix)\n",
    "    accuracy_each_class = correctly_classified/total_comments\n",
    "    return accuracy_each_class"
   ]
  },
  {
   "cell_type": "code",
   "execution_count": null,
   "metadata": {},
   "outputs": [],
   "source": [
    "# Multinomial NB\n",
    "from sklearn.naive_bayes import MultinomialNB\n",
    "\n",
    "classifier = MultinomialNB(alpha=1, fit_prior=False,)\n",
    "classifier.fit(X_train, y_train)\n",
    "\n",
    "# Predicting the Test set results\n",
    "y_pred = classifier.predict(X_test)\n",
    "\n",
    "# Making the Confusion Matrix\n",
    "from sklearn.metrics import confusion_matrix\n",
    "cm_mnb = confusion_matrix(y_test, y_pred)\n",
    "\n",
    "print(\"accuracy score: \" + str(classifier.score(X_test, y_test)))"
   ]
  },
  {
   "cell_type": "code",
   "execution_count": null,
   "metadata": {},
   "outputs": [],
   "source": [
    "accuracies = acc_each_class(cm_mnb)\n",
    "\n",
    "acc_corrective.append(accuracies[0])\n",
    "acc_imperative.append(accuracies[1])\n",
    "acc_interrogative.append(accuracies[2])\n",
    "acc_miscellaneous.append(accuracies[3])\n",
    "acc_negative.append(accuracies[4])\n",
    "acc_positive.append(accuracies[5])"
   ]
  },
  {
   "cell_type": "code",
   "execution_count": null,
   "metadata": {},
   "outputs": [],
   "source": [
    "# ### Hyperparameter Tuning ###\n",
    "\n",
    "# from sklearn.model_selection import RepeatedStratifiedKFold\n",
    "# from sklearn.model_selection import GridSearchCV\n",
    "# # from sklearn.ensemble import MultinomialNB\n",
    "\n",
    "# # define models and parameters\n",
    "# model = MultinomialNB()\n",
    "# fit_prior=[True, False]\n",
    "# alpha=[0,0.5,1]\n",
    "\n",
    "# # define grid search\n",
    "# grid = dict(fit_prior=fit_prior,alpha=alpha)\n",
    "# cv = RepeatedStratifiedKFold(n_splits=10, n_repeats=3, random_state=1)\n",
    "# grid_search = GridSearchCV(estimator=model, param_grid=grid, n_jobs=-1, cv=cv, scoring='accuracy',error_score=0)\n",
    "# grid_result = grid_search.fit(X_train, y_train)\n",
    "# # summarize results\n",
    "# print(\"Best: %f using %s\" % (grid_result.best_score_, grid_result.best_params_))\n",
    "# means = grid_result.cv_results_['mean_test_score']\n",
    "# stds = grid_result.cv_results_['std_test_score']\n",
    "# params = grid_result.cv_results_['params']\n",
    "# for mean, stdev, param in zip(means, stds, params):\n",
    "#     print(\"%f (%f) with: %r\" % (mean, stdev, param))"
   ]
  },
  {
   "cell_type": "code",
   "execution_count": null,
   "metadata": {},
   "outputs": [],
   "source": [
    "# Linear SVC\n",
    "from sklearn.svm import SVC\n",
    "\n",
    "# classifier = SVC(kernel = 'linear', random_state = 0, C = 1, gamma = 0.1)\n",
    "classifier = SVC(kernel = 'linear', random_state = 0, C = 1, gamma = 'scale',)\n",
    "classifier.fit(X_train, y_train)\n",
    "\n",
    "# Predicting the Test set results\n",
    "y_pred = classifier.predict(X_test)\n",
    "\n",
    "# Making the Confusion Matrix\n",
    "from sklearn.metrics import confusion_matrix\n",
    "cm_lsvc = confusion_matrix(y_test, y_pred)\n",
    "\n",
    "print(\"accuracy score: \" + str(classifier.score(X_test, y_test)))"
   ]
  },
  {
   "cell_type": "code",
   "execution_count": null,
   "metadata": {},
   "outputs": [],
   "source": [
    "accuracies = acc_each_class(cm_lsvc)\n",
    "\n",
    "acc_corrective.append(accuracies[0])\n",
    "acc_imperative.append(accuracies[1])\n",
    "acc_interrogative.append(accuracies[2])\n",
    "acc_miscellaneous.append(accuracies[3])\n",
    "acc_negative.append(accuracies[4])\n",
    "acc_positive.append(accuracies[5])"
   ]
  },
  {
   "cell_type": "code",
   "execution_count": null,
   "metadata": {},
   "outputs": [],
   "source": [
    "# ### Hyperparameter Tuning ###\n",
    "\n",
    "# from sklearn.model_selection import RepeatedStratifiedKFold\n",
    "# from sklearn.model_selection import GridSearchCV\n",
    "# from sklearn.svm import SVC\n",
    "\n",
    "# # define model and parameters\n",
    "# model = SVC()\n",
    "# kernel = ['linear','poly', 'rbf', 'sigmoid']\n",
    "# C = [50, 10, 1.0, 0.1, 0.01]\n",
    "# gamma = ['scale']\n",
    "# # define grid search\n",
    "# grid = dict(kernel=kernel,C=C,gamma=gamma)\n",
    "# cv = RepeatedStratifiedKFold(n_splits=10, n_repeats=3, random_state=1)\n",
    "# grid_search = GridSearchCV(estimator=model, param_grid=grid, n_jobs=-1, cv=cv, scoring='accuracy',error_score=0)\n",
    "# grid_result = grid_search.fit(X_train, y_train)\n",
    "# # summarize results\n",
    "# print(\"Best: %f using %s\" % (grid_result.best_score_, grid_result.best_params_))\n",
    "# means = grid_result.cv_results_['mean_test_score']\n",
    "# stds = grid_result.cv_results_['std_test_score']\n",
    "# params = grid_result.cv_results_['params']\n",
    "# for mean, stdev, param in zip(means, stds, params):\n",
    "#     print(\"%f (%f) with: %r\" % (mean, stdev, param))"
   ]
  },
  {
   "cell_type": "code",
   "execution_count": null,
   "metadata": {},
   "outputs": [],
   "source": []
  },
  {
   "cell_type": "code",
   "execution_count": null,
   "metadata": {},
   "outputs": [],
   "source": [
    "# # Naive Bayes\n",
    "# from sklearn.naive_bayes import GaussianNB\n",
    "\n",
    "# classifier = GaussianNB()\n",
    "# classifier.fit(X_train, y_train)\n",
    "\n",
    "# # Predicting the Test set results\n",
    "# y_pred = classifier.predict(X_test)\n",
    "\n",
    "# # Making the Confusion Matrix\n",
    "# from sklearn.metrics import confusion_matrix\n",
    "# cm = confusion_matrix(y_test, y_pred)\n",
    "\n",
    "# print(\"accuracy score: \" + str(classifier.score(X_test, y_test)))"
   ]
  },
  {
   "cell_type": "code",
   "execution_count": null,
   "metadata": {},
   "outputs": [],
   "source": [
    "# Logistic Regression\n",
    "from sklearn.linear_model import LogisticRegression\n",
    "\n",
    "classifier = LogisticRegression(C=10, penalty='l2', solver='liblinear',random_state = 0)\n",
    "classifier.fit(X_train, y_train)\n",
    "\n",
    "# Predicting the Test set results\n",
    "y_pred = classifier.predict(X_test)\n",
    "\n",
    "# Making the Confusion Matrix\n",
    "from sklearn.metrics import confusion_matrix\n",
    "cm_lr = confusion_matrix(y_test, y_pred)\n",
    "\n",
    "print(\"accuracy score: \" + str(classifier.score(X_test, y_test)))"
   ]
  },
  {
   "cell_type": "code",
   "execution_count": null,
   "metadata": {},
   "outputs": [],
   "source": [
    "accuracies = acc_each_class(cm_lr)\n",
    "\n",
    "acc_corrective.append(accuracies[0])\n",
    "acc_imperative.append(accuracies[1])\n",
    "acc_interrogative.append(accuracies[2])\n",
    "acc_miscellaneous.append(accuracies[3])\n",
    "acc_negative.append(accuracies[4])\n",
    "acc_positive.append(accuracies[5])"
   ]
  },
  {
   "cell_type": "code",
   "execution_count": null,
   "metadata": {},
   "outputs": [],
   "source": [
    "# acc_corrective"
   ]
  },
  {
   "cell_type": "code",
   "execution_count": null,
   "metadata": {
    "scrolled": true
   },
   "outputs": [],
   "source": [
    "# ### Hyperparameter Tuning ###\n",
    "\n",
    "# from sklearn.model_selection import RepeatedStratifiedKFold\n",
    "# from sklearn.model_selection import GridSearchCV\n",
    "# from sklearn.linear_model import LogisticRegression\n",
    "\n",
    "# # define models and parameters\n",
    "# model = LogisticRegression()\n",
    "# solvers = ['newton-cg', 'lbfgs', 'liblinear']\n",
    "# penalty = ['l1', 'l2', 'elasticnet', 'none']\n",
    "# c_values = [100, 10, 1.0, 0.1, 0.01]\n",
    "# # define grid search\n",
    "# grid = dict(solver=solvers,penalty=penalty,C=c_values)\n",
    "# cv = RepeatedStratifiedKFold(n_splits=10, n_repeats=3, random_state=1)\n",
    "# grid_search = GridSearchCV(estimator=model, param_grid=grid, n_jobs=-1, cv=cv, scoring='accuracy',error_score=0)\n",
    "# grid_result = grid_search.fit(X_train, y_train)\n",
    "# # summarize results\n",
    "# print(\"Best: %f using %s\" % (grid_result.best_score_, grid_result.best_params_))\n",
    "# means = grid_result.cv_results_['mean_test_score']\n",
    "# stds = grid_result.cv_results_['std_test_score']\n",
    "# params = grid_result.cv_results_['params']\n",
    "# for mean, stdev, param in zip(means, stds, params):\n",
    "#     print(\"%f (%f) with: %r\" % (mean, stdev, param))"
   ]
  },
  {
   "cell_type": "code",
   "execution_count": null,
   "metadata": {},
   "outputs": [],
   "source": [
    "# # KNN\n",
    "# from sklearn.neighbors import KNeighborsClassifier\n",
    "\n",
    "# classifier = KNeighborsClassifier(n_neighbors = 5, metric = 'minkowski', p = 2)\n",
    "# classifier.fit(X_train, y_train)\n",
    "\n",
    "# # Predicting the Test set results\n",
    "# y_pred = classifier.predict(X_test)\n",
    "\n",
    "# # Making the Confusion Matrix\n",
    "# from sklearn.metrics import confusion_matrix\n",
    "# cm = confusion_matrix(y_test, y_pred)\n",
    "\n",
    "# print(\"accuracy score: \" + str(classifier.score(X_test, y_test)))"
   ]
  },
  {
   "cell_type": "code",
   "execution_count": null,
   "metadata": {},
   "outputs": [],
   "source": [
    "# # Kernal SVC RBF\n",
    "\n",
    "# classifier = SVC(kernel = 'rbf', random_state = 0)\n",
    "# classifier.fit(X_train, y_train)\n",
    "\n",
    "# # Predicting the Test set results\n",
    "# y_pred = classifier.predict(X_test)\n",
    "\n",
    "# # Making the Confusion Matrix\n",
    "# from sklearn.metrics import confusion_matrix\n",
    "# cm = confusion_matrix(y_test, y_pred)\n",
    "\n",
    "# print(\"accuracy score: \" + str(classifier.score(X_test, y_test)))"
   ]
  },
  {
   "cell_type": "code",
   "execution_count": null,
   "metadata": {},
   "outputs": [],
   "source": [
    "# # Kernal SVC sigmoid\n",
    "\n",
    "# classifier = SVC(kernel = 'sigmoid', random_state = 0)\n",
    "# classifier.fit(X_train, y_train)\n",
    "\n",
    "# # Predicting the Test set results\n",
    "# y_pred = classifier.predict(X_test)\n",
    "\n",
    "# # Making the Confusion Matrix\n",
    "# from sklearn.metrics import confusion_matrix\n",
    "# cm = confusion_matrix(y_test, y_pred)\n",
    "\n",
    "# print(\"accuracy score: \" + str(classifier.score(X_test, y_test)))"
   ]
  },
  {
   "cell_type": "code",
   "execution_count": null,
   "metadata": {},
   "outputs": [],
   "source": [
    "# # Kernal SVC poly\n",
    "\n",
    "# classifier = SVC(kernel = 'poly', random_state = 0)\n",
    "# classifier.fit(X_train, y_train)\n",
    "\n",
    "# # Predicting the Test set results\n",
    "# y_pred = classifier.predict(X_test)\n",
    "\n",
    "# # Making the Confusion Matrix\n",
    "# from sklearn.metrics import confusion_matrix\n",
    "# cm = confusion_matrix(y_test, y_pred)\n",
    "\n",
    "# print(\"accuracy score: \" + str(classifier.score(X_test, y_test)))"
   ]
  },
  {
   "cell_type": "code",
   "execution_count": null,
   "metadata": {},
   "outputs": [],
   "source": [
    "# Random Forest\n",
    "from sklearn.ensemble import RandomForestClassifier\n",
    "\n",
    "classifier = RandomForestClassifier(criterion='entropy', max_features='log2', n_estimators=1000, random_state = 0)\n",
    "classifier.fit(X_train, y_train)\n",
    "\n",
    "# Predicting the Test set results\n",
    "y_pred = classifier.predict(X_test)\n",
    "\n",
    "# Making the Confusion Matrix\n",
    "from sklearn.metrics import confusion_matrix\n",
    "cm_rf = confusion_matrix(y_test, y_pred)\n",
    "\n",
    "print(\"accuracy score: \" + str(classifier.score(X_test, y_test)))"
   ]
  },
  {
   "cell_type": "code",
   "execution_count": null,
   "metadata": {},
   "outputs": [],
   "source": [
    "accuracies = acc_each_class(cm_rf)\n",
    "\n",
    "acc_corrective.append(accuracies[0])\n",
    "acc_imperative.append(accuracies[1])\n",
    "acc_interrogative.append(accuracies[2])\n",
    "acc_miscellaneous.append(accuracies[3])\n",
    "acc_negative.append(accuracies[4])\n",
    "acc_positive.append(accuracies[5])"
   ]
  },
  {
   "cell_type": "code",
   "execution_count": null,
   "metadata": {},
   "outputs": [],
   "source": [
    "# ### Hyperparameter Tuning ###\n",
    "\n",
    "# from sklearn.model_selection import RepeatedStratifiedKFold\n",
    "# from sklearn.model_selection import GridSearchCV\n",
    "# from sklearn.ensemble import RandomForestClassifier\n",
    "\n",
    "# # define models and parameters\n",
    "# model = RandomForestClassifier()\n",
    "# n_estimators = [10, 100, 1000]\n",
    "# max_features = ['sqrt', 'log2']\n",
    "# criterion = ['gini', 'entropy']\n",
    "# # define grid search\n",
    "# grid = dict(n_estimators=n_estimators,max_features=max_features,criterion=criterion)\n",
    "# cv = RepeatedStratifiedKFold(n_splits=10, n_repeats=3, random_state=1)\n",
    "# grid_search = GridSearchCV(estimator=model, param_grid=grid, n_jobs=-1, cv=cv, scoring='accuracy',error_score=0)\n",
    "# grid_result = grid_search.fit(X_train, y_train)\n",
    "# # summarize results\n",
    "# print(\"Best: %f using %s\" % (grid_result.best_score_, grid_result.best_params_))\n",
    "# means = grid_result.cv_results_['mean_test_score']\n",
    "# stds = grid_result.cv_results_['std_test_score']\n",
    "# params = grid_result.cv_results_['params']\n",
    "# for mean, stdev, param in zip(means, stds, params):\n",
    "#     print(\"%f (%f) with: %r\" % (mean, stdev, param))"
   ]
  },
  {
   "cell_type": "code",
   "execution_count": null,
   "metadata": {},
   "outputs": [],
   "source": [
    "# Decision Tree\n",
    "# from sklearn.tree import DecisionTreeClassifier\n",
    "\n",
    "classifier = DecisionTreeClassifier(criterion='entropy', \n",
    "                                    max_features=None, random_state=0)\n",
    "classifier.fit(X_train, y_train)\n",
    "\n",
    "# Predicting the Test set results\n",
    "y_pred = classifier.predict(X_test)\n",
    "\n",
    "# Making the Confusion Matrix\n",
    "from sklearn.metrics import confusion_matrix\n",
    "cm_dt = confusion_matrix(y_test, y_pred)\n",
    "\n",
    "print(\"accuracy score: \" + str(classifier.score(X_test, y_test)))"
   ]
  },
  {
   "cell_type": "code",
   "execution_count": null,
   "metadata": {},
   "outputs": [],
   "source": [
    "accuracies = acc_each_class(cm_dt)\n",
    "\n",
    "acc_corrective.append(accuracies[0])\n",
    "acc_imperative.append(accuracies[1])\n",
    "acc_interrogative.append(accuracies[2])\n",
    "acc_miscellaneous.append(accuracies[3])\n",
    "acc_negative.append(accuracies[4])\n",
    "acc_positive.append(accuracies[5])"
   ]
  },
  {
   "cell_type": "code",
   "execution_count": null,
   "metadata": {},
   "outputs": [],
   "source": [
    "# ### Hyperparameter Tuning ###\n",
    "\n",
    "# from sklearn.model_selection import RepeatedStratifiedKFold\n",
    "# from sklearn.model_selection import GridSearchCV\n",
    "\n",
    "# # define models and parameters\n",
    "# model = DecisionTreeClassifier()\n",
    "# max_features = ['sqrt', 'log2', 'auto']\n",
    "# criterion = ['gini', 'entropy']\n",
    "# max_depth = [2,4,6,8,10,12]\n",
    "# min_samples_split = range(1,10)\n",
    "# min_samples_leaf = range(1,5)\n",
    "# # define grid search\n",
    "# grid = dict(max_depth=max_depth,max_features=max_features,criterion=criterion,min_samples_split=min_samples_split,min_samples_leaf=min_samples_leaf)\n",
    "# cv = RepeatedStratifiedKFold(n_splits=10, n_repeats=3, random_state=1)\n",
    "# grid_search = GridSearchCV(estimator=model, param_grid=grid, n_jobs=-1, cv=cv, scoring='accuracy',error_score=0)\n",
    "# grid_result = grid_search.fit(X_train, y_train)\n",
    "# # summarize results\n",
    "# print(\"Best: %f using %s\" % (grid_result.best_score_, grid_result.best_params_))\n",
    "# means = grid_result.cv_results_['mean_test_score']\n",
    "# stds = grid_result.cv_results_['std_test_score']\n",
    "# params = grid_result.cv_results_['params']\n",
    "# for mean, stdev, param in zip(means, stds, params):\n",
    "#     print(\"%f (%f) with: %r\" % (mean, stdev, param))"
   ]
  },
  {
   "cell_type": "markdown",
   "metadata": {},
   "source": [
    "## Histogram"
   ]
  },
  {
   "cell_type": "code",
   "execution_count": null,
   "metadata": {},
   "outputs": [],
   "source": [
    "def acc_each_category(cf_matrix):\n",
    "#     total_comments = cf_matrix.sum(axis=1)\n",
    "    correctly_classified = np.diagonal(cf_matrix)\n",
    "    return correctly_classified\n",
    "\n",
    "y = cm_dt.sum(axis=1)\n",
    "\n",
    "z1 = acc_each_category(cm_lsvc)\n",
    "z2 = acc_each_category(cm_lr)\n",
    "z3 = acc_each_category(cm_mnb)\n",
    "z4 = acc_each_category(cm_rf)\n",
    "z5 = acc_each_category(cm_dt)"
   ]
  },
  {
   "cell_type": "code",
   "execution_count": null,
   "metadata": {},
   "outputs": [],
   "source": [
    "import matplotlib.pyplot as plt\n",
    "\n",
    "x_tick = np.unique(y_test)\n",
    "w = 0.125\n",
    "x1 = np.array([1,2,3,4,5,6])\n",
    "x2 = x1+w\n",
    "x3 = x2+w\n",
    "x4 = x3+w\n",
    "x5 = x4+w\n",
    "x6 = x5+w\n",
    "x7 = x6+w\n",
    "\n",
    "plt.xticks(ticks=x1+0.3, labels=x_tick)\n",
    "plt.bar(x1, y, w, label = \"Total Comments\")\n",
    "plt.bar(x2, z1, w, label = \"Linear SVC\")\n",
    "plt.bar(x3, z2, w, label = \"Logistic Regression\",)\n",
    "plt.bar(x4, z3, w, label = \"Multinomial NB\",)\n",
    "plt.bar(x5, z4, w, label = \"Random Forest Classifier\")\n",
    "plt.bar(x6, z5, w, label = \"Decision Tree\")\n",
    "\n",
    "\n",
    "plt.rcParams[\"figure.figsize\"] = (15,5)\n",
    "plt.xlabel(\"Category\")\n",
    "plt.ylabel(\"Number of Comments\")\n",
    "plt.legend()\n",
    "plt.show()"
   ]
  },
  {
   "cell_type": "code",
   "execution_count": null,
   "metadata": {},
   "outputs": [],
   "source": []
  },
  {
   "cell_type": "code",
   "execution_count": null,
   "metadata": {},
   "outputs": [],
   "source": [
    "def plot_acc_curve(classifier, linestyle, label):    \n",
    "    \n",
    "    num_of_splits = 14\n",
    "    each_split_size = len(X_train)//num_of_splits\n",
    "\n",
    "    each_split = 98\n",
    "    scores = []\n",
    "\n",
    "    for i in range(num_of_splits+1):\n",
    "        split_X_train = X_train[0:each_split]\n",
    "        split_y_train = y_train[0:each_split]\n",
    "\n",
    "        each_split += each_split_size\n",
    "\n",
    "        classifier.fit(split_X_train, split_y_train)\n",
    "        scores.append(classifier.score(X_test, y_test))\n",
    "    \n",
    "    m = 14\n",
    "    n = 98\n",
    "    x_splits = list(range(0, (m+1)*n, n))\n",
    "\n",
    "    plt.xlabel('Data Size')\n",
    "    plt.ylabel('Testing Accuracy')\n",
    "    plt.plot(x_splits, scores, linestyle, label = label)\n",
    "    plt.xticks(x_splits)\n",
    "    plt.legend(loc=\"best\")\n",
    "    \n",
    "    return plt\n",
    "    \n",
    "\n",
    "plt.figure(figsize=(12,8))\n",
    "\n",
    "# Linear SVC\n",
    "classifier = SVC(kernel = 'linear', random_state = 0, C = 1, gamma = 'scale',)\n",
    "plot_acc_curve(classifier, linestyle = 'o-', label=\"Linear SVC\")\n",
    "\n",
    "# Logistic Regression\n",
    "classifier = LogisticRegression(C=10, penalty='l2', solver='liblinear',random_state = 0)\n",
    "plot_acc_curve(classifier, linestyle = '*-', label=\"Logistic Regression\")\n",
    "\n",
    "# Multinomial NB\n",
    "classifier = MultinomialNB(alpha=1, fit_prior=False,)\n",
    "plot_acc_curve(classifier, linestyle = '^-', label=\"Multinomial NB\")\n",
    "\n",
    "# Random Forest Classifier\n",
    "classifier = RandomForestClassifier(criterion='entropy', max_features='log2', n_estimators=1000, random_state = 0)\n",
    "plot_acc_curve(classifier, linestyle = 's-', label=\"Random Forest Classifier\")\n",
    "\n",
    "# Decision Tree Classifier\n",
    "classifier = DecisionTreeClassifier(criterion='entropy', \n",
    "                                    max_features=None, random_state=0)\n",
    "plot_acc_curve(classifier, linestyle = 'x-', label=\"Decision Tree Classifier\")\n",
    "\n",
    "plt.show()"
   ]
  },
  {
   "cell_type": "code",
   "execution_count": null,
   "metadata": {},
   "outputs": [],
   "source": [
    "corr = [i * 100 for i in acc_corrective]\n",
    "imp = [i * 100 for i in acc_imperative]\n",
    "inte = [i * 100 for i in acc_interrogative]\n",
    "mis = [i * 100 for i in acc_miscellaneous]\n",
    "neg = [i * 100 for i in acc_negative]\n",
    "pos = [i * 100 for i in acc_positive]"
   ]
  },
  {
   "cell_type": "code",
   "execution_count": null,
   "metadata": {},
   "outputs": [],
   "source": [
    "import matplotlib.pyplot as plt\n",
    "\n",
    "# x1 = [10,20,30,40,50]\n",
    "x1 = ['Linear SVC','Logistic Regression','Multinomial NB','Random Forest Classifier','Decision Tree Classifier']\n",
    "# corrective\n",
    "y1 = corr\n",
    "# plotting the line 1 points \n",
    "plt.plot(x1, y1, label = \"Corrective\", marker='o')\n",
    "\n",
    "# imperative\n",
    "y2 = imp\n",
    "# plotting the line 2 points \n",
    "plt.plot(x1, y2, label = \"Imperative\", marker='*')\n",
    "\n",
    "# interrogative\n",
    "y3 = inte\n",
    "# plotting the line 2 points \n",
    "plt.plot(x1, y3, label = \"Interrogative\", marker='s')\n",
    "\n",
    "# Miscellaneous\n",
    "y4 = mis\n",
    "# plotting the line 2 points \n",
    "plt.plot(x1, y4, label = \"Miscellaneous\", marker='.')\n",
    "\n",
    "# Negative\n",
    "y5 = neg\n",
    "# plotting the line 2 points \n",
    "plt.plot(x1, y5, label = \"Negative\", marker='^')\n",
    "\n",
    "# Positive\n",
    "y6 = pos\n",
    "# plotting the line 2 points \n",
    "plt.plot(x1, y6, label = \"Positive\", marker='+')\n",
    "\n",
    "\n",
    "plt.xlabel('')\n",
    "# Set the y axis label of the current axis.\n",
    "plt.ylabel('Accuracy Percentage')\n",
    "# Set a title of the current axes.\n",
    "plt.title('')\n",
    "# show a legend on the plot\n",
    "plt.legend()\n",
    "\n",
    "plt.xticks(rotation=90)\n",
    "# Display a figure.\n",
    "plt.show()"
   ]
  },
  {
   "cell_type": "code",
   "execution_count": null,
   "metadata": {},
   "outputs": [],
   "source": []
  }
 ],
 "metadata": {
  "interpreter": {
   "hash": "4e496f11e0fb9f25ca7720c40a700feede7a7d85bf3932adb2f97aa4f779c21e"
  },
  "kernelspec": {
   "display_name": "venv",
   "language": "python",
   "name": "python3"
  },
  "language_info": {
   "codemirror_mode": {
    "name": "ipython",
    "version": 3
   },
   "file_extension": ".py",
   "mimetype": "text/x-python",
   "name": "python",
   "nbconvert_exporter": "python",
   "pygments_lexer": "ipython3",
   "version": "3.9.7"
  }
 },
 "nbformat": 4,
 "nbformat_minor": 4
}
