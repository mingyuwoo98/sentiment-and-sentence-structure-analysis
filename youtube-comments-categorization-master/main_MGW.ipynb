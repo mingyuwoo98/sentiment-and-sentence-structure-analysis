{
 "cells": [
  {
   "cell_type": "markdown",
   "metadata": {},
   "source": [
    "# README:\n",
    "\n",
    "This part of the code has been updated by Min Gyu Woo such that the results of the paper may be compared and validated"
   ]
  },
  {
   "cell_type": "code",
   "execution_count": 26,
   "metadata": {},
   "outputs": [
    {
     "name": "stderr",
     "output_type": "stream",
     "text": [
      "[nltk_data] Downloading package wordnet to /Users/mgw/nltk_data...\n",
      "[nltk_data]   Package wordnet is already up-to-date!\n"
     ]
    }
   ],
   "source": [
    "import pandas as pd\n",
    "import numpy as np\n",
    "from collections import Counter\n",
    "import matplotlib.pyplot as plt\n",
    "import re\n",
    "import nltk\n",
    "nltk.download('wordnet') # added MGW\n",
    "from autocorrect import Speller\n",
    "from nltk.corpus import stopwords   \n",
    "\n",
    "from sklearn.linear_model import LogisticRegression\n",
    "from sklearn.ensemble import RandomForestClassifier\n",
    "from sklearn.naive_bayes import MultinomialNB\n",
    "from sklearn.svm import LinearSVC\n",
    "from sklearn.model_selection import cross_val_score\n",
    "from sklearn.tree import DecisionTreeClassifier"
   ]
  },
  {
   "cell_type": "markdown",
   "metadata": {},
   "source": [
    "## Import the Data"
   ]
  },
  {
   "cell_type": "code",
   "execution_count": 27,
   "metadata": {},
   "outputs": [],
   "source": [
    "df = pd.read_csv('Data/final_data.csv', header=None)\n",
    "# df.rename(columns={0: 'comment', 1: 'category'}, inplace=True)"
   ]
  },
  {
   "cell_type": "markdown",
   "metadata": {},
   "source": [
    "## Exploring the Data"
   ]
  },
  {
   "cell_type": "code",
   "execution_count": 28,
   "metadata": {},
   "outputs": [
    {
     "data": {
      "text/plain": [
       "array(['positive', 'imperative', 'interrogative', 'miscellaneous',\n",
       "       'corrective', 'negative'], dtype=object)"
      ]
     },
     "execution_count": 28,
     "metadata": {},
     "output_type": "execute_result"
    }
   ],
   "source": [
    "# Printing unique category\n",
    "df[1].unique()"
   ]
  },
  {
   "cell_type": "code",
   "execution_count": 29,
   "metadata": {},
   "outputs": [
    {
     "data": {
      "text/plain": [
       "True"
      ]
     },
     "execution_count": 29,
     "metadata": {},
     "output_type": "execute_result"
    }
   ],
   "source": [
    "# removing duplicate rows\n",
    "# df = df.drop_duplicates()\n",
    "df.duplicated().any()"
   ]
  },
  {
   "cell_type": "code",
   "execution_count": 30,
   "metadata": {},
   "outputs": [
    {
     "data": {
      "text/plain": [
       "0    0\n",
       "1    0\n",
       "dtype: int64"
      ]
     },
     "execution_count": 30,
     "metadata": {},
     "output_type": "execute_result"
    }
   ],
   "source": [
    "# Checking null values\n",
    "df.isnull().sum()"
   ]
  },
  {
   "cell_type": "code",
   "execution_count": 31,
   "metadata": {},
   "outputs": [
    {
     "data": {
      "text/plain": [
       "(10000, 2)"
      ]
     },
     "execution_count": 31,
     "metadata": {},
     "output_type": "execute_result"
    }
   ],
   "source": [
    "# Checking the shape of the data\n",
    "df.shape"
   ]
  },
  {
   "cell_type": "markdown",
   "metadata": {},
   "source": [
    "## Preprocessing"
   ]
  },
  {
   "cell_type": "code",
   "execution_count": 32,
   "metadata": {},
   "outputs": [
    {
     "name": "stderr",
     "output_type": "stream",
     "text": [
      "/var/folders/f7/7wm8ypsx1_zcy_df6_f5nrl40000gn/T/ipykernel_25174/238825019.py:7: FutureWarning: The default value of regex will change from True to False in a future version.\n",
      "  df[0] = df[0].str.replace('http\\S+|www.\\S+', '', case=False)\n",
      "/var/folders/f7/7wm8ypsx1_zcy_df6_f5nrl40000gn/T/ipykernel_25174/238825019.py:13: FutureWarning: The default value of regex will change from True to False in a future version.\n",
      "  df[0] = df[0].str.replace('[^\\w\\s]',' ')\n",
      "/var/folders/f7/7wm8ypsx1_zcy_df6_f5nrl40000gn/T/ipykernel_25174/238825019.py:19: FutureWarning: The default value of regex will change from True to False in a future version.\n",
      "  df[0] = df[0].str.replace('[^\\w\\s#@/:%.,_-]', ' ', flags=re.UNICODE)\n"
     ]
    },
    {
     "data": {
      "text/html": [
       "<div>\n",
       "<style scoped>\n",
       "    .dataframe tbody tr th:only-of-type {\n",
       "        vertical-align: middle;\n",
       "    }\n",
       "\n",
       "    .dataframe tbody tr th {\n",
       "        vertical-align: top;\n",
       "    }\n",
       "\n",
       "    .dataframe thead th {\n",
       "        text-align: right;\n",
       "    }\n",
       "</style>\n",
       "<table border=\"1\" class=\"dataframe\">\n",
       "  <thead>\n",
       "    <tr style=\"text-align: right;\">\n",
       "      <th></th>\n",
       "      <th>0</th>\n",
       "      <th>1</th>\n",
       "    </tr>\n",
       "  </thead>\n",
       "  <tbody>\n",
       "    <tr>\n",
       "      <th>0</th>\n",
       "      <td>love you sir</td>\n",
       "      <td>positive</td>\n",
       "    </tr>\n",
       "    <tr>\n",
       "      <th>1</th>\n",
       "      <td>please make videos on  midpoint circle drawing...</td>\n",
       "      <td>imperative</td>\n",
       "    </tr>\n",
       "    <tr>\n",
       "      <th>2</th>\n",
       "      <td>i bought both of your courses on udemy  you ar...</td>\n",
       "      <td>interrogative</td>\n",
       "    </tr>\n",
       "    <tr>\n",
       "      <th>3</th>\n",
       "      <td>thank you very much  u really got me in the fi...</td>\n",
       "      <td>positive</td>\n",
       "    </tr>\n",
       "    <tr>\n",
       "      <th>4</th>\n",
       "      <td>i hope u are ok with everything going on again...</td>\n",
       "      <td>miscellaneous</td>\n",
       "    </tr>\n",
       "    <tr>\n",
       "      <th>...</th>\n",
       "      <td>...</td>\n",
       "      <td>...</td>\n",
       "    </tr>\n",
       "    <tr>\n",
       "      <th>9995</th>\n",
       "      <td>this is gold  absolute peach of a video  but i...</td>\n",
       "      <td>positive</td>\n",
       "    </tr>\n",
       "    <tr>\n",
       "      <th>9996</th>\n",
       "      <td>this is helpful  how to decode a logical conte...</td>\n",
       "      <td>interrogative</td>\n",
       "    </tr>\n",
       "    <tr>\n",
       "      <th>9997</th>\n",
       "      <td>wow  reading this slowly actually helped me se...</td>\n",
       "      <td>positive</td>\n",
       "    </tr>\n",
       "    <tr>\n",
       "      <th>9998</th>\n",
       "      <td>great video sir  really helped a lot keep goin...</td>\n",
       "      <td>positive</td>\n",
       "    </tr>\n",
       "    <tr>\n",
       "      <th>9999</th>\n",
       "      <td>oh damn  u deserve a lot many subscribers than...</td>\n",
       "      <td>interrogative</td>\n",
       "    </tr>\n",
       "  </tbody>\n",
       "</table>\n",
       "<p>10000 rows × 2 columns</p>\n",
       "</div>"
      ],
      "text/plain": [
       "                                                      0              1\n",
       "0                                        love you sir         positive\n",
       "1     please make videos on  midpoint circle drawing...     imperative\n",
       "2     i bought both of your courses on udemy  you ar...  interrogative\n",
       "3     thank you very much  u really got me in the fi...       positive\n",
       "4     i hope u are ok with everything going on again...  miscellaneous\n",
       "...                                                 ...            ...\n",
       "9995  this is gold  absolute peach of a video  but i...       positive\n",
       "9996  this is helpful  how to decode a logical conte...  interrogative\n",
       "9997  wow  reading this slowly actually helped me se...       positive\n",
       "9998  great video sir  really helped a lot keep goin...       positive\n",
       "9999  oh damn  u deserve a lot many subscribers than...  interrogative\n",
       "\n",
       "[10000 rows x 2 columns]"
      ]
     },
     "execution_count": 32,
     "metadata": {},
     "output_type": "execute_result"
    }
   ],
   "source": [
    "# Preprocessing\n",
    "\n",
    "# lowercasing\n",
    "df[0] = df[0].str.lower()\n",
    "\n",
    "# removing urls\n",
    "df[0] = df[0].str.replace('http\\S+|www.\\S+', '', case=False)\n",
    "\n",
    "# removing new lines \"\\n\"\n",
    "df[0] = df[0].str.replace('\\n',' ', regex=True)\n",
    "\n",
    "# removing all the punctuations\n",
    "df[0] = df[0].str.replace('[^\\w\\s]',' ')\n",
    "\n",
    "# removing integers\n",
    "df[0] = df[0].str.replace('\\d','', regex=True)\n",
    "\n",
    "# removing emojis\n",
    "df[0] = df[0].str.replace('[^\\w\\s#@/:%.,_-]', ' ', flags=re.UNICODE)\n",
    "df"
   ]
  },
  {
   "cell_type": "code",
   "execution_count": null,
   "metadata": {},
   "outputs": [],
   "source": []
  },
  {
   "cell_type": "code",
   "execution_count": 33,
   "metadata": {},
   "outputs": [],
   "source": [
    "# df.rename(columns={'comment':0, 'category':1}, inplace=True)\n",
    "# df"
   ]
  },
  {
   "cell_type": "code",
   "execution_count": null,
   "metadata": {},
   "outputs": [],
   "source": []
  },
  {
   "cell_type": "code",
   "execution_count": 34,
   "metadata": {},
   "outputs": [
    {
     "data": {
      "text/plain": [
       "0                                          love you sir  \n",
       "1       please make videos on  midpoint circle drawing...\n",
       "2       i bought both of your courses on dmy  you are ...\n",
       "3       thank you very much  u really got me in the fi...\n",
       "4       i hope u are ok with everything going on again...\n",
       "                              ...                        \n",
       "9995    this is gold  absolute peach of a video  but i...\n",
       "9996    this is helpful  how to decode a logical conte...\n",
       "9997    wow  reading this slowly actually helped me se...\n",
       "9998    great video sir  really helped a lot keep goin...\n",
       "9999    oh damn  u deserve a lot many subscribers than...\n",
       "Name: 0, Length: 10000, dtype: object"
      ]
     },
     "execution_count": 34,
     "metadata": {},
     "output_type": "execute_result"
    }
   ],
   "source": [
    "# correcting the typos\n",
    "\n",
    "spell = Speller(lang='en')\n",
    "\n",
    "def typo_corrector(text):\n",
    "    return spell(text)\n",
    "\n",
    "df[0] = df[0].apply(typo_corrector)\n",
    "df[0]"
   ]
  },
  {
   "cell_type": "code",
   "execution_count": 35,
   "metadata": {},
   "outputs": [
    {
     "data": {
      "text/html": [
       "<div>\n",
       "<style scoped>\n",
       "    .dataframe tbody tr th:only-of-type {\n",
       "        vertical-align: middle;\n",
       "    }\n",
       "\n",
       "    .dataframe tbody tr th {\n",
       "        vertical-align: top;\n",
       "    }\n",
       "\n",
       "    .dataframe thead th {\n",
       "        text-align: right;\n",
       "    }\n",
       "</style>\n",
       "<table border=\"1\" class=\"dataframe\">\n",
       "  <thead>\n",
       "    <tr style=\"text-align: right;\">\n",
       "      <th></th>\n",
       "      <th>0</th>\n",
       "      <th>1</th>\n",
       "    </tr>\n",
       "  </thead>\n",
       "  <tbody>\n",
       "    <tr>\n",
       "      <th>0</th>\n",
       "      <td>love you sir</td>\n",
       "      <td>positive</td>\n",
       "    </tr>\n",
       "    <tr>\n",
       "      <th>1</th>\n",
       "      <td>please make videos on  midpoint circle drawing...</td>\n",
       "      <td>imperative</td>\n",
       "    </tr>\n",
       "    <tr>\n",
       "      <th>2</th>\n",
       "      <td>i bought both of your courses on dmy  you are ...</td>\n",
       "      <td>interrogative</td>\n",
       "    </tr>\n",
       "    <tr>\n",
       "      <th>3</th>\n",
       "      <td>thank you very much  u really got me in the fi...</td>\n",
       "      <td>positive</td>\n",
       "    </tr>\n",
       "    <tr>\n",
       "      <th>4</th>\n",
       "      <td>i hope u are ok with everything going on again...</td>\n",
       "      <td>miscellaneous</td>\n",
       "    </tr>\n",
       "    <tr>\n",
       "      <th>...</th>\n",
       "      <td>...</td>\n",
       "      <td>...</td>\n",
       "    </tr>\n",
       "    <tr>\n",
       "      <th>9995</th>\n",
       "      <td>this is gold  absolute peach of a video  but i...</td>\n",
       "      <td>positive</td>\n",
       "    </tr>\n",
       "    <tr>\n",
       "      <th>9996</th>\n",
       "      <td>this is helpful  how to decode a logical conte...</td>\n",
       "      <td>interrogative</td>\n",
       "    </tr>\n",
       "    <tr>\n",
       "      <th>9997</th>\n",
       "      <td>wow  reading this slowly actually helped me se...</td>\n",
       "      <td>positive</td>\n",
       "    </tr>\n",
       "    <tr>\n",
       "      <th>9998</th>\n",
       "      <td>great video sir  really helped a lot keep goin...</td>\n",
       "      <td>positive</td>\n",
       "    </tr>\n",
       "    <tr>\n",
       "      <th>9999</th>\n",
       "      <td>oh damn  u deserve a lot many subscribers than...</td>\n",
       "      <td>interrogative</td>\n",
       "    </tr>\n",
       "  </tbody>\n",
       "</table>\n",
       "<p>10000 rows × 2 columns</p>\n",
       "</div>"
      ],
      "text/plain": [
       "                                                      0              1\n",
       "0                                        love you sir         positive\n",
       "1     please make videos on  midpoint circle drawing...     imperative\n",
       "2     i bought both of your courses on dmy  you are ...  interrogative\n",
       "3     thank you very much  u really got me in the fi...       positive\n",
       "4     i hope u are ok with everything going on again...  miscellaneous\n",
       "...                                                 ...            ...\n",
       "9995  this is gold  absolute peach of a video  but i...       positive\n",
       "9996  this is helpful  how to decode a logical conte...  interrogative\n",
       "9997  wow  reading this slowly actually helped me se...       positive\n",
       "9998  great video sir  really helped a lot keep goin...       positive\n",
       "9999  oh damn  u deserve a lot many subscribers than...  interrogative\n",
       "\n",
       "[10000 rows x 2 columns]"
      ]
     },
     "execution_count": 35,
     "metadata": {},
     "output_type": "execute_result"
    }
   ],
   "source": [
    "lemmatizer = nltk.stem.WordNetLemmatizer()\n",
    "def lemmatize_text(text):\n",
    "    return lemmatizer.lemmatize(text)\n",
    "\n",
    "df[0] = df[0].apply(lemmatize_text)\n",
    "df\n",
    "\n",
    "# # # stemming\n",
    "# stemmer = nltk.stem.SnowballStemmer('english')\n",
    "# def stem_text(text):\n",
    "#     return stemmer.stem(text)\n",
    "\n",
    "# df[0] = df[0].apply(stem_text)\n",
    "# df\n",
    "\n",
    "# lemmatizing\n",
    "\n",
    "# nltk.download('wordnet')\n",
    "\n"
   ]
  },
  {
   "cell_type": "code",
   "execution_count": null,
   "metadata": {},
   "outputs": [],
   "source": []
  },
  {
   "cell_type": "code",
   "execution_count": 36,
   "metadata": {},
   "outputs": [],
   "source": [
    "# Removing stopwords\n",
    "# nltk.download('stopwords')\n",
    "\n",
    "stop = stopwords.words('english')\n",
    "\n",
    "# These are the words that should not be removed from their category\n",
    "negative_words = ['no','not']\n",
    "interrogative_words = ['how','what','which','who','whom','why','do','does','is','are','was','were','will','am',\n",
    "                      'are','could','would','should','can','did','does','do','had','have']\n",
    "imperative_words = ['could','would','should','can']\n",
    "\n",
    "for_negative_category = stop.copy()\n",
    "for word in negative_words:\n",
    "    if word in for_negative_category:\n",
    "        for_negative_category.remove(word)\n",
    "    \n",
    "for_interrogative_category = stop.copy()\n",
    "for word in interrogative_words:\n",
    "    if word in for_interrogative_category:\n",
    "        for_interrogative_category.remove(word)\n",
    "    \n",
    "for_imperative_category = stop.copy()\n",
    "for word in imperative_words:\n",
    "    if word in for_imperative_category:\n",
    "        for_imperative_category.remove(word)\n",
    "\n",
    "# For negative category\n",
    "for i in range(len(df)):\n",
    "    if df[1][i] == \"negative\":\n",
    "        df[0][i] = ' '.join([word for word in df[0][i].split() if word not in for_negative_category])\n",
    "\n",
    "# For interrogative category\n",
    "for i in range(len(df)):\n",
    "    if df[1][i] == \"interrogative\":\n",
    "        df[0][i] = ' '.join([word for word in df[0][i].split() if word not in for_interrogative_category])\n",
    "        \n",
    "# For interrogative category\n",
    "for i in range(len(df)):\n",
    "    if df[1][i] == \"imperative\":\n",
    "        df[0][i] = ' '.join([word for word in df[0][i].split() if word not in for_imperative_category])\n",
    "        \n",
    "# For all other category\n",
    "for i in range(len(df)):\n",
    "    if df[1][i] == \"positive\" or df[1][i] == \"correction\" or df[1][i] == \"other\":\n",
    "        df[0][i] = ' '.join([word for word in df[0][i].split() if word not in stop])\n",
    "\n",
    "# df[0] = df[0].apply(lambda x: ' '.join([word for word in x.split() if word not in (stop)]))\n",
    "# df"
   ]
  },
  {
   "cell_type": "code",
   "execution_count": 37,
   "metadata": {},
   "outputs": [],
   "source": [
    "# from wordcloud import WordCloud\n",
    "# text = df[0].values \n",
    "\n",
    "# wordcloud = WordCloud(background_color='white',collocations=False).generate(str(text))\n",
    "\n",
    "# plt.imshow(wordcloud)\n",
    "# plt.axis(\"off\")\n",
    "# plt.show()"
   ]
  },
  {
   "cell_type": "markdown",
   "metadata": {},
   "source": [
    "## Feature Extaction"
   ]
  },
  {
   "cell_type": "code",
   "execution_count": 38,
   "metadata": {},
   "outputs": [
    {
     "data": {
      "text/plain": [
       "(10000, 2)"
      ]
     },
     "execution_count": 38,
     "metadata": {},
     "output_type": "execute_result"
    }
   ],
   "source": [
    "df.shape"
   ]
  },
  {
   "cell_type": "code",
   "execution_count": 39,
   "metadata": {},
   "outputs": [
    {
     "data": {
      "text/plain": [
       "(10000, 2210)"
      ]
     },
     "execution_count": 39,
     "metadata": {},
     "output_type": "execute_result"
    }
   ],
   "source": [
    "import math \n",
    "\n",
    "N_occurance = 5\n",
    "\n",
    "words = [df[0][i].split() for i in range(len(df))]\n",
    "bag_of_words = sorted(list({word for list_ in words for word in list_}))\n",
    "word_count = {word:0 for word in bag_of_words}\n",
    "for word in bag_of_words:\n",
    "    for list_ in words:\n",
    "        if word in list_:\n",
    "            word_count[word]+=1\n",
    "filtered_words = [k for k,v in word_count.items() if v>N_occurance]\n",
    "evaluation = np.zeros((len(df),len(filtered_words)))\n",
    "for i in range(len(words)):\n",
    "    counter = Counter(words[i])\n",
    "    for k, v in counter.items():\n",
    "        if k not in filtered_words:\n",
    "            continue\n",
    "        count = [1 for list_ in words if k in list_]\n",
    "        evaluation[i][filtered_words.index(k)] = sum(count)/len(words)\n",
    "\n",
    "# print(filtered_words)\n",
    "evaluation.shape"
   ]
  },
  {
   "cell_type": "code",
   "execution_count": 40,
   "metadata": {},
   "outputs": [],
   "source": [
    "# features = evaluation\n",
    "# features"
   ]
  },
  {
   "cell_type": "code",
   "execution_count": 41,
   "metadata": {},
   "outputs": [],
   "source": [
    "from sklearn import preprocessing\n",
    "# features = preprocessing.normalize(evaluation, norm='l2')\n",
    "# features\n",
    "\n",
    "# from sklearn.preprocessing import StandardScaler\n",
    "# scaler = StandardScaler()\n",
    "# features = scaler.fit_transform(evaluation)\n",
    "\n",
    "min_max_scaler = preprocessing.MinMaxScaler()\n",
    "features = min_max_scaler.fit_transform(evaluation)\n",
    "\n",
    "# scaler = preprocessing.RobustScaler()\n",
    "# features = scaler.fit_transform(evaluation)\n"
   ]
  },
  {
   "cell_type": "code",
   "execution_count": 42,
   "metadata": {},
   "outputs": [
    {
     "data": {
      "text/plain": [
       "numpy.ndarray"
      ]
     },
     "execution_count": 42,
     "metadata": {},
     "output_type": "execute_result"
    }
   ],
   "source": [
    "type(evaluation)"
   ]
  },
  {
   "cell_type": "markdown",
   "metadata": {},
   "source": [
    "# Hyperparameter Tuning\n",
    "\n",
    "- this section was added by Min Gyu Woo to easily verify the hyperparameters in the paper"
   ]
  },
  {
   "cell_type": "code",
   "execution_count": null,
   "metadata": {},
   "outputs": [],
   "source": [
    "# # Function to show original category vs predicted category\n",
    "\n",
    "# def show_prediction(y_pred, y_test):\n",
    "\n",
    "#     indices_match = y_pred == y_test\n",
    "\n",
    "#     df = pd.read_csv('Data/final_data.csv', header=None)\n",
    "\n",
    "#     get_comments = []\n",
    "\n",
    "#     for i in range(len(indices_test)):\n",
    "#         get_comments.append(df[0][indices_test[i]])\n",
    "\n",
    "\n",
    "#     data = list(zip(get_comments, y_test, y_pred))\n",
    "#     df_result = pd.DataFrame(data, columns=[\"comment\", \"original class\", \"predicted class\"])\n",
    "#     return df_result"
   ]
  },
  {
   "cell_type": "code",
   "execution_count": null,
   "metadata": {},
   "outputs": [],
   "source": [
    "# # Prepare Data\n",
    "\n",
    "# X = features\n",
    "# y = df.iloc[:, 1].values\n",
    "# indices = range(len(X))\n",
    "\n",
    "# from sklearn.model_selection import train_test_split\n",
    "\n",
    "# X_train, X_test, y_train, y_test, indices_train, indices_test = train_test_split(X, y, indices,\n",
    "#                                                                                  test_size=0.2, random_state=42)"
   ]
  },
  {
   "cell_type": "code",
   "execution_count": null,
   "metadata": {},
   "outputs": [],
   "source": [
    "# ### Hyperparameter Tuning ###\n",
    "\n",
    "# from sklearn.model_selection import RepeatedStratifiedKFold\n",
    "# from sklearn.model_selection import GridSearchCV\n",
    "# # from sklearn.ensemble import MultinomialNB\n",
    "\n",
    "# # define models and parameters\n",
    "# model = MultinomialNB()\n",
    "# fit_prior=[True, False]\n",
    "# alpha=[0,0.5,1]\n",
    "\n",
    "# # define grid search\n",
    "# grid = dict(fit_prior=fit_prior,alpha=alpha)\n",
    "# cv = RepeatedStratifiedKFold(n_splits=10, n_repeats=3, random_state=1)\n",
    "# grid_search = GridSearchCV(estimator=model, param_grid=grid, n_jobs=-1, cv=cv, scoring='accuracy',error_score=0)\n",
    "# grid_result = grid_search.fit(X_train, y_train)\n",
    "# # summarize results\n",
    "# print(\"Best: %f using %s\" % (grid_result.best_score_, grid_result.best_params_))\n",
    "# means = grid_result.cv_results_['mean_test_score']\n",
    "# stds = grid_result.cv_results_['std_test_score']\n",
    "# params = grid_result.cv_results_['params']\n",
    "# for mean, stdev, param in zip(means, stds, params):\n",
    "#     print(\"%f (%f) with: %r\" % (mean, stdev, param))"
   ]
  },
  {
   "cell_type": "code",
   "execution_count": null,
   "metadata": {},
   "outputs": [],
   "source": [
    "# nb_dict = {'mean_test_score': [\n",
    "#                                 0.792083,\n",
    "#                                 0.759542,\n",
    "#                                 0.834250,\n",
    "#                                 0.796833,\n",
    "#                                 0.834375,\n",
    "#                                 0.808417                                \n",
    "#                                 ],\n",
    "\n",
    "#             'alpha': [\n",
    "#                 0,\n",
    "#                 0,\n",
    "#                 0.5,\n",
    "#                 0.5,\n",
    "#                 1,\n",
    "#                 1\n",
    "#             ],\n",
    "            \n",
    "#             'fit_prior': [\n",
    "#                 True,\n",
    "#                 False,\n",
    "#                 True,\n",
    "#                 False,\n",
    "#                 True,\n",
    "#                 False\n",
    "#             ]\n",
    "            \n",
    "#             }\n",
    "# final_nb = pd.DataFrame(nb_dict)"
   ]
  },
  {
   "cell_type": "code",
   "execution_count": null,
   "metadata": {},
   "outputs": [],
   "source": [
    "# ### Hyperparameter Tuning ###\n",
    "\n",
    "# from sklearn.model_selection import RepeatedStratifiedKFold\n",
    "# from sklearn.model_selection import GridSearchCV\n",
    "# from sklearn.svm import SVC\n",
    "\n",
    "# # define model and parameters\n",
    "# model = SVC()\n",
    "# kernel = ['linear','poly', 'rbf', 'sigmoid']\n",
    "# C = [50, 10, 1.0, 0.1, 0.01]\n",
    "# gamma = ['scale']\n",
    "# # define grid search\n",
    "# grid = dict(kernel=kernel,C=C,gamma=gamma)\n",
    "# cv = RepeatedStratifiedKFold(n_splits=10, n_repeats=3, random_state=1)\n",
    "# grid_search = GridSearchCV(estimator=model, param_grid=grid, n_jobs=-1, cv=cv, scoring='accuracy',error_score=0)\n",
    "# grid_result = grid_search.fit(X_train, y_train)\n",
    "# # summarize results\n",
    "# print(\"Best: %f using %s\" % (grid_result.best_score_, grid_result.best_params_))\n",
    "# means = grid_result.cv_results_['mean_test_score']\n",
    "# stds = grid_result.cv_results_['std_test_score']\n",
    "# params = grid_result.cv_results_['params']\n",
    "# for mean, stdev, param in zip(means, stds, params):\n",
    "#     print(\"%f (%f) with: %r\" % (mean, stdev, param))"
   ]
  },
  {
   "cell_type": "markdown",
   "metadata": {},
   "source": [
    "Best: 0.847125 using {'C': 1.0, 'gamma': 'scale', 'kernel': 'linear'}\n",
    "0.818625 (0.011265) with: {'C': 50, 'gamma': 'scale', 'kernel': 'linear'}\n",
    "0.773208 (0.009857) with: {'C': 50, 'gamma': 'scale', 'kernel': 'poly'}\n",
    "0.828000 (0.010371) with: {'C': 50, 'gamma': 'scale', 'kernel': 'rbf'}\n",
    "0.820833 (0.013545) with: {'C': 50, 'gamma': 'scale', 'kernel': 'sigmoid'}\n",
    "0.826875 (0.010497) with: {'C': 10, 'gamma': 'scale', 'kernel': 'linear'}\n",
    "0.736625 (0.009959) with: {'C': 10, 'gamma': 'scale', 'kernel': 'poly'}\n",
    "0.837958 (0.010575) with: {'C': 10, 'gamma': 'scale', 'kernel': 'rbf'}\n",
    "0.845417 (0.008734) with: {'C': 10, 'gamma': 'scale', 'kernel': 'sigmoid'}\n",
    "0.847125 (0.010068) with: {'C': 1.0, 'gamma': 'scale', 'kernel': 'linear'}\n",
    "0.610042 (0.009749) with: {'C': 1.0, 'gamma': 'scale', 'kernel': 'poly'}\n",
    "0.833792 (0.007552) with: {'C': 1.0, 'gamma': 'scale', 'kernel': 'rbf'}\n",
    "0.841417 (0.008421) with: {'C': 1.0, 'gamma': 'scale', 'kernel': 'sigmoid'}\n",
    "0.839333 (0.010457) with: {'C': 0.1, 'gamma': 'scale', 'kernel': 'linear'}\n",
    "0.431833 (0.007470) with: {'C': 0.1, 'gamma': 'scale', 'kernel': 'poly'}\n",
    "0.693250 (0.008579) with: {'C': 0.1, 'gamma': 'scale', 'kernel': 'rbf'}\n",
    "0.765833 (0.008608) with: {'C': 0.1, 'gamma': 'scale', 'kernel': 'sigmoid'}\n",
    "0.763375 (0.008968) with: {'C': 0.01, 'gamma': 'scale', 'kernel': 'linear'}\n",
    "0.374792 (0.002740) with: {'C': 0.01, 'gamma': 'scale', 'kernel': 'poly'}\n",
    "0.526000 (0.010244) with: {'C': 0.01, 'gamma': 'scale', 'kernel': 'rbf'}\n",
    "0.582000 (0.008302) with: {'C': 0.01, 'gamma': 'scale', 'kernel': 'sigmoid'}"
   ]
  },
  {
   "cell_type": "code",
   "execution_count": null,
   "metadata": {},
   "outputs": [],
   "source": [
    "# svc_dict = {'mean_test_score': [0.818625,\n",
    "# 0.773208,\n",
    "# 0.828000,\n",
    "# 0.820833,\n",
    "# 0.826875,\n",
    "# 0.736625,\n",
    "# 0.837958,\n",
    "# 0.845417,\n",
    "# 0.847125,\n",
    "# 0.610042,\n",
    "# 0.833792,\n",
    "# 0.841417,\n",
    "# 0.839333,\n",
    "# 0.431833,\n",
    "# 0.693250,\n",
    "# 0.765833,\n",
    "# 0.763375,\n",
    "# 0.374792,\n",
    "# 0.526000,\n",
    "# 0.582000],\n",
    "\n",
    "# 'C': [50, \n",
    "# 50, \n",
    "# 50, \n",
    "# 50, \n",
    "# 10, \n",
    "# 10, \n",
    "# 10, \n",
    "# 10, \n",
    "# 1.0, \n",
    "# 1.0, \n",
    "# 1.0, \n",
    "# 1.0, \n",
    "# 0.1, \n",
    "# 0.1, \n",
    "# 0.1, \n",
    "# 0.1, \n",
    "# 0.01,\n",
    "# 0.01,\n",
    "# 0.01,\n",
    "# 0.01],\n",
    "\n",
    "# 'kernel': ['linear',\n",
    "# 'poly',\n",
    "# 'rbf',\n",
    "# 'sigmoid',\n",
    "# 'linear',\n",
    "# 'poly',\n",
    "# 'rbf',\n",
    "# 'sigmoid',\n",
    "# 'linear',\n",
    "# 'poly',\n",
    "# 'rbf',\n",
    "# 'sigmoid',\n",
    "# 'linear',\n",
    "# 'poly',\n",
    "# 'rbf',\n",
    "# 'sigmoid',\n",
    "# 'linear',\n",
    "# 'poly',\n",
    "# 'rbf',\n",
    "# 'sigmoid']}\n",
    "\n",
    "# final_svc = pd.DataFrame(svc_dict)\n"
   ]
  },
  {
   "cell_type": "code",
   "execution_count": null,
   "metadata": {},
   "outputs": [],
   "source": [
    "# ### Hyperparameter Tuning ###\n",
    "\n",
    "# from sklearn.model_selection import RepeatedStratifiedKFold\n",
    "# from sklearn.model_selection import GridSearchCV\n",
    "# from sklearn.linear_model import LogisticRegression\n",
    "\n",
    "# # define models and parameters\n",
    "# model = LogisticRegression()\n",
    "# solvers = ['newton-cg', 'lbfgs', 'liblinear']\n",
    "# penalty = ['l1', 'l2', 'elasticnet', 'none']\n",
    "# c_values = [100, 10, 1.0, 0.1, 0.01]\n",
    "# # define grid search\n",
    "# grid = dict(solver=solvers,penalty=penalty,C=c_values)\n",
    "# cv = RepeatedStratifiedKFold(n_splits=10, n_repeats=3, random_state=1)\n",
    "# grid_search = GridSearchCV(estimator=model, param_grid=grid, n_jobs=-1, cv=cv, scoring='accuracy',error_score=0)\n",
    "# grid_result = grid_search.fit(X_train, y_train)\n",
    "# # summarize results\n",
    "# print(\"Best: %f using %s\" % (grid_result.best_score_, grid_result.best_params_))\n",
    "# means = grid_result.cv_results_['mean_test_score']\n",
    "# stds = grid_result.cv_results_['std_test_score']\n",
    "# params = grid_result.cv_results_['params']\n",
    "# for mean, stdev, param in zip(means, stds, params):\n",
    "#     print(\"%f (%f) with: %r\" % (mean, stdev, param))"
   ]
  },
  {
   "cell_type": "code",
   "execution_count": null,
   "metadata": {},
   "outputs": [],
   "source": [
    "# logistic_dict = {'mean_test_score':\n",
    "#     [0.000000,\n",
    "# 0.000000,\n",
    "# 0.837333,\n",
    "# 0.843417,\n",
    "# 0.847833,\n",
    "# 0.847375,\n",
    "# 0.000000,\n",
    "# 0.000000,\n",
    "# 0.000000,\n",
    "# 0.811917,\n",
    "# 0.844500,\n",
    "# 0.000000,\n",
    "# 0.000000,\n",
    "# 0.000000,\n",
    "# 0.853542,\n",
    "# 0.856333,\n",
    "# 0.856333,\n",
    "# 0.859167,\n",
    "# 0.000000,\n",
    "# 0.000000,\n",
    "# 0.000000,\n",
    "# 0.811917,\n",
    "# 0.844500,\n",
    "# 0.000000,\n",
    "# 0.000000,\n",
    "# 0.000000,\n",
    "# 0.853167,\n",
    "# 0.866792,\n",
    "# 0.866792,\n",
    "# 0.855250,\n",
    "# 0.000000,\n",
    "# 0.000000,\n",
    "# 0.000000,\n",
    "# 0.811917,\n",
    "# 0.844500,\n",
    "# 0.000000,\n",
    "# 0.000000,\n",
    "# 0.000000,\n",
    "# 0.800458,\n",
    "# 0.839000,\n",
    "# 0.839000,\n",
    "# 0.827792,\n",
    "# 0.000000,\n",
    "# 0.000000,\n",
    "# 0.000000,\n",
    "# 0.811917,\n",
    "# 0.844500,\n",
    "# 0.000000,\n",
    "# 0.000000,\n",
    "# 0.000000,\n",
    "# 0.676667,\n",
    "# 0.767292,\n",
    "# 0.767292,\n",
    "# 0.762500,\n",
    "# 0.000000,\n",
    "# 0.000000,\n",
    "# 0.000000,\n",
    "# 0.811917,\n",
    "# 0.844500,\n",
    "# 0.000000],\n",
    "\n",
    "#     'C':\n",
    "#     [100,\n",
    "# 100,\n",
    "# 100,\n",
    "# 100,\n",
    "# 100,\n",
    "# 100,\n",
    "# 100,\n",
    "# 100,\n",
    "# 100,\n",
    "# 100,\n",
    "# 100,\n",
    "# 100,\n",
    "# 10,\n",
    "# 10,\n",
    "# 10,\n",
    "# 10,\n",
    "# 10,\n",
    "# 10,\n",
    "# 10,\n",
    "# 10,\n",
    "# 10,\n",
    "# 10,\n",
    "# 10,\n",
    "# 10,\n",
    "# 1.0,\n",
    "# 1.0,\n",
    "# 1.0,\n",
    "# 1.0,\n",
    "# 1.0,\n",
    "# 1.0,\n",
    "# 1.0,\n",
    "# 1.0,\n",
    "# 1.0,\n",
    "# 1.0,\n",
    "# 1.0,\n",
    "# 1.0,\n",
    "# 0.1,\n",
    "# 0.1,\n",
    "# 0.1,\n",
    "# 0.1,\n",
    "# 0.1,\n",
    "# 0.1,\n",
    "# 0.1,\n",
    "# 0.1,\n",
    "# 0.1,\n",
    "# 0.1,\n",
    "# 0.1,\n",
    "# 0.1,\n",
    "# 0.01,\n",
    "# 0.01,\n",
    "# 0.01,\n",
    "# 0.01,\n",
    "# 0.01,\n",
    "# 0.01,\n",
    "# 0.01,\n",
    "# 0.01,\n",
    "# 0.01,\n",
    "# 0.01,\n",
    "# 0.01,\n",
    "# 0.01],\n",
    "\n",
    "# 'penalty':\n",
    "#     ['l1',\n",
    "#  'l1',\n",
    "#  'l1',\n",
    "#  'l2',\n",
    "#  'l2',\n",
    "#  'l2',\n",
    "#  'elasticnet',\n",
    "#  'elasticnet',\n",
    "#  'elasticnet',\n",
    "#  'none',\n",
    "#  'none',\n",
    "#  'none',\n",
    "# 'l1',\n",
    "# 'l1',\n",
    "#  'l1',\n",
    "# 'l2',\n",
    "# 'l2',\n",
    "# 'l2',\n",
    "# 'elasticnet',\n",
    "# 'elasticnet',\n",
    "# 'elasticnet',\n",
    "# 'none',\n",
    "# 'none',\n",
    "# 'none',\n",
    "# 'l1',\n",
    "# 'l1',\n",
    "# 'l1',\n",
    "# 'l2',\n",
    "# 'l2',\n",
    "# 'l2',\n",
    "# 'elasticnet',\n",
    "# 'elasticnet',\n",
    "# 'elasticnet',\n",
    "# 'none',\n",
    "# 'none',\n",
    "# 'none',\n",
    "# 'l1',\n",
    "# 'l1',\n",
    "# 'l1',\n",
    "# 'l2',\n",
    "# 'l2',\n",
    "# 'l2',\n",
    "# 'elasticnet',\n",
    "# 'elasticnet',\n",
    "# 'elasticnet',\n",
    "# 'none',\n",
    "# 'none',\n",
    "# 'none',\n",
    "# 'l1',\n",
    "# 'l1',\n",
    "# 'l1',\n",
    "# 'l2',\n",
    "# 'l2',\n",
    "# 'l2',\n",
    "# 'elasticnet',\n",
    "# 'elasticnet',\n",
    "# 'elasticnet',\n",
    "# 'none',\n",
    "# 'none',\n",
    "# 'none'],\n",
    "\n",
    "# 'solver':\n",
    "# [\n",
    "#     'newton-cg',\n",
    "# 'lbfgs',\n",
    "# 'liblinear',\n",
    "# 'newton-cg',\n",
    "# 'lbfgs',\n",
    "# 'liblinear',\n",
    "# 'newton-cg',\n",
    "# 'lbfgs',\n",
    "# 'liblinear',\n",
    "# 'newton-cg',\n",
    "# 'lbfgs',\n",
    "# 'liblinear',\n",
    "# 'newton-cg',\n",
    "# 'lbfgs',\n",
    "# 'liblinear',\n",
    "# 'newton-cg',\n",
    "# 'lbfgs',\n",
    "# 'liblinear',\n",
    "# 'newton-cg',\n",
    "# 'lbfgs',\n",
    "# 'liblinear',\n",
    "# 'newton-cg',\n",
    "# 'lbfgs',\n",
    "# 'liblinear',\n",
    "# 'newton-cg',\n",
    "# 'lbfgs',\n",
    "# 'liblinear',\n",
    "# 'newton-cg',\n",
    "# 'lbfgs',\n",
    "# 'liblinear',\n",
    "# 'newton-cg',\n",
    "# 'lbfgs',\n",
    "# 'liblinear',\n",
    "# 'newton-cg',\n",
    "# 'lbfgs',\n",
    "# 'liblinear',\n",
    "# 'newton-cg',\n",
    "# 'lbfgs',\n",
    "# 'liblinear',\n",
    "# 'newton-cg',\n",
    "# 'lbfgs',\n",
    "# 'liblinear',\n",
    "# 'newton-cg',\n",
    "# 'lbfgs',\n",
    "# 'liblinear',\n",
    "# 'newton-cg',\n",
    "# 'lbfgs',\n",
    "# 'liblinear',\n",
    "# 'newton-cg',\n",
    "# 'lbfgs',\n",
    "# 'liblinear',\n",
    "# 'newton-cg',\n",
    "# 'lbfgs',\n",
    "# 'liblinear',\n",
    "# 'newton-cg',\n",
    "# 'lbfgs',\n",
    "# 'liblinear',\n",
    "# 'newton-cg',\n",
    "# 'lbfgs',\n",
    "# 'liblinear'\n",
    "# ]\n",
    "# }\n",
    "\n",
    "\n",
    "# final_logistic = pd.DataFrame(logistic_dict)"
   ]
  },
  {
   "cell_type": "code",
   "execution_count": null,
   "metadata": {},
   "outputs": [],
   "source": [
    "#print(str(\"Best: 0.866792 using {'C': 1.0, 'penalty': 'l2', 'solver': 'newton-cg'}\\n0.000000 (0.000000) with: {'C': 100, 'penalty': 'l1', 'solver': 'newton-cg'}\\n0.000000 (0.000000) with: {'C': 100, 'penalty': 'l1', 'solver': 'lbfgs'}\\n0.837333 (0.011043) with: {'C': 100, 'penalty': 'l1', 'solver': 'liblinear'}\\n0.843417 (0.012628) with: {'C': 100, 'penalty': 'l2', 'solver': 'newton-cg'}\\n0.847833 (0.012166) with: {'C': 100, 'penalty': 'l2', 'solver': 'lbfgs'}\\n0.847375 (0.011312) with: {'C': 100, 'penalty': 'l2', 'solver': 'liblinear'}\\n0.000000 (0.000000) with: {'C': 100, 'penalty': 'elasticnet', 'solver': 'newton-cg'}\\n0.000000 (0.000000) with: {'C': 100, 'penalty': 'elasticnet', 'solver': 'lbfgs'}\\n0.000000 (0.000000) with: {'C': 100, 'penalty': 'elasticnet', 'solver': 'liblinear'}\\n0.811917 (0.010756) with: {'C': 100, 'penalty': 'none', 'solver': 'newton-cg'}\\n0.844500 (0.010536) with: {'C': 100, 'penalty': 'none', 'solver': 'lbfgs'}\\n0.000000 (0.000000) with: {'C': 100, 'penalty': 'none', 'solver': 'liblinear'}\\n0.000000 (0.000000) with: {'C': 10, 'penalty': 'l1', 'solver': 'newton-cg'}\\n0.000000 (0.000000) with: {'C': 10, 'penalty': 'l1', 'solver': 'lbfgs'}\\n0.853542 (0.010379) with: {'C': 10, 'penalty': 'l1', 'solver': 'liblinear'}\\n0.856333 (0.010973) with: {'C': 10, 'penalty': 'l2', 'solver': 'newton-cg'}\\n0.856333 (0.010791) with: {'C': 10, 'penalty': 'l2', 'solver': 'lbfgs'}\\n0.859167 (0.011037) with: {'C': 10, 'penalty': 'l2', 'solver': 'liblinear'}\\n0.000000 (0.000000) with: {'C': 10, 'penalty': 'elasticnet', 'solver': 'newton-cg'}\\n0.000000 (0.000000) with: {'C': 10, 'penalty': 'elasticnet', 'solver': 'lbfgs'}\\n0.000000 (0.000000) with: {'C': 10, 'penalty': 'elasticnet', 'solver': 'liblinear'}\\n0.811917 (0.010756) with: {'C': 10, 'penalty': 'none', 'solver': 'newton-cg'}\\n0.844500 (0.010536) with: {'C': 10, 'penalty': 'none', 'solver': 'lbfgs'}\\n0.000000 (0.000000) with: {'C': 10, 'penalty': 'none', 'solver': 'liblinear'}\"))\n",
    "\n"
   ]
  },
  {
   "cell_type": "code",
   "execution_count": null,
   "metadata": {},
   "outputs": [],
   "source": [
    "#print(str(\"\\n0.000000 (0.000000) with: {'C': 1.0, 'penalty': 'l1', 'solver': 'newton-cg'}\\n0.000000 (0.000000) with: {'C': 1.0, 'penalty': 'l1', 'solver': 'lbfgs'}\\n0.853167 (0.010882) with: {'C': 1.0, 'penalty': 'l1', 'solver': 'liblinear'}\\n0.866792 (0.010250) with: {'C': 1.0, 'penalty': 'l2', 'solver': 'newton-cg'}\\n0.866792 (0.010250) with: {'C': 1.0, 'penalty': 'l2', 'solver': 'lbfgs'}\\n0.855250 (0.009211) with: {'C': 1.0, 'penalty': 'l2', 'solver': 'liblinear'}\\n0.000000 (0.000000) with: {'C': 1.0, 'penalty': 'elasticnet', 'solver': 'newton-cg'}\\n0.000000 (0.000000) with: {'C': 1.0, 'penalty': 'elasticnet', 'solver': 'lbfgs'}\\n0.000000 (0.000000) with: {'C': 1.0, 'penalty': 'elasticnet', 'solver': 'liblinear'}\\n0.811917 (0.010756) with: {'C': 1.0, 'penalty': 'none', 'solver': 'newton-cg'}\\n0.844500 (0.010536) with: {'C': 1.0, 'penalty': 'none', 'solver': 'lbfgs'}\\n0.000000 (0.000000) with: {'C': 1.0, 'penalty': 'none', 'solver': 'liblinear'}\\n0.000000 (0.000000) with: {'C': 0.1, 'penalty': 'l1', 'solver': 'newton-cg'}\\n0.000000 (0.000000) with: {'C': 0.1, 'penalty': 'l1', 'solver': 'lbfgs'}\\n0.800458 (0.008444) with: {'C': 0.1, 'penalty': 'l1', 'solver': 'liblinear'}\\n0.839000 (0.009647) with: {'C': 0.1, 'penalty': 'l2', 'solver': 'newton-cg'}\\n0.839000 (0.009647) with: {'C': 0.1, 'penalty': 'l2', 'solver': 'lbfgs'}\\n0.827792 (0.008819) with: {'C': 0.1, 'penalty': 'l2', 'solver': 'liblinear'}\\n0.000000 (0.000000) with: {'C': 0.1, 'penalty': 'elasticnet', 'solver': 'newton-cg'}\\n0.000000 (0.000000) with: {'C': 0.1, 'penalty': 'elasticnet', 'solver': 'lbfgs'}\\n0.000000 (0.000000) with: {'C': 0.1, 'penalty': 'elasticnet', 'solver': 'liblinear'}\\n0.811917 (0.010756) with: {'C': 0.1, 'penalty': 'none', 'solver': 'newton-cg'}\\n0.844500 (0.010536) with: {'C': 0.1, 'penalty': 'none', 'solver': 'lbfgs'}\\n0.000000 (0.000000) with: {'C': 0.1, 'penalty': 'none', 'solver': 'liblinear'}\\n\"))"
   ]
  },
  {
   "cell_type": "code",
   "execution_count": null,
   "metadata": {},
   "outputs": [],
   "source": [
    "#print(str(\"0.000000 (0.000000) with: {'C': 0.01, 'penalty': 'l1', 'solver': 'newton-cg'}\\n0.000000 (0.000000) with: {'C': 0.01, 'penalty': 'l1', 'solver': 'lbfgs'}\\n0.676667 (0.011431) with: {'C': 0.01, 'penalty': 'l1', 'solver': 'liblinear'}\\n0.767292 (0.009747) with: {'C': 0.01, 'penalty': 'l2', 'solver': 'newton-cg'}\\n0.767292 (0.009747) with: {'C': 0.01, 'penalty': 'l2', 'solver': 'lbfgs'}\\n0.762500 (0.009634) with: {'C': 0.01, 'penalty': 'l2', 'solver': 'liblinear'}\\n0.000000 (0.000000) with: {'C': 0.01, 'penalty': 'elasticnet', 'solver': 'newton-cg'}\\n0.000000 (0.000000) with: {'C': 0.01, 'penalty': 'elasticnet', 'solver': 'lbfgs'}\\n0.000000 (0.000000) with: {'C': 0.01, 'penalty': 'elasticnet', 'solver': 'liblinear'}\\n0.811917 (0.010756) with: {'C': 0.01, 'penalty': 'none', 'solver': 'newton-cg'}\\n0.844500 (0.010536) with: {'C': 0.01, 'penalty': 'none', 'solver': 'lbfgs'}\\n0.000000 (0.000000) with: {'C': 0.01, 'penalty': 'none', 'solver': 'liblinear'}\\n\"))"
   ]
  },
  {
   "cell_type": "code",
   "execution_count": null,
   "metadata": {},
   "outputs": [],
   "source": [
    "# ### Hyperparameter Tuning ###\n",
    "\n",
    "# from sklearn.model_selection import RepeatedStratifiedKFold\n",
    "# from sklearn.model_selection import GridSearchCV\n",
    "# from sklearn.ensemble import RandomForestClassifier\n",
    "\n",
    "# # define models and parameters\n",
    "# model = RandomForestClassifier()\n",
    "# n_estimators = [10, 100, 1000]\n",
    "# max_features = ['sqrt', 'log2']\n",
    "# criterion = ['gini', 'entropy']\n",
    "# # define grid search\n",
    "# grid = dict(n_estimators=n_estimators,max_features=max_features,criterion=criterion)\n",
    "# cv = RepeatedStratifiedKFold(n_splits=10, n_repeats=3, random_state=1)\n",
    "# grid_search = GridSearchCV(estimator=model, param_grid=grid, n_jobs=-1, cv=cv, scoring='accuracy',error_score=0)\n",
    "# grid_result = grid_search.fit(X_train, y_train)\n",
    "# # summarize results\n",
    "# print(\"Best: %f using %s\" % (grid_result.best_score_, grid_result.best_params_))\n",
    "# means = grid_result.cv_results_['mean_test_score']\n",
    "# stds = grid_result.cv_results_['std_test_score']\n",
    "# params = grid_result.cv_results_['params']\n",
    "# for mean, stdev, param in zip(means, stds, params):\n",
    "#     print(\"%f (%f) with: %r\" % (mean, stdev, param))"
   ]
  },
  {
   "cell_type": "code",
   "execution_count": null,
   "metadata": {},
   "outputs": [],
   "source": [
    "# rand_forest_dict = {'mean_test_score': [\n",
    "#                         0.842500, \n",
    "#                         0.855208, \n",
    "#                         0.856167, \n",
    "#                         0.826542, \n",
    "#                         0.849042, \n",
    "#                         0.850250, \n",
    "#                         0.840750, \n",
    "#                         0.852833, \n",
    "#                         0.854125, \n",
    "#                         0.824167, \n",
    "#                         0.847542, \n",
    "#                         0.850333\n",
    "#                         ],\n",
    "\n",
    "#                     'criterion': [\n",
    "#                         'gini',\n",
    "#                         'gini',\n",
    "#                         'gini',\n",
    "#                         'gini',\n",
    "#                         'gini',\n",
    "#                         'gini',\n",
    "#                         'entropy',\n",
    "#                         'entropy',\n",
    "#                         'entropy',\n",
    "#                         'entropy',\n",
    "#                         'entropy',\n",
    "#                         'entropy'\n",
    "#                     ],\n",
    "\n",
    "#                     'max_features': [\n",
    "#                         'sqrt',\n",
    "#                         'sqrt',\n",
    "#                         'sqrt',\n",
    "#                         'log2',\n",
    "#                         'log2',\n",
    "#                         'log2',\n",
    "#                         'sqrt',\n",
    "#                         'sqrt',\n",
    "#                         'sqrt',\n",
    "#                         'log2',\n",
    "#                         'log2',\n",
    "#                         'log2'\n",
    "#                     ],\n",
    "\n",
    "#                     'n_estimators': [\n",
    "#                         10,\n",
    "#                         100,\n",
    "#                         1000,\n",
    "#                         10,\n",
    "#                         100,\n",
    "#                         1000,\n",
    "#                         10,\n",
    "#                         100,\n",
    "#                         1000,\n",
    "#                         10,\n",
    "#                         100,\n",
    "#                         1000\n",
    "#                     ],\n",
    "# }\n",
    "\n",
    "\n",
    "\n",
    "\n",
    "# final_rand_forest = pd.DataFrame(rand_forest_dict)"
   ]
  },
  {
   "cell_type": "code",
   "execution_count": 118,
   "metadata": {},
   "outputs": [
    {
     "name": "stderr",
     "output_type": "stream",
     "text": [
      "/Users/mgw/opt/anaconda3/envs/cs680/lib/python3.9/site-packages/sklearn/model_selection/_validation.py:372: FitFailedWarning: \n",
      "240 fits failed out of a total of 2160.\n",
      "The score on these train-test partitions for these parameters will be set to 0.\n",
      "If these failures are not expected, you can try to debug them by setting error_score='raise'.\n",
      "\n",
      "Below are more details about the failures:\n",
      "--------------------------------------------------------------------------------\n",
      "240 fits failed with the following error:\n",
      "Traceback (most recent call last):\n",
      "  File \"/Users/mgw/opt/anaconda3/envs/cs680/lib/python3.9/site-packages/sklearn/model_selection/_validation.py\", line 681, in _fit_and_score\n",
      "    estimator.fit(X_train, y_train, **fit_params)\n",
      "  File \"/Users/mgw/opt/anaconda3/envs/cs680/lib/python3.9/site-packages/sklearn/tree/_classes.py\", line 937, in fit\n",
      "    super().fit(\n",
      "  File \"/Users/mgw/opt/anaconda3/envs/cs680/lib/python3.9/site-packages/sklearn/tree/_classes.py\", line 250, in fit\n",
      "    raise ValueError(\n",
      "ValueError: min_samples_split must be an integer greater than 1 or a float in (0.0, 1.0]; got the integer 1\n",
      "\n",
      "  warnings.warn(some_fits_failed_message, FitFailedWarning)\n"
     ]
    },
    {
     "name": "stdout",
     "output_type": "stream",
     "text": [
      "Best: 0.823542 using {'criterion': 'entropy', 'max_depth': None, 'max_features': None, 'min_samples_leaf': 1, 'min_samples_split': 8}\n",
      "0.000000 (0.000000) with: {'criterion': 'gini', 'max_depth': None, 'max_features': None, 'min_samples_leaf': 1, 'min_samples_split': 1}\n",
      "0.815875 (0.012201) with: {'criterion': 'gini', 'max_depth': None, 'max_features': None, 'min_samples_leaf': 1, 'min_samples_split': 2}\n",
      "0.816917 (0.011062) with: {'criterion': 'gini', 'max_depth': None, 'max_features': None, 'min_samples_leaf': 1, 'min_samples_split': 3}\n",
      "0.822292 (0.012375) with: {'criterion': 'gini', 'max_depth': None, 'max_features': None, 'min_samples_leaf': 1, 'min_samples_split': 4}\n",
      "0.822958 (0.012250) with: {'criterion': 'gini', 'max_depth': None, 'max_features': None, 'min_samples_leaf': 1, 'min_samples_split': 5}\n",
      "0.821417 (0.014371) with: {'criterion': 'gini', 'max_depth': None, 'max_features': None, 'min_samples_leaf': 1, 'min_samples_split': 6}\n",
      "0.822250 (0.011900) with: {'criterion': 'gini', 'max_depth': None, 'max_features': None, 'min_samples_leaf': 1, 'min_samples_split': 7}\n",
      "0.823333 (0.012712) with: {'criterion': 'gini', 'max_depth': None, 'max_features': None, 'min_samples_leaf': 1, 'min_samples_split': 8}\n",
      "0.822292 (0.012209) with: {'criterion': 'gini', 'max_depth': None, 'max_features': None, 'min_samples_leaf': 1, 'min_samples_split': 9}\n",
      "0.000000 (0.000000) with: {'criterion': 'gini', 'max_depth': None, 'max_features': None, 'min_samples_leaf': 2, 'min_samples_split': 1}\n",
      "0.813333 (0.014242) with: {'criterion': 'gini', 'max_depth': None, 'max_features': None, 'min_samples_leaf': 2, 'min_samples_split': 2}\n",
      "0.813792 (0.014298) with: {'criterion': 'gini', 'max_depth': None, 'max_features': None, 'min_samples_leaf': 2, 'min_samples_split': 3}\n",
      "0.813250 (0.012581) with: {'criterion': 'gini', 'max_depth': None, 'max_features': None, 'min_samples_leaf': 2, 'min_samples_split': 4}\n",
      "0.814125 (0.012955) with: {'criterion': 'gini', 'max_depth': None, 'max_features': None, 'min_samples_leaf': 2, 'min_samples_split': 5}\n",
      "0.816083 (0.013477) with: {'criterion': 'gini', 'max_depth': None, 'max_features': None, 'min_samples_leaf': 2, 'min_samples_split': 6}\n",
      "0.814917 (0.012817) with: {'criterion': 'gini', 'max_depth': None, 'max_features': None, 'min_samples_leaf': 2, 'min_samples_split': 7}\n",
      "0.816250 (0.012089) with: {'criterion': 'gini', 'max_depth': None, 'max_features': None, 'min_samples_leaf': 2, 'min_samples_split': 8}\n",
      "0.817042 (0.012663) with: {'criterion': 'gini', 'max_depth': None, 'max_features': None, 'min_samples_leaf': 2, 'min_samples_split': 9}\n",
      "0.000000 (0.000000) with: {'criterion': 'gini', 'max_depth': None, 'max_features': None, 'min_samples_leaf': 3, 'min_samples_split': 1}\n",
      "0.819625 (0.013852) with: {'criterion': 'gini', 'max_depth': None, 'max_features': None, 'min_samples_leaf': 3, 'min_samples_split': 2}\n",
      "0.819333 (0.013001) with: {'criterion': 'gini', 'max_depth': None, 'max_features': None, 'min_samples_leaf': 3, 'min_samples_split': 3}\n",
      "0.819250 (0.012774) with: {'criterion': 'gini', 'max_depth': None, 'max_features': None, 'min_samples_leaf': 3, 'min_samples_split': 4}\n",
      "0.819375 (0.013776) with: {'criterion': 'gini', 'max_depth': None, 'max_features': None, 'min_samples_leaf': 3, 'min_samples_split': 5}\n",
      "0.819917 (0.013385) with: {'criterion': 'gini', 'max_depth': None, 'max_features': None, 'min_samples_leaf': 3, 'min_samples_split': 6}\n",
      "0.820000 (0.013385) with: {'criterion': 'gini', 'max_depth': None, 'max_features': None, 'min_samples_leaf': 3, 'min_samples_split': 7}\n",
      "0.819875 (0.012879) with: {'criterion': 'gini', 'max_depth': None, 'max_features': None, 'min_samples_leaf': 3, 'min_samples_split': 8}\n",
      "0.820583 (0.012836) with: {'criterion': 'gini', 'max_depth': None, 'max_features': None, 'min_samples_leaf': 3, 'min_samples_split': 9}\n",
      "0.000000 (0.000000) with: {'criterion': 'gini', 'max_depth': None, 'max_features': None, 'min_samples_leaf': 4, 'min_samples_split': 1}\n",
      "0.815208 (0.013393) with: {'criterion': 'gini', 'max_depth': None, 'max_features': None, 'min_samples_leaf': 4, 'min_samples_split': 2}\n",
      "0.814875 (0.014639) with: {'criterion': 'gini', 'max_depth': None, 'max_features': None, 'min_samples_leaf': 4, 'min_samples_split': 3}\n",
      "0.814583 (0.014942) with: {'criterion': 'gini', 'max_depth': None, 'max_features': None, 'min_samples_leaf': 4, 'min_samples_split': 4}\n",
      "0.815042 (0.013488) with: {'criterion': 'gini', 'max_depth': None, 'max_features': None, 'min_samples_leaf': 4, 'min_samples_split': 5}\n",
      "0.814708 (0.014251) with: {'criterion': 'gini', 'max_depth': None, 'max_features': None, 'min_samples_leaf': 4, 'min_samples_split': 6}\n",
      "0.814625 (0.014671) with: {'criterion': 'gini', 'max_depth': None, 'max_features': None, 'min_samples_leaf': 4, 'min_samples_split': 7}\n",
      "0.815500 (0.014345) with: {'criterion': 'gini', 'max_depth': None, 'max_features': None, 'min_samples_leaf': 4, 'min_samples_split': 8}\n",
      "0.816042 (0.014427) with: {'criterion': 'gini', 'max_depth': None, 'max_features': None, 'min_samples_leaf': 4, 'min_samples_split': 9}\n",
      "0.000000 (0.000000) with: {'criterion': 'entropy', 'max_depth': None, 'max_features': None, 'min_samples_leaf': 1, 'min_samples_split': 1}\n",
      "0.816125 (0.010726) with: {'criterion': 'entropy', 'max_depth': None, 'max_features': None, 'min_samples_leaf': 1, 'min_samples_split': 2}\n",
      "0.816333 (0.011388) with: {'criterion': 'entropy', 'max_depth': None, 'max_features': None, 'min_samples_leaf': 1, 'min_samples_split': 3}\n",
      "0.821667 (0.011247) with: {'criterion': 'entropy', 'max_depth': None, 'max_features': None, 'min_samples_leaf': 1, 'min_samples_split': 4}\n",
      "0.821083 (0.011809) with: {'criterion': 'entropy', 'max_depth': None, 'max_features': None, 'min_samples_leaf': 1, 'min_samples_split': 5}\n",
      "0.822542 (0.013434) with: {'criterion': 'entropy', 'max_depth': None, 'max_features': None, 'min_samples_leaf': 1, 'min_samples_split': 6}\n",
      "0.822833 (0.012562) with: {'criterion': 'entropy', 'max_depth': None, 'max_features': None, 'min_samples_leaf': 1, 'min_samples_split': 7}\n",
      "0.823542 (0.012434) with: {'criterion': 'entropy', 'max_depth': None, 'max_features': None, 'min_samples_leaf': 1, 'min_samples_split': 8}\n",
      "0.823542 (0.011538) with: {'criterion': 'entropy', 'max_depth': None, 'max_features': None, 'min_samples_leaf': 1, 'min_samples_split': 9}\n",
      "0.000000 (0.000000) with: {'criterion': 'entropy', 'max_depth': None, 'max_features': None, 'min_samples_leaf': 2, 'min_samples_split': 1}\n",
      "0.813500 (0.010971) with: {'criterion': 'entropy', 'max_depth': None, 'max_features': None, 'min_samples_leaf': 2, 'min_samples_split': 2}\n",
      "0.811333 (0.013833) with: {'criterion': 'entropy', 'max_depth': None, 'max_features': None, 'min_samples_leaf': 2, 'min_samples_split': 3}\n",
      "0.813083 (0.013481) with: {'criterion': 'entropy', 'max_depth': None, 'max_features': None, 'min_samples_leaf': 2, 'min_samples_split': 4}\n",
      "0.813042 (0.014616) with: {'criterion': 'entropy', 'max_depth': None, 'max_features': None, 'min_samples_leaf': 2, 'min_samples_split': 5}\n",
      "0.814708 (0.014583) with: {'criterion': 'entropy', 'max_depth': None, 'max_features': None, 'min_samples_leaf': 2, 'min_samples_split': 6}\n",
      "0.814917 (0.014263) with: {'criterion': 'entropy', 'max_depth': None, 'max_features': None, 'min_samples_leaf': 2, 'min_samples_split': 7}\n",
      "0.816542 (0.013235) with: {'criterion': 'entropy', 'max_depth': None, 'max_features': None, 'min_samples_leaf': 2, 'min_samples_split': 8}\n",
      "0.816000 (0.013250) with: {'criterion': 'entropy', 'max_depth': None, 'max_features': None, 'min_samples_leaf': 2, 'min_samples_split': 9}\n",
      "0.000000 (0.000000) with: {'criterion': 'entropy', 'max_depth': None, 'max_features': None, 'min_samples_leaf': 3, 'min_samples_split': 1}\n",
      "0.817417 (0.012521) with: {'criterion': 'entropy', 'max_depth': None, 'max_features': None, 'min_samples_leaf': 3, 'min_samples_split': 2}\n",
      "0.816417 (0.012386) with: {'criterion': 'entropy', 'max_depth': None, 'max_features': None, 'min_samples_leaf': 3, 'min_samples_split': 3}\n",
      "0.817875 (0.012947) with: {'criterion': 'entropy', 'max_depth': None, 'max_features': None, 'min_samples_leaf': 3, 'min_samples_split': 4}\n",
      "0.817667 (0.012066) with: {'criterion': 'entropy', 'max_depth': None, 'max_features': None, 'min_samples_leaf': 3, 'min_samples_split': 5}\n",
      "0.817583 (0.013153) with: {'criterion': 'entropy', 'max_depth': None, 'max_features': None, 'min_samples_leaf': 3, 'min_samples_split': 6}\n",
      "0.817792 (0.011875) with: {'criterion': 'entropy', 'max_depth': None, 'max_features': None, 'min_samples_leaf': 3, 'min_samples_split': 7}\n",
      "0.818208 (0.012432) with: {'criterion': 'entropy', 'max_depth': None, 'max_features': None, 'min_samples_leaf': 3, 'min_samples_split': 8}\n",
      "0.818833 (0.012521) with: {'criterion': 'entropy', 'max_depth': None, 'max_features': None, 'min_samples_leaf': 3, 'min_samples_split': 9}\n",
      "0.000000 (0.000000) with: {'criterion': 'entropy', 'max_depth': None, 'max_features': None, 'min_samples_leaf': 4, 'min_samples_split': 1}\n",
      "0.816375 (0.012313) with: {'criterion': 'entropy', 'max_depth': None, 'max_features': None, 'min_samples_leaf': 4, 'min_samples_split': 2}\n",
      "0.816042 (0.012282) with: {'criterion': 'entropy', 'max_depth': None, 'max_features': None, 'min_samples_leaf': 4, 'min_samples_split': 3}\n",
      "0.815708 (0.012660) with: {'criterion': 'entropy', 'max_depth': None, 'max_features': None, 'min_samples_leaf': 4, 'min_samples_split': 4}\n",
      "0.816583 (0.012496) with: {'criterion': 'entropy', 'max_depth': None, 'max_features': None, 'min_samples_leaf': 4, 'min_samples_split': 5}\n",
      "0.815917 (0.012433) with: {'criterion': 'entropy', 'max_depth': None, 'max_features': None, 'min_samples_leaf': 4, 'min_samples_split': 6}\n",
      "0.815333 (0.012537) with: {'criterion': 'entropy', 'max_depth': None, 'max_features': None, 'min_samples_leaf': 4, 'min_samples_split': 7}\n",
      "0.816167 (0.013094) with: {'criterion': 'entropy', 'max_depth': None, 'max_features': None, 'min_samples_leaf': 4, 'min_samples_split': 8}\n",
      "0.816500 (0.012456) with: {'criterion': 'entropy', 'max_depth': None, 'max_features': None, 'min_samples_leaf': 4, 'min_samples_split': 9}\n"
     ]
    }
   ],
   "source": [
    "# ### Hyperparameter Tuning ###\n",
    "\n",
    "from sklearn.model_selection import RepeatedStratifiedKFold\n",
    "from sklearn.model_selection import GridSearchCV\n",
    "\n",
    "# DecisionTreeClassifier(criterion='gini', \n",
    "#                                 max_features=None,min_samples_leaf=1, \n",
    "#                                     min_samples_split=2, random_state=0)\n",
    "\n",
    "# define models and parameters\n",
    "model = DecisionTreeClassifier()\n",
    "# max_features = ['sqrt', 'log2', 'auto']\n",
    "max_features = [None]\n",
    "criterion = ['gini', 'entropy']\n",
    "# max_depth = [2,4,6,8,10,12]\n",
    "max_depth = [None]\n",
    "min_samples_split = range(1,10)\n",
    "min_samples_leaf = range(1,5)\n",
    "# define grid search\n",
    "grid = dict(max_depth=max_depth,max_features=max_features,criterion=criterion,min_samples_split=min_samples_split,min_samples_leaf=min_samples_leaf)\n",
    "cv = RepeatedStratifiedKFold(n_splits=10, n_repeats=3, random_state=1)\n",
    "grid_search = GridSearchCV(estimator=model, param_grid=grid, n_jobs=-1, cv=cv, scoring='accuracy',error_score=0)\n",
    "grid_result = grid_search.fit(X_train, y_train)\n",
    "# summarize results\n",
    "print(\"Best: %f using %s\" % (grid_result.best_score_, grid_result.best_params_))\n",
    "means = grid_result.cv_results_['mean_test_score']\n",
    "stds = grid_result.cv_results_['std_test_score']\n",
    "params = grid_result.cv_results_['params']\n",
    "for mean, stdev, param in zip(means, stds, params):\n",
    "    print(\"%f (%f) with: %r\" % (mean, stdev, param))"
   ]
  },
  {
   "cell_type": "code",
   "execution_count": 119,
   "metadata": {},
   "outputs": [],
   "source": [
    "dec_tree_criterion, dec_tree_max_depth, dec_tree_max_features, dec_tree_min_samples_leaf, dec_tree_min_samples_split = [], [], [], [], []\n",
    "\n",
    "\n",
    "for sample in params:\n",
    "    dec_tree_criterion.append(sample['criterion'])\n",
    "\n",
    "    dec_tree_max_depth.append(sample['max_depth'])\n",
    "\n",
    "    dec_tree_max_features.append(sample['max_features'])\n",
    "\n",
    "    dec_tree_min_samples_leaf.append(sample['min_samples_leaf'])\n",
    "\n",
    "    dec_tree_min_samples_split.append(sample['min_samples_split'])\n",
    "\n",
    "dec_tree_dict = {'mean_test_score': means, \n",
    "                    'criterion': dec_tree_criterion, \n",
    "                    'max_depth': dec_tree_max_depth, \n",
    "                    'max_features': dec_tree_max_features, \n",
    "                    'min_samples_leaf': dec_tree_min_samples_leaf, \n",
    "                    'min_samples_split': dec_tree_min_samples_split}\n",
    "\n",
    "final_dec_tree = pd.DataFrame(dec_tree_dict)\n",
    "\n"
   ]
  },
  {
   "cell_type": "code",
   "execution_count": 121,
   "metadata": {},
   "outputs": [
    {
     "data": {
      "text/html": [
       "<div>\n",
       "<style scoped>\n",
       "    .dataframe tbody tr th:only-of-type {\n",
       "        vertical-align: middle;\n",
       "    }\n",
       "\n",
       "    .dataframe tbody tr th {\n",
       "        vertical-align: top;\n",
       "    }\n",
       "\n",
       "    .dataframe thead th {\n",
       "        text-align: right;\n",
       "    }\n",
       "</style>\n",
       "<table border=\"1\" class=\"dataframe\">\n",
       "  <thead>\n",
       "    <tr style=\"text-align: right;\">\n",
       "      <th></th>\n",
       "      <th>mean_test_score</th>\n",
       "      <th>criterion</th>\n",
       "      <th>max_depth</th>\n",
       "      <th>max_features</th>\n",
       "      <th>min_samples_leaf</th>\n",
       "      <th>min_samples_split</th>\n",
       "    </tr>\n",
       "  </thead>\n",
       "  <tbody>\n",
       "    <tr>\n",
       "      <th>0</th>\n",
       "      <td>0.823542</td>\n",
       "      <td>entropy</td>\n",
       "      <td>None</td>\n",
       "      <td>None</td>\n",
       "      <td>1</td>\n",
       "      <td>8</td>\n",
       "    </tr>\n",
       "    <tr>\n",
       "      <th>1</th>\n",
       "      <td>0.823542</td>\n",
       "      <td>entropy</td>\n",
       "      <td>None</td>\n",
       "      <td>None</td>\n",
       "      <td>1</td>\n",
       "      <td>9</td>\n",
       "    </tr>\n",
       "    <tr>\n",
       "      <th>2</th>\n",
       "      <td>0.823333</td>\n",
       "      <td>gini</td>\n",
       "      <td>None</td>\n",
       "      <td>None</td>\n",
       "      <td>1</td>\n",
       "      <td>8</td>\n",
       "    </tr>\n",
       "    <tr>\n",
       "      <th>3</th>\n",
       "      <td>0.822958</td>\n",
       "      <td>gini</td>\n",
       "      <td>None</td>\n",
       "      <td>None</td>\n",
       "      <td>1</td>\n",
       "      <td>5</td>\n",
       "    </tr>\n",
       "    <tr>\n",
       "      <th>4</th>\n",
       "      <td>0.822833</td>\n",
       "      <td>entropy</td>\n",
       "      <td>None</td>\n",
       "      <td>None</td>\n",
       "      <td>1</td>\n",
       "      <td>7</td>\n",
       "    </tr>\n",
       "    <tr>\n",
       "      <th>5</th>\n",
       "      <td>0.822542</td>\n",
       "      <td>entropy</td>\n",
       "      <td>None</td>\n",
       "      <td>None</td>\n",
       "      <td>1</td>\n",
       "      <td>6</td>\n",
       "    </tr>\n",
       "    <tr>\n",
       "      <th>6</th>\n",
       "      <td>0.822292</td>\n",
       "      <td>gini</td>\n",
       "      <td>None</td>\n",
       "      <td>None</td>\n",
       "      <td>1</td>\n",
       "      <td>9</td>\n",
       "    </tr>\n",
       "    <tr>\n",
       "      <th>7</th>\n",
       "      <td>0.822292</td>\n",
       "      <td>gini</td>\n",
       "      <td>None</td>\n",
       "      <td>None</td>\n",
       "      <td>1</td>\n",
       "      <td>4</td>\n",
       "    </tr>\n",
       "    <tr>\n",
       "      <th>8</th>\n",
       "      <td>0.822250</td>\n",
       "      <td>gini</td>\n",
       "      <td>None</td>\n",
       "      <td>None</td>\n",
       "      <td>1</td>\n",
       "      <td>7</td>\n",
       "    </tr>\n",
       "    <tr>\n",
       "      <th>9</th>\n",
       "      <td>0.821667</td>\n",
       "      <td>entropy</td>\n",
       "      <td>None</td>\n",
       "      <td>None</td>\n",
       "      <td>1</td>\n",
       "      <td>4</td>\n",
       "    </tr>\n",
       "  </tbody>\n",
       "</table>\n",
       "</div>"
      ],
      "text/plain": [
       "   mean_test_score criterion max_depth max_features  min_samples_leaf  \\\n",
       "0         0.823542   entropy      None         None                 1   \n",
       "1         0.823542   entropy      None         None                 1   \n",
       "2         0.823333      gini      None         None                 1   \n",
       "3         0.822958      gini      None         None                 1   \n",
       "4         0.822833   entropy      None         None                 1   \n",
       "5         0.822542   entropy      None         None                 1   \n",
       "6         0.822292      gini      None         None                 1   \n",
       "7         0.822292      gini      None         None                 1   \n",
       "8         0.822250      gini      None         None                 1   \n",
       "9         0.821667   entropy      None         None                 1   \n",
       "\n",
       "   min_samples_split  \n",
       "0                  8  \n",
       "1                  9  \n",
       "2                  8  \n",
       "3                  5  \n",
       "4                  7  \n",
       "5                  6  \n",
       "6                  9  \n",
       "7                  4  \n",
       "8                  7  \n",
       "9                  4  "
      ]
     },
     "execution_count": 121,
     "metadata": {},
     "output_type": "execute_result"
    }
   ],
   "source": [
    "final_dec_tree.sort_values(by = 'mean_test_score', ascending=False).head(10).reset_index(drop=True)"
   ]
  },
  {
   "cell_type": "code",
   "execution_count": null,
   "metadata": {},
   "outputs": [],
   "source": [
    "# Final dataframes of all hyperparameter results (top 10 only)\n",
    "\n",
    "# final_nb.sort_values(by = 'mean_test_score', ascending=False).head(10).reset_index(drop=True)\n",
    "\n",
    "# final_svc.sort_values(by = 'mean_test_score', ascending=False).head(10).reset_index(drop=True)\n",
    "\n",
    "# final_logistic.sort_values(by = 'mean_test_score', ascending=False).head(10).reset_index(drop=True)\n",
    "\n",
    "# final_rand_forest.sort_values(by = 'mean_test_score', ascending=False).head(10).reset_index(drop=True)\n",
    "\n",
    "# final_dec_tree.sort_values(by = 'mean_test_score', ascending=False).head(10).reset_index(drop=True)\n"
   ]
  },
  {
   "cell_type": "code",
   "execution_count": null,
   "metadata": {},
   "outputs": [],
   "source": []
  },
  {
   "cell_type": "code",
   "execution_count": null,
   "metadata": {},
   "outputs": [],
   "source": []
  },
  {
   "cell_type": "code",
   "execution_count": null,
   "metadata": {},
   "outputs": [],
   "source": []
  },
  {
   "cell_type": "code",
   "execution_count": null,
   "metadata": {},
   "outputs": [],
   "source": []
  },
  {
   "cell_type": "markdown",
   "metadata": {},
   "source": [
    "## Applying models and calculating the scores"
   ]
  },
  {
   "cell_type": "code",
   "execution_count": 66,
   "metadata": {},
   "outputs": [
    {
     "name": "stderr",
     "output_type": "stream",
     "text": [
      "/Users/mgw/opt/anaconda3/envs/cs680/lib/python3.9/site-packages/sklearn/linear_model/_logistic.py:814: ConvergenceWarning: lbfgs failed to converge (status=1):\n",
      "STOP: TOTAL NO. of ITERATIONS REACHED LIMIT.\n",
      "\n",
      "Increase the number of iterations (max_iter) or scale the data as shown in:\n",
      "    https://scikit-learn.org/stable/modules/preprocessing.html\n",
      "Please also refer to the documentation for alternative solver options:\n",
      "    https://scikit-learn.org/stable/modules/linear_model.html#logistic-regression\n",
      "  n_iter_i = _check_optimize_result(\n",
      "/Users/mgw/opt/anaconda3/envs/cs680/lib/python3.9/site-packages/sklearn/linear_model/_logistic.py:814: ConvergenceWarning: lbfgs failed to converge (status=1):\n",
      "STOP: TOTAL NO. of ITERATIONS REACHED LIMIT.\n",
      "\n",
      "Increase the number of iterations (max_iter) or scale the data as shown in:\n",
      "    https://scikit-learn.org/stable/modules/preprocessing.html\n",
      "Please also refer to the documentation for alternative solver options:\n",
      "    https://scikit-learn.org/stable/modules/linear_model.html#logistic-regression\n",
      "  n_iter_i = _check_optimize_result(\n",
      "/Users/mgw/opt/anaconda3/envs/cs680/lib/python3.9/site-packages/sklearn/linear_model/_logistic.py:814: ConvergenceWarning: lbfgs failed to converge (status=1):\n",
      "STOP: TOTAL NO. of ITERATIONS REACHED LIMIT.\n",
      "\n",
      "Increase the number of iterations (max_iter) or scale the data as shown in:\n",
      "    https://scikit-learn.org/stable/modules/preprocessing.html\n",
      "Please also refer to the documentation for alternative solver options:\n",
      "    https://scikit-learn.org/stable/modules/linear_model.html#logistic-regression\n",
      "  n_iter_i = _check_optimize_result(\n",
      "/Users/mgw/opt/anaconda3/envs/cs680/lib/python3.9/site-packages/sklearn/linear_model/_logistic.py:814: ConvergenceWarning: lbfgs failed to converge (status=1):\n",
      "STOP: TOTAL NO. of ITERATIONS REACHED LIMIT.\n",
      "\n",
      "Increase the number of iterations (max_iter) or scale the data as shown in:\n",
      "    https://scikit-learn.org/stable/modules/preprocessing.html\n",
      "Please also refer to the documentation for alternative solver options:\n",
      "    https://scikit-learn.org/stable/modules/linear_model.html#logistic-regression\n",
      "  n_iter_i = _check_optimize_result(\n",
      "/Users/mgw/opt/anaconda3/envs/cs680/lib/python3.9/site-packages/sklearn/linear_model/_logistic.py:814: ConvergenceWarning: lbfgs failed to converge (status=1):\n",
      "STOP: TOTAL NO. of ITERATIONS REACHED LIMIT.\n",
      "\n",
      "Increase the number of iterations (max_iter) or scale the data as shown in:\n",
      "    https://scikit-learn.org/stable/modules/preprocessing.html\n",
      "Please also refer to the documentation for alternative solver options:\n",
      "    https://scikit-learn.org/stable/modules/linear_model.html#logistic-regression\n",
      "  n_iter_i = _check_optimize_result(\n",
      "/Users/mgw/opt/anaconda3/envs/cs680/lib/python3.9/site-packages/sklearn/linear_model/_logistic.py:814: ConvergenceWarning: lbfgs failed to converge (status=1):\n",
      "STOP: TOTAL NO. of ITERATIONS REACHED LIMIT.\n",
      "\n",
      "Increase the number of iterations (max_iter) or scale the data as shown in:\n",
      "    https://scikit-learn.org/stable/modules/preprocessing.html\n",
      "Please also refer to the documentation for alternative solver options:\n",
      "    https://scikit-learn.org/stable/modules/linear_model.html#logistic-regression\n",
      "  n_iter_i = _check_optimize_result(\n",
      "/Users/mgw/opt/anaconda3/envs/cs680/lib/python3.9/site-packages/sklearn/linear_model/_logistic.py:814: ConvergenceWarning: lbfgs failed to converge (status=1):\n",
      "STOP: TOTAL NO. of ITERATIONS REACHED LIMIT.\n",
      "\n",
      "Increase the number of iterations (max_iter) or scale the data as shown in:\n",
      "    https://scikit-learn.org/stable/modules/preprocessing.html\n",
      "Please also refer to the documentation for alternative solver options:\n",
      "    https://scikit-learn.org/stable/modules/linear_model.html#logistic-regression\n",
      "  n_iter_i = _check_optimize_result(\n",
      "/Users/mgw/opt/anaconda3/envs/cs680/lib/python3.9/site-packages/sklearn/linear_model/_logistic.py:814: ConvergenceWarning: lbfgs failed to converge (status=1):\n",
      "STOP: TOTAL NO. of ITERATIONS REACHED LIMIT.\n",
      "\n",
      "Increase the number of iterations (max_iter) or scale the data as shown in:\n",
      "    https://scikit-learn.org/stable/modules/preprocessing.html\n",
      "Please also refer to the documentation for alternative solver options:\n",
      "    https://scikit-learn.org/stable/modules/linear_model.html#logistic-regression\n",
      "  n_iter_i = _check_optimize_result(\n",
      "/Users/mgw/opt/anaconda3/envs/cs680/lib/python3.9/site-packages/sklearn/linear_model/_logistic.py:814: ConvergenceWarning: lbfgs failed to converge (status=1):\n",
      "STOP: TOTAL NO. of ITERATIONS REACHED LIMIT.\n",
      "\n",
      "Increase the number of iterations (max_iter) or scale the data as shown in:\n",
      "    https://scikit-learn.org/stable/modules/preprocessing.html\n",
      "Please also refer to the documentation for alternative solver options:\n",
      "    https://scikit-learn.org/stable/modules/linear_model.html#logistic-regression\n",
      "  n_iter_i = _check_optimize_result(\n",
      "/Users/mgw/opt/anaconda3/envs/cs680/lib/python3.9/site-packages/sklearn/linear_model/_logistic.py:814: ConvergenceWarning: lbfgs failed to converge (status=1):\n",
      "STOP: TOTAL NO. of ITERATIONS REACHED LIMIT.\n",
      "\n",
      "Increase the number of iterations (max_iter) or scale the data as shown in:\n",
      "    https://scikit-learn.org/stable/modules/preprocessing.html\n",
      "Please also refer to the documentation for alternative solver options:\n",
      "    https://scikit-learn.org/stable/modules/linear_model.html#logistic-regression\n",
      "  n_iter_i = _check_optimize_result(\n"
     ]
    }
   ],
   "source": [
    "# Applying models\n",
    "\n",
    "labels = df[1]\n",
    "# models = [\n",
    "#     RandomForestClassifier(max_features='log2', n_estimators=1000, criterion = 'entropy', \n",
    "#                            random_state = 0),\n",
    "#     LinearSVC(C=1.0, random_state=0),\n",
    "#     MultinomialNB(alpha=1, fit_prior=True),\n",
    "#     LogisticRegression(C=1.0, penalty='l2', solver='newton-cg', random_state = 0),\n",
    "#     DecisionTreeClassifier(criterion='gini', \n",
    "#                            max_features=None,min_samples_leaf=1, \n",
    "#                            min_samples_split=2, random_state=0),\n",
    "# ]\n",
    "\n",
    "models = [\n",
    "    RandomForestClassifier(max_features='sqrt', n_estimators=1000, criterion = 'gini', \n",
    "                           random_state = 0),\n",
    "    LinearSVC(C=1, random_state=0),\n",
    "    MultinomialNB(alpha=1, fit_prior=True),\n",
    "    LogisticRegression(C=1, penalty='l2', solver='lbfgs', random_state = 0),\n",
    "    DecisionTreeClassifier(criterion='entropy', max_depth=12, \n",
    "                           max_features='auto',min_samples_leaf=4, \n",
    "                           min_samples_split=6, random_state=0),\n",
    "]\n",
    "\n",
    "\n",
    "cv_df = pd.DataFrame()\n",
    "entries = []\n",
    "\n",
    "for model in models:\n",
    "  model_name = model.__class__.__name__\n",
    "  accuracies = cross_val_score(model, features, labels, scoring='accuracy', cv=10)\n",
    "  for fold_idx, accuracy in enumerate(accuracies):\n",
    "    entries.append((model_name, fold_idx, accuracy))\n",
    "\n",
    "cv_df = pd.DataFrame(entries, columns=['model_name', 'fold_idx', 'accuracy'])\n",
    "\n"
   ]
  },
  {
   "cell_type": "code",
   "execution_count": 67,
   "metadata": {},
   "outputs": [
    {
     "data": {
      "image/png": "[encoded data removed]",
      "text/plain": [
       "<Figure size 432x288 with 1 Axes>"
      ]
     },
     "metadata": {
      "needs_background": "light"
     },
     "output_type": "display_data"
    }
   ],
   "source": [
    "import seaborn as sns\n",
    "sns.boxplot(x='model_name', y='accuracy', data=cv_df)\n",
    "sns.stripplot(x='model_name', y='accuracy', data=cv_df, size=10, jitter=True, linewidth=1)\n",
    "plt.show()"
   ]
  },
  {
   "cell_type": "code",
   "execution_count": 68,
   "metadata": {},
   "outputs": [
    {
     "data": {
      "text/plain": [
       "model_name\n",
       "DecisionTreeClassifier    0.6380\n",
       "LinearSVC                 0.8373\n",
       "LogisticRegression        0.8514\n",
       "MultinomialNB             0.7966\n",
       "RandomForestClassifier    0.8453\n",
       "Name: accuracy, dtype: float64"
      ]
     },
     "execution_count": 68,
     "metadata": {},
     "output_type": "execute_result"
    }
   ],
   "source": [
    "# Printing the accuracies\n",
    "cv_df.groupby('model_name').accuracy.mean()"
   ]
  },
  {
   "cell_type": "code",
   "execution_count": 69,
   "metadata": {},
   "outputs": [
    {
     "data": {
      "text/plain": [
       "(10000, 2210)"
      ]
     },
     "execution_count": 69,
     "metadata": {},
     "output_type": "execute_result"
    }
   ],
   "source": [
    "features.shape"
   ]
  },
  {
   "cell_type": "markdown",
   "metadata": {},
   "source": [
    "## Appyling other models"
   ]
  },
  {
   "cell_type": "code",
   "execution_count": 70,
   "metadata": {},
   "outputs": [],
   "source": [
    "# ### Hyperparameter Tuning ###\n",
    "\n",
    "# from sklearn.model_selection import RepeatedStratifiedKFold\n",
    "# from sklearn.model_selection import GridSearchCV\n",
    "# # from sklearn.ensemble import MultinomialNB\n",
    "\n",
    "# # define models and parameters\n",
    "# model = MultinomialNB()\n",
    "# fit_prior=[True, False]\n",
    "# alpha=[0,0.5,1]\n",
    "\n",
    "# # define grid search\n",
    "# grid = dict(fit_prior=fit_prior,alpha=alpha)\n",
    "# cv = RepeatedStratifiedKFold(n_splits=10, n_repeats=3, random_state=1)\n",
    "# grid_search = GridSearchCV(estimator=model, param_grid=grid, n_jobs=-1, cv=cv, scoring='accuracy',error_score=0)\n",
    "# grid_result = grid_search.fit(X_train, y_train)\n",
    "# # summarize results\n",
    "# print(\"Best: %f using %s\" % (grid_result.best_score_, grid_result.best_params_))\n",
    "# means = grid_result.cv_results_['mean_test_score']\n",
    "# stds = grid_result.cv_results_['std_test_score']\n",
    "# params = grid_result.cv_results_['params']\n",
    "# for mean, stdev, param in zip(means, stds, params):\n",
    "#     print(\"%f (%f) with: %r\" % (mean, stdev, param))"
   ]
  },
  {
   "cell_type": "code",
   "execution_count": 71,
   "metadata": {},
   "outputs": [],
   "source": [
    "X = features\n",
    "y = df.iloc[:, 1].values\n",
    "indices = range(len(X))"
   ]
  },
  {
   "cell_type": "code",
   "execution_count": 72,
   "metadata": {},
   "outputs": [],
   "source": [
    "from sklearn.model_selection import train_test_split\n",
    "\n",
    "X_train, X_test, y_train, y_test, indices_train, indices_test = train_test_split(X, y, indices,\n",
    "                                                                                 test_size=0.2, random_state=42)"
   ]
  },
  {
   "cell_type": "code",
   "execution_count": 73,
   "metadata": {},
   "outputs": [],
   "source": [
    "# for scatter plot -> at the bottom\n",
    "\n",
    "# Function to show the accuracy of each class\n",
    "def acc_each_class(cf_matrix):\n",
    "    total_comments = cf_matrix.sum(axis=1)\n",
    "    correctly_classified = np.diagonal(cf_matrix)\n",
    "    incorrectly_classified = total_comments-correctly_classified\n",
    "    \n",
    "    accuracy_each_class = correctly_classified/total_comments\n",
    "    return accuracy_each_class\n",
    "#     return total_comments, correctly_classified, incorrectly_classified"
   ]
  },
  {
   "cell_type": "code",
   "execution_count": 74,
   "metadata": {},
   "outputs": [],
   "source": [
    "# Function to show original category vs predicted category\n",
    "\n",
    "def show_prediction(y_pred, y_test):\n",
    "\n",
    "    indices_match = y_pred == y_test\n",
    "\n",
    "    df = pd.read_csv('Data/final_data.csv', header=None)\n",
    "\n",
    "    get_comments = []\n",
    "\n",
    "    for i in range(len(indices_test)):\n",
    "        get_comments.append(df[0][indices_test[i]])\n",
    "\n",
    "\n",
    "    data = list(zip(get_comments, y_test, y_pred))\n",
    "    df_result = pd.DataFrame(data, columns=[\"comment\", \"original class\", \"predicted class\"])\n",
    "    return df_result\n",
    "\n",
    "acc_corrective = []\n",
    "acc_imperative = []\n",
    "acc_interrogative = []\n",
    "acc_miscellaneous = []\n",
    "acc_negative = []\n",
    "acc_positive = []"
   ]
  },
  {
   "cell_type": "code",
   "execution_count": 75,
   "metadata": {},
   "outputs": [
    {
     "name": "stdout",
     "output_type": "stream",
     "text": [
      "accuracy score: 0.8485\n"
     ]
    }
   ],
   "source": [
    "# Multinomial NB\n",
    "from sklearn.naive_bayes import MultinomialNB\n",
    "\n",
    "classifier = MultinomialNB(alpha=1, fit_prior=True)\n",
    "classifier.fit(X_train, y_train)\n",
    "\n",
    "# Predicting the Test set results\n",
    "y_pred = classifier.predict(X_test)\n",
    "\n",
    "# Making the Confusion Matrix\n",
    "from sklearn.metrics import confusion_matrix\n",
    "cm_mnb = confusion_matrix(y_test, y_pred)\n",
    "\n",
    "\n",
    "print(\"accuracy score: \" + str(classifier.score(X_test, y_test)))"
   ]
  },
  {
   "cell_type": "code",
   "execution_count": 76,
   "metadata": {},
   "outputs": [
    {
     "name": "stdout",
     "output_type": "stream",
     "text": [
      "0.8485\n",
      "0.8397245531774898\n"
     ]
    }
   ],
   "source": [
    "# ADDED BY MGW to verify F1-score\n",
    "#C_ij group i predicted to be in group j\n",
    "from sklearn.metrics import f1_score\n",
    "\n",
    "metrics = ['micro', 'weighted']\n",
    "\n",
    "for avg in metrics:\n",
    "    print(f1_score(y_test, y_pred, average = avg))"
   ]
  },
  {
   "cell_type": "code",
   "execution_count": 77,
   "metadata": {},
   "outputs": [],
   "source": [
    "accuracies = acc_each_class(cm_mnb)\n",
    "\n",
    "acc_corrective.append(accuracies[0])\n",
    "acc_imperative.append(accuracies[1])\n",
    "acc_interrogative.append(accuracies[2])\n",
    "acc_miscellaneous.append(accuracies[3])\n",
    "acc_negative.append(accuracies[4])\n",
    "acc_positive.append(accuracies[5])"
   ]
  },
  {
   "cell_type": "code",
   "execution_count": null,
   "metadata": {},
   "outputs": [],
   "source": []
  },
  {
   "cell_type": "code",
   "execution_count": 78,
   "metadata": {},
   "outputs": [],
   "source": [
    "# ### Hyperparameter Tuning ###\n",
    "\n",
    "# from sklearn.model_selection import RepeatedStratifiedKFold\n",
    "# from sklearn.model_selection import GridSearchCV\n",
    "# # from sklearn.ensemble import MultinomialNB\n",
    "\n",
    "# # define models and parameters\n",
    "# model = MultinomialNB()\n",
    "# fit_prior=[True, False]\n",
    "# alpha=[0,0.5,1]\n",
    "\n",
    "# # define grid search\n",
    "# grid = dict(fit_prior=fit_prior,alpha=alpha)\n",
    "# cv = RepeatedStratifiedKFold(n_splits=10, n_repeats=3, random_state=1)\n",
    "# grid_search = GridSearchCV(estimator=model, param_grid=grid, n_jobs=-1, cv=cv, scoring='accuracy',error_score=0)\n",
    "# grid_result = grid_search.fit(X_train, y_train)\n",
    "# # summarize results\n",
    "# print(\"Best: %f using %s\" % (grid_result.best_score_, grid_result.best_params_))\n",
    "# means = grid_result.cv_results_['mean_test_score']\n",
    "# stds = grid_result.cv_results_['std_test_score']\n",
    "# params = grid_result.cv_results_['params']\n",
    "# for mean, stdev, param in zip(means, stds, params):\n",
    "#     print(\"%f (%f) with: %r\" % (mean, stdev, param))"
   ]
  },
  {
   "cell_type": "code",
   "execution_count": 79,
   "metadata": {},
   "outputs": [],
   "source": [
    "# show_prediction(y_pred, y_test)"
   ]
  },
  {
   "cell_type": "code",
   "execution_count": null,
   "metadata": {},
   "outputs": [],
   "source": []
  },
  {
   "cell_type": "code",
   "execution_count": 80,
   "metadata": {},
   "outputs": [
    {
     "name": "stdout",
     "output_type": "stream",
     "text": [
      "accuracy score: 0.8655\n"
     ]
    }
   ],
   "source": [
    "# Linear SVC\n",
    "from sklearn.svm import SVC\n",
    "\n",
    "classifier = SVC(C=1.0, gamma='scale', kernel='linear', random_state=0)\n",
    "classifier.fit(X_train, y_train)\n",
    "\n",
    "# Predicting the Test set results\n",
    "y_pred = classifier.predict(X_test)\n",
    "\n",
    "# Making the Confusion Matrix\n",
    "from sklearn.metrics import confusion_matrix\n",
    "cm_lsvc = confusion_matrix(y_test, y_pred)\n",
    "\n",
    "print(\"accuracy score: \" + str(classifier.score(X_test, y_test)))"
   ]
  },
  {
   "cell_type": "code",
   "execution_count": 81,
   "metadata": {},
   "outputs": [
    {
     "name": "stdout",
     "output_type": "stream",
     "text": [
      "0.8655\n",
      "0.8638247497019554\n"
     ]
    }
   ],
   "source": [
    "# ADDED BY MGW to verify F1-score\n",
    "#C_ij group i predicted to be in group j\n",
    "from sklearn.metrics import f1_score\n",
    "\n",
    "metrics = ['micro', 'weighted']\n",
    "\n",
    "for avg in metrics:\n",
    "    print(f1_score(y_test, y_pred, average = avg))"
   ]
  },
  {
   "cell_type": "code",
   "execution_count": 82,
   "metadata": {},
   "outputs": [],
   "source": [
    "accuracies = acc_each_class(cm_lsvc)\n",
    "\n",
    "acc_corrective.append(accuracies[0])\n",
    "acc_imperative.append(accuracies[1])\n",
    "acc_interrogative.append(accuracies[2])\n",
    "acc_miscellaneous.append(accuracies[3])\n",
    "acc_negative.append(accuracies[4])\n",
    "acc_positive.append(accuracies[5])"
   ]
  },
  {
   "cell_type": "code",
   "execution_count": null,
   "metadata": {},
   "outputs": [],
   "source": []
  },
  {
   "cell_type": "code",
   "execution_count": null,
   "metadata": {},
   "outputs": [],
   "source": []
  },
  {
   "cell_type": "code",
   "execution_count": 83,
   "metadata": {
    "scrolled": true
   },
   "outputs": [],
   "source": [
    "# ### Hyperparameter Tuning ###\n",
    "\n",
    "# from sklearn.model_selection import RepeatedStratifiedKFold\n",
    "# from sklearn.model_selection import GridSearchCV\n",
    "# from sklearn.svm import SVC\n",
    "\n",
    "# # define model and parameters\n",
    "# model = SVC()\n",
    "# kernel = ['linear','poly', 'rbf', 'sigmoid']\n",
    "# C = [50, 10, 1.0, 0.1, 0.01]\n",
    "# gamma = ['scale']\n",
    "# # define grid search\n",
    "# grid = dict(kernel=kernel,C=C,gamma=gamma)\n",
    "# cv = RepeatedStratifiedKFold(n_splits=10, n_repeats=3, random_state=1)\n",
    "# grid_search = GridSearchCV(estimator=model, param_grid=grid, n_jobs=-1, cv=cv, scoring='accuracy',error_score=0)\n",
    "# grid_result = grid_search.fit(X_train, y_train)\n",
    "# # summarize results\n",
    "# print(\"Best: %f using %s\" % (grid_result.best_score_, grid_result.best_params_))\n",
    "# means = grid_result.cv_results_['mean_test_score']\n",
    "# stds = grid_result.cv_results_['std_test_score']\n",
    "# params = grid_result.cv_results_['params']\n",
    "# for mean, stdev, param in zip(means, stds, params):\n",
    "#     print(\"%f (%f) with: %r\" % (mean, stdev, param))"
   ]
  },
  {
   "cell_type": "code",
   "execution_count": 84,
   "metadata": {},
   "outputs": [],
   "source": [
    "# show_prediction(y_pred, y_test)"
   ]
  },
  {
   "cell_type": "code",
   "execution_count": 85,
   "metadata": {},
   "outputs": [
    {
     "name": "stdout",
     "output_type": "stream",
     "text": [
      "accuracy score: 0.871\n"
     ]
    }
   ],
   "source": [
    "# Logistic Regression\n",
    "from sklearn.linear_model import LogisticRegression\n",
    "\n",
    "classifier = LogisticRegression(C=1.0, penalty='l2', solver='newton-cg', random_state = 0)\n",
    "classifier.fit(X_train, y_train)\n",
    "\n",
    "# Predicting the Test set results\n",
    "y_pred = classifier.predict(X_test)\n",
    "\n",
    "# Making the Confusion Matrix\n",
    "from sklearn.metrics import confusion_matrix\n",
    "cm_lr = confusion_matrix(y_test, y_pred)\n",
    "\n",
    "print(\"accuracy score: \" + str(classifier.score(X_test, y_test)))"
   ]
  },
  {
   "cell_type": "code",
   "execution_count": 86,
   "metadata": {},
   "outputs": [
    {
     "name": "stdout",
     "output_type": "stream",
     "text": [
      "0.871\n",
      "0.8669141459171906\n"
     ]
    }
   ],
   "source": [
    "# ADDED BY MGW to verify F1-score\n",
    "#C_ij group i predicted to be in group j\n",
    "from sklearn.metrics import f1_score\n",
    "\n",
    "metrics = ['micro', 'weighted']\n",
    "\n",
    "for avg in metrics:\n",
    "    print(f1_score(y_test, y_pred, average = avg))"
   ]
  },
  {
   "cell_type": "code",
   "execution_count": 87,
   "metadata": {},
   "outputs": [],
   "source": [
    "accuracies = acc_each_class(cm_lr)\n",
    "\n",
    "acc_corrective.append(accuracies[0])\n",
    "acc_imperative.append(accuracies[1])\n",
    "acc_interrogative.append(accuracies[2])\n",
    "acc_miscellaneous.append(accuracies[3])\n",
    "acc_negative.append(accuracies[4])\n",
    "acc_positive.append(accuracies[5])"
   ]
  },
  {
   "cell_type": "code",
   "execution_count": 88,
   "metadata": {
    "scrolled": true
   },
   "outputs": [],
   "source": [
    "# ### Hyperparameter Tuning ###\n",
    "\n",
    "# from sklearn.model_selection import RepeatedStratifiedKFold\n",
    "# from sklearn.model_selection import GridSearchCV\n",
    "# from sklearn.linear_model import LogisticRegression\n",
    "\n",
    "# # define models and parameters\n",
    "# model = LogisticRegression()\n",
    "# solvers = ['newton-cg', 'lbfgs', 'liblinear']\n",
    "# penalty = ['l1', 'l2', 'elasticnet', 'none']\n",
    "# c_values = [100, 10, 1.0, 0.1, 0.01]\n",
    "# # define grid search\n",
    "# grid = dict(solver=solvers,penalty=penalty,C=c_values)\n",
    "# cv = RepeatedStratifiedKFold(n_splits=10, n_repeats=3, random_state=1)\n",
    "# grid_search = GridSearchCV(estimator=model, param_grid=grid, n_jobs=-1, cv=cv, scoring='accuracy',error_score=0)\n",
    "# grid_result = grid_search.fit(X_train, y_train)\n",
    "# # summarize results\n",
    "# print(\"Best: %f using %s\" % (grid_result.best_score_, grid_result.best_params_))\n",
    "# means = grid_result.cv_results_['mean_test_score']\n",
    "# stds = grid_result.cv_results_['std_test_score']\n",
    "# params = grid_result.cv_results_['params']\n",
    "# for mean, stdev, param in zip(means, stds, params):\n",
    "#     print(\"%f (%f) with: %r\" % (mean, stdev, param))"
   ]
  },
  {
   "cell_type": "code",
   "execution_count": 89,
   "metadata": {},
   "outputs": [],
   "source": [
    "# show_prediction(y_pred, y_test)"
   ]
  },
  {
   "cell_type": "code",
   "execution_count": 90,
   "metadata": {},
   "outputs": [],
   "source": [
    "# # Naive Bayes\n",
    "# from sklearn.naive_bayes import GaussianNB\n",
    "\n",
    "# classifier = GaussianNB()\n",
    "# classifier.fit(X_train, y_train)\n",
    "\n",
    "# # Predicting the Test set results\n",
    "# y_pred = classifier.predict(X_test)\n",
    "\n",
    "# # Making the Confusion Matrix\n",
    "# from sklearn.metrics import confusion_matrix\n",
    "# cm = confusion_matrix(y_test, y_pred)\n",
    "\n",
    "# print(\"accuracy score: \" + str(classifier.score(X_test, y_test)))"
   ]
  },
  {
   "cell_type": "code",
   "execution_count": 91,
   "metadata": {},
   "outputs": [],
   "source": [
    "# # KNN\n",
    "# from sklearn.neighbors import KNeighborsClassifier\n",
    "\n",
    "# classifier = KNeighborsClassifier(n_neighbors = 5, metric = 'minkowski', p = 2)\n",
    "# classifier.fit(X_train, y_train)\n",
    "\n",
    "# # Predicting the Test set results\n",
    "# y_pred = classifier.predict(X_test)\n",
    "\n",
    "# # Making the Confusion Matrix\n",
    "# from sklearn.metrics import confusion_matrix\n",
    "# cm_knn = confusion_matrix(y_test, y_pred)\n",
    "\n",
    "# print(\"accuracy score: \" + str(classifier.score(X_test, y_test)))"
   ]
  },
  {
   "cell_type": "code",
   "execution_count": 92,
   "metadata": {},
   "outputs": [],
   "source": [
    "# # Kernal SVC RBF\n",
    "\n",
    "# classifier = SVC(kernel = 'rbf', random_state = 0)\n",
    "# classifier.fit(X_train, y_train)\n",
    "\n",
    "# # Predicting the Test set results\n",
    "# y_pred = classifier.predict(X_test)\n",
    "\n",
    "# # Making the Confusion Matrix\n",
    "# from sklearn.metrics import confusion_matrix\n",
    "# cm_k_svc = confusion_matrix(y_test, y_pred)\n",
    "\n",
    "# print(\"accuracy score: \" + str(classifier.score(X_test, y_test)))"
   ]
  },
  {
   "cell_type": "code",
   "execution_count": 93,
   "metadata": {},
   "outputs": [],
   "source": [
    "# # Kernal SVC sigmoid\n",
    "\n",
    "# classifier = SVC(kernel = 'sigmoid', random_state = 0)\n",
    "# classifier.fit(X_train, y_train)\n",
    "\n",
    "# # Predicting the Test set results\n",
    "# y_pred = classifier.predict(X_test)\n",
    "\n",
    "# # Making the Confusion Matrix\n",
    "# from sklearn.metrics import confusion_matrix\n",
    "# cm = confusion_matrix(y_test, y_pred)\n",
    "\n",
    "# print(\"accuracy score: \" + str(classifier.score(X_test, y_test)))"
   ]
  },
  {
   "cell_type": "code",
   "execution_count": 94,
   "metadata": {},
   "outputs": [
    {
     "name": "stdout",
     "output_type": "stream",
     "text": [
      "accuracy score: 0.85\n"
     ]
    }
   ],
   "source": [
    "# Random Forest\n",
    "from sklearn.ensemble import RandomForestClassifier\n",
    "\n",
    "# classifier = RandomForestClassifier(n_estimators = 100, criterion = 'entropy', random_state = 0)\n",
    "classifier = RandomForestClassifier(max_features='log2', n_estimators=1000, criterion = 'entropy', random_state = 0)\n",
    "\n",
    "classifier.fit(X_train, y_train)\n",
    "\n",
    "# Predicting the Test set results\n",
    "y_pred = classifier.predict(X_test)\n",
    "\n",
    "# Making the Confusion Matrix\n",
    "from sklearn.metrics import confusion_matrix\n",
    "cm_rf = confusion_matrix(y_test, y_pred)\n",
    "\n",
    "print(\"accuracy score: \" + str(classifier.score(X_test, y_test)))"
   ]
  },
  {
   "cell_type": "code",
   "execution_count": 95,
   "metadata": {},
   "outputs": [],
   "source": [
    "accuracies = acc_each_class(cm_rf)\n",
    "\n",
    "acc_corrective.append(accuracies[0])\n",
    "acc_imperative.append(accuracies[1])\n",
    "acc_interrogative.append(accuracies[2])\n",
    "acc_miscellaneous.append(accuracies[3])\n",
    "acc_negative.append(accuracies[4])\n",
    "acc_positive.append(accuracies[5])"
   ]
  },
  {
   "cell_type": "code",
   "execution_count": 96,
   "metadata": {},
   "outputs": [],
   "source": [
    "# ### Hyperparameter Tuning ###\n",
    "\n",
    "# from sklearn.model_selection import RepeatedStratifiedKFold\n",
    "# from sklearn.model_selection import GridSearchCV\n",
    "# from sklearn.ensemble import RandomForestClassifier\n",
    "\n",
    "# # define models and parameters\n",
    "# model = RandomForestClassifier()\n",
    "# n_estimators = [10, 100, 1000]\n",
    "# max_features = ['sqrt', 'log2']\n",
    "# criterion = ['gini', 'entropy']\n",
    "# # define grid search\n",
    "# grid = dict(n_estimators=n_estimators,max_features=max_features,criterion=criterion)\n",
    "# cv = RepeatedStratifiedKFold(n_splits=10, n_repeats=3, random_state=1)\n",
    "# grid_search = GridSearchCV(estimator=model, param_grid=grid, n_jobs=-1, cv=cv, scoring='accuracy',error_score=0)\n",
    "# grid_result = grid_search.fit(X_train, y_train)\n",
    "# # summarize results\n",
    "# print(\"Best: %f using %s\" % (grid_result.best_score_, grid_result.best_params_))\n",
    "# means = grid_result.cv_results_['mean_test_score']\n",
    "# stds = grid_result.cv_results_['std_test_score']\n",
    "# params = grid_result.cv_results_['params']\n",
    "# for mean, stdev, param in zip(means, stds, params):\n",
    "#     print(\"%f (%f) with: %r\" % (mean, stdev, param))"
   ]
  },
  {
   "cell_type": "code",
   "execution_count": 97,
   "metadata": {},
   "outputs": [],
   "source": [
    "# # Show falsely predicted comments\n",
    "\n",
    "# def show_neg_prediction(y_pred, y_test):\n",
    "\n",
    "#     indices_match = y_pred == y_test\n",
    "\n",
    "#     df = pd.read_csv('Scrapper/final.csv', header=None)\n",
    "\n",
    "#     get_comments = []\n",
    "\n",
    "#     for i in range(len(indices_test)):\n",
    "#         if indices_match[i] == False:\n",
    "#             get_comments.append(df[0][indices_test[i]])\n",
    "\n",
    "\n",
    "#     data = list(zip(get_comments, y_test, y_pred))\n",
    "#     df_result = pd.DataFrame(data, columns = [\"comment\", \"original class\", \"predicted class\"])\n",
    "#     return df_result"
   ]
  },
  {
   "cell_type": "code",
   "execution_count": 98,
   "metadata": {
    "scrolled": true
   },
   "outputs": [],
   "source": [
    "# df_ = show_prediction(y_pred, y_test)\n",
    "# pd.options.display.max_colwidth = 150\n",
    "# df_.iloc[200:250]\n"
   ]
  },
  {
   "cell_type": "code",
   "execution_count": 99,
   "metadata": {},
   "outputs": [
    {
     "name": "stdout",
     "output_type": "stream",
     "text": [
      "accuracy score: 0.835\n"
     ]
    }
   ],
   "source": [
    "# Decision Tree\n",
    "# from sklearn.tree import DecisionTreeClassifier\n",
    "\n",
    "classifier = DecisionTreeClassifier(criterion='gini', \n",
    "                                    max_features=None,min_samples_leaf=1, \n",
    "                                    min_samples_split=2, random_state=0)\n",
    "# classifier = DecisionTreeClassifier()\n",
    "\n",
    "classifier.fit(X_train, y_train)\n",
    "\n",
    "# Predicting the Test set results\n",
    "y_pred = classifier.predict(X_test)\n",
    "\n",
    "# Making the Confusion Matrix\n",
    "from sklearn.metrics import confusion_matrix\n",
    "cm_dt = confusion_matrix(y_test, y_pred)\n",
    "\n",
    "print(\"accuracy score: \" + str(classifier.score(X_test, y_test)))"
   ]
  },
  {
   "cell_type": "code",
   "execution_count": 100,
   "metadata": {},
   "outputs": [],
   "source": [
    "accuracies = acc_each_class(cm_dt)\n",
    "\n",
    "acc_corrective.append(accuracies[0])\n",
    "acc_imperative.append(accuracies[1])\n",
    "acc_interrogative.append(accuracies[2])\n",
    "acc_miscellaneous.append(accuracies[3])\n",
    "acc_negative.append(accuracies[4])\n",
    "acc_positive.append(accuracies[5])"
   ]
  },
  {
   "cell_type": "code",
   "execution_count": 101,
   "metadata": {
    "scrolled": true
   },
   "outputs": [],
   "source": [
    "# from sklearn import tree\n",
    "# tree.export_graphviz(classifier, out_file='tree.dot') \n",
    "# tree.plot_tree(classifier)"
   ]
  },
  {
   "cell_type": "code",
   "execution_count": 102,
   "metadata": {
    "scrolled": true
   },
   "outputs": [],
   "source": [
    "# ### Hyperparameter Tuning ###\n",
    "\n",
    "# from sklearn.model_selection import RepeatedStratifiedKFold\n",
    "# from sklearn.model_selection import GridSearchCV\n",
    "\n",
    "# # define models and parameters\n",
    "# model = DecisionTreeClassifier()\n",
    "# max_features = ['sqrt', 'log2', 'auto']\n",
    "# criterion = ['gini', 'entropy']\n",
    "# max_depth = [2,4,6,8,10,12]\n",
    "# min_samples_split = range(1,10)\n",
    "# min_samples_leaf = range(1,5)\n",
    "# # define grid search\n",
    "# grid = dict(max_depth=max_depth,max_features=max_features,criterion=criterion,min_samples_split=min_samples_split,min_samples_leaf=min_samples_leaf)\n",
    "# cv = RepeatedStratifiedKFold(n_splits=10, n_repeats=3, random_state=1)\n",
    "# grid_search = GridSearchCV(estimator=model, param_grid=grid, n_jobs=-1, cv=cv, scoring='accuracy',error_score=0)\n",
    "# grid_result = grid_search.fit(X_train, y_train)\n",
    "# # summarize results\n",
    "# print(\"Best: %f using %s\" % (grid_result.best_score_, grid_result.best_params_))\n",
    "# means = grid_result.cv_results_['mean_test_score']\n",
    "# stds = grid_result.cv_results_['std_test_score']\n",
    "# params = grid_result.cv_results_['params']\n",
    "# for mean, stdev, param in zip(means, stds, params):\n",
    "#     print(\"%f (%f) with: %r\" % (mean, stdev, param))"
   ]
  },
  {
   "cell_type": "code",
   "execution_count": 103,
   "metadata": {},
   "outputs": [],
   "source": [
    "# show_prediction(y_pred, y_test)"
   ]
  },
  {
   "cell_type": "markdown",
   "metadata": {},
   "source": [
    "## Histogram"
   ]
  },
  {
   "cell_type": "code",
   "execution_count": 104,
   "metadata": {},
   "outputs": [],
   "source": [
    "def acc_each_category(cf_matrix):\n",
    "#     total_comments = cf_matrix.sum(axis=1)\n",
    "    correctly_classified = np.diagonal(cf_matrix)\n",
    "    return correctly_classified\n",
    "\n",
    "y = cm_dt.sum(axis=1)"
   ]
  },
  {
   "cell_type": "code",
   "execution_count": 105,
   "metadata": {},
   "outputs": [],
   "source": [
    "z1 = acc_each_category(cm_lsvc)\n",
    "z2 = acc_each_category(cm_lr)\n",
    "z3 = acc_each_category(cm_mnb)\n",
    "z4 = acc_each_category(cm_rf)\n",
    "z5 = acc_each_category(cm_dt)"
   ]
  },
  {
   "cell_type": "code",
   "execution_count": 106,
   "metadata": {
    "scrolled": false
   },
   "outputs": [
    {
     "data": {
      "image/png": "[encoded data removed]",
      "text/plain": [
       "<Figure size 432x288 with 1 Axes>"
      ]
     },
     "metadata": {
      "needs_background": "light"
     },
     "output_type": "display_data"
    }
   ],
   "source": [
    "import matplotlib.pyplot as plt\n",
    "\n",
    "x_tick = np.unique(y_test)\n",
    "w = 0.125\n",
    "x1 = np.array([1,2,3,4,5,6])\n",
    "x2 = x1+w\n",
    "x3 = x2+w\n",
    "x4 = x3+w\n",
    "x5 = x4+w\n",
    "x6 = x5+w\n",
    "x7 = x6+w\n",
    "\n",
    "plt.xticks(ticks=x1+0.3, labels=x_tick)\n",
    "plt.bar(x1, y, w, label = \"Total Comments\")\n",
    "plt.bar(x2, z1, w, label = \"Linear SVC\")\n",
    "plt.bar(x3, z2, w, label = \"Logistic Regression\",)\n",
    "plt.bar(x4, z3, w, label = \"Multinomial NB\",)\n",
    "plt.bar(x5, z4, w, label = \"Random Forest Classifier\")\n",
    "plt.bar(x6, z5, w, label = \"Decision Tree\")\n",
    "\n",
    "\n",
    "plt.rcParams[\"figure.figsize\"] = (15,5)\n",
    "plt.xlabel(\"Category\")\n",
    "plt.ylabel(\"Number of Comments\")\n",
    "plt.legend()\n",
    "plt.show()"
   ]
  },
  {
   "cell_type": "code",
   "execution_count": null,
   "metadata": {},
   "outputs": [],
   "source": []
  },
  {
   "cell_type": "markdown",
   "metadata": {},
   "source": [
    "## Percentage of accuracy in each class"
   ]
  },
  {
   "cell_type": "code",
   "execution_count": 107,
   "metadata": {},
   "outputs": [],
   "source": [
    "corr = [i * 100 for i in acc_corrective]\n",
    "imp = [i * 100 for i in acc_imperative]\n",
    "inte = [i * 100 for i in acc_interrogative]\n",
    "mis = [i * 100 for i in acc_miscellaneous]\n",
    "neg = [i * 100 for i in acc_negative]\n",
    "pos = [i * 100 for i in acc_positive]"
   ]
  },
  {
   "cell_type": "code",
   "execution_count": 108,
   "metadata": {},
   "outputs": [
    {
     "data": {
      "image/png": "[encoded data removed]",
      "text/plain": [
       "<Figure size 1080x360 with 1 Axes>"
      ]
     },
     "metadata": {
      "needs_background": "light"
     },
     "output_type": "display_data"
    }
   ],
   "source": [
    "import matplotlib.pyplot as plt\n",
    "\n",
    "# x1 = [10,20,30,40,50]\n",
    "x1 = ['Linear SVC','Logistic Regression','Multinomial NB','Random Forest Classifier','Decision Tree Classifier']\n",
    "# corrective\n",
    "y1 = corr\n",
    "# plotting the line 1 points \n",
    "plt.plot(x1, y1, label = \"Corrective\", marker='o')\n",
    "\n",
    "# imperative\n",
    "y2 = imp\n",
    "# plotting the line 2 points \n",
    "plt.plot(x1, y2, label = \"Imperative\", marker='*')\n",
    "\n",
    "# interrogative\n",
    "y3 = inte\n",
    "# plotting the line 2 points \n",
    "plt.plot(x1, y3, label = \"Interrogative\", marker='s')\n",
    "\n",
    "# Miscellaneous\n",
    "y4 = mis\n",
    "# plotting the line 2 points \n",
    "plt.plot(x1, y4, label = \"Miscellaneous\", marker='.')\n",
    "\n",
    "# Negative\n",
    "y5 = neg\n",
    "# plotting the line 2 points \n",
    "plt.plot(x1, y5, label = \"Negative\", marker='^')\n",
    "\n",
    "# Positive\n",
    "y6 = pos\n",
    "# plotting the line 2 points \n",
    "plt.plot(x1, y6, label = \"Positive\", marker='+')\n",
    "\n",
    "\n",
    "plt.xlabel('')\n",
    "# Set the y axis label of the current axis.\n",
    "plt.ylabel('Accuracy Percentage')\n",
    "# Set a title of the current axes.\n",
    "plt.title('')\n",
    "# show a legend on the plot\n",
    "plt.legend()\n",
    "\n",
    "plt.xticks(rotation=90)\n",
    "# Display a figure.\n",
    "plt.show()"
   ]
  },
  {
   "cell_type": "markdown",
   "metadata": {},
   "source": [
    "## Plotting accuracy vs data size"
   ]
  },
  {
   "cell_type": "code",
   "execution_count": 109,
   "metadata": {},
   "outputs": [
    {
     "data": {
      "image/png": "[encoded data removed]",
      "text/plain": [
       "<Figure size 864x576 with 1 Axes>"
      ]
     },
     "metadata": {
      "needs_background": "light"
     },
     "output_type": "display_data"
    }
   ],
   "source": [
    "def plot_acc_curve(classifier, linestyle, label):    \n",
    "    \n",
    "    num_of_splits = 14\n",
    "    each_split_size = len(X_train)//num_of_splits\n",
    "\n",
    "    each_split = 98\n",
    "    scores = []\n",
    "\n",
    "    for i in range(num_of_splits+1):\n",
    "        split_X_train = X_train[0:each_split]\n",
    "        split_y_train = y_train[0:each_split]\n",
    "\n",
    "        each_split += each_split_size\n",
    "\n",
    "        classifier.fit(split_X_train, split_y_train)\n",
    "        scores.append(classifier.score(X_test, y_test))\n",
    "    \n",
    "    m = 14\n",
    "    n = 98\n",
    "    x_splits = list(range(0, (m+1)*n, n))\n",
    "\n",
    "    plt.xlabel('Data Size')\n",
    "    plt.ylabel('Testing Accuracy')\n",
    "    plt.plot(x_splits, scores, linestyle, label = label)\n",
    "    plt.xticks(x_splits)\n",
    "    plt.legend(loc=\"best\")\n",
    "    \n",
    "    return plt\n",
    "    \n",
    "\n",
    "plt.figure(figsize=(12,8))\n",
    "\n",
    "# Linear SVC\n",
    "classifier = SVC(C=1.0, gamma='scale', kernel='linear', random_state=0)\n",
    "plot_acc_curve(classifier, linestyle = 'o-', label=\"Linear SVC\")\n",
    "\n",
    "# Logistic Regression\n",
    "classifier = LogisticRegression(C=1.0, penalty='l2', solver='newton-cg', random_state = 0)\n",
    "plot_acc_curve(classifier, linestyle = '*-', label=\"Logistic Regression\")\n",
    "\n",
    "# Multinomial NB\n",
    "classifier = MultinomialNB(alpha=1, fit_prior=True)\n",
    "plot_acc_curve(classifier, linestyle = '^-', label=\"Multinomial NB\")\n",
    "\n",
    "# Random Forest Classifier\n",
    "classifier = RandomForestClassifier(max_features='log2', n_estimators=1000, criterion = 'entropy', random_state = 0)\n",
    "plot_acc_curve(classifier, linestyle = 's-', label=\"Random Forest Classifier\")\n",
    "\n",
    "# Decision Tree Classifier\n",
    "classifier = DecisionTreeClassifier(criterion='gini', \n",
    "                                    max_features=None, min_samples_leaf=1, \n",
    "                                    min_samples_split=2, random_state=0)\n",
    "plot_acc_curve(classifier, linestyle = 'x-', label=\"Decision Tree Classifier\")\n",
    "\n",
    "plt.show()"
   ]
  },
  {
   "cell_type": "code",
   "execution_count": null,
   "metadata": {},
   "outputs": [],
   "source": []
  },
  {
   "cell_type": "code",
   "execution_count": null,
   "metadata": {},
   "outputs": [],
   "source": []
  },
  {
   "cell_type": "markdown",
   "metadata": {},
   "source": [
    "## PLotting the learning curves"
   ]
  },
  {
   "cell_type": "code",
   "execution_count": 110,
   "metadata": {},
   "outputs": [],
   "source": [
    "\n",
    "\n",
    "# import numpy as np\n",
    "# import matplotlib.pyplot as plt\n",
    "# from sklearn.naive_bayes import GaussianNB\n",
    "# from sklearn.svm import SVC\n",
    "# from sklearn.datasets import load_digits\n",
    "# from sklearn.model_selection import learning_curve\n",
    "# from sklearn.model_selection import ShuffleSplit\n",
    "\n",
    "\n",
    "# def plot_learning_curve(estimator, title, X, y, axes=None, ylim=None, cv=None,\n",
    "#                         n_jobs=None, train_sizes=np.linspace(.1, 1.0, 5)):\n",
    "\n",
    "#     if axes is None:\n",
    "#         _, axes = plt.subplots(1, 3, figsize=(20, 5))\n",
    "\n",
    "#     axes[0].set_title(title)\n",
    "#     if ylim is not None:\n",
    "#         axes[0].set_ylim(*ylim)\n",
    "#     axes[0].set_xlabel(\"Training examples\")\n",
    "#     axes[0].set_ylabel(\"Score\")\n",
    "\n",
    "#     train_sizes, train_scores, test_scores, fit_times, _ = \\\n",
    "#         learning_curve(estimator, X, y, cv=cv, n_jobs=n_jobs,\n",
    "#                        train_sizes=train_sizes,\n",
    "#                        return_times=True)\n",
    "#     train_scores_mean = np.mean(train_scores, axis=1)\n",
    "#     train_scores_std = np.std(train_scores, axis=1)\n",
    "#     test_scores_mean = np.mean(test_scores, axis=1)\n",
    "#     test_scores_std = np.std(test_scores, axis=1)\n",
    "#     fit_times_mean = np.mean(fit_times, axis=1)\n",
    "#     fit_times_std = np.std(fit_times, axis=1)\n",
    "\n",
    "#     # Plot learning curve\n",
    "#     axes[0].grid()\n",
    "#     axes[0].fill_between(train_sizes, train_scores_mean - train_scores_std,\n",
    "#                          train_scores_mean + train_scores_std, alpha=0.1,\n",
    "#                          color=\"r\")\n",
    "#     axes[0].fill_between(train_sizes, test_scores_mean - test_scores_std,\n",
    "#                          test_scores_mean + test_scores_std, alpha=0.1,\n",
    "#                          color=\"g\")\n",
    "#     axes[0].plot(train_sizes, train_scores_mean, 'o-', color=\"r\",\n",
    "#                  label=\"Training score\")\n",
    "#     axes[0].plot(train_sizes, test_scores_mean, 'o-', color=\"g\",\n",
    "#                  label=\"Cross-validation score\")\n",
    "#     axes[0].legend(loc=\"best\")\n",
    "\n",
    "#     # Plot n_samples vs fit_times\n",
    "#     axes[1].grid()\n",
    "#     axes[1].plot(train_sizes, fit_times_mean, 'o-')\n",
    "#     axes[1].fill_between(train_sizes, fit_times_mean - fit_times_std,\n",
    "#                          fit_times_mean + fit_times_std, alpha=0.1)\n",
    "#     axes[1].set_xlabel(\"Training examples\")\n",
    "#     axes[1].set_ylabel(\"fit_times\")\n",
    "#     axes[1].set_title(\"Scalability of the model\")\n",
    "\n",
    "#     # Plot fit_time vs score\n",
    "#     axes[2].grid()\n",
    "#     axes[2].plot(fit_times_mean, test_scores_mean, 'o-')\n",
    "#     axes[2].fill_between(fit_times_mean, test_scores_mean - test_scores_std,\n",
    "#                          test_scores_mean + test_scores_std, alpha=0.1)\n",
    "#     axes[2].set_xlabel(\"fit_times\")\n",
    "#     axes[2].set_ylabel(\"Score\")\n",
    "#     axes[2].set_title(\"Performance of the model\")\n",
    "\n",
    "#     return plt\n",
    "\n",
    "\n",
    "# fig, axes = plt.subplots(3, 2, figsize=(10, 15))\n",
    "\n",
    "# # X, y = load_digits(return_X_y=True)\n",
    "\n",
    "# title = \"Learning Curves (Naive Bayes)\"\n",
    "# # Cross validation with 100 iterations to get smoother mean test and train\n",
    "# # score curves, each time with 20% data randomly selected as a validation set.\n",
    "# cv = ShuffleSplit(n_splits=100, test_size=0.2, random_state=0)\n",
    "\n",
    "# estimator = RandomForestClassifier(n_estimators = 100, criterion = 'entropy', random_state = 0)\n",
    "# plot_learning_curve(estimator, title, X, y, axes=axes[:, 0], ylim=(0.7, 1.01),\n",
    "#                     cv=cv, n_jobs=4)\n",
    "\n",
    "# title = r\"Learning Curves (SVM, linear, $\\gamma=0.001$)\"\n",
    "# # SVC is more expensive so we do a lower number of CV iterations:\n",
    "# cv = ShuffleSplit(n_splits=10, test_size=0.2, random_state=0)\n",
    "# estimator = LogisticRegression(random_state = 0)\n",
    "# plot_learning_curve(estimator, title, X, y, axes=axes[:, 1], ylim=(0.7, 1.01),\n",
    "#                     cv=cv, n_jobs=4)\n",
    "\n",
    "# plt.show()"
   ]
  },
  {
   "cell_type": "code",
   "execution_count": null,
   "metadata": {},
   "outputs": [],
   "source": []
  },
  {
   "cell_type": "markdown",
   "metadata": {},
   "source": [
    "## Creating a json file and sending to the server"
   ]
  },
  {
   "cell_type": "code",
   "execution_count": 111,
   "metadata": {},
   "outputs": [],
   "source": [
    "# cm_rf_p = cm_rf.astype('float') / cm_rf.sum(axis=1)[:, np.newaxis]\n",
    "# cm_lr_p = cm_lr.astype('float') / cm_lr.sum(axis=1)[:, np.newaxis]\n",
    "# cm_knn_p = cm_knn.astype('float') / cm_knn.sum(axis=1)[:, np.newaxis]\n",
    "# cm_k_svc_p = cm_k_svc.astype('float') / cm_k_svc.sum(axis=1)[:, np.newaxis]\n",
    "# cm_dt_p = cm_dt.astype('float') / cm_dt.sum(axis=1)[:, np.newaxis]"
   ]
  },
  {
   "cell_type": "code",
   "execution_count": 112,
   "metadata": {},
   "outputs": [],
   "source": [
    "# unique, counts = np.unique(y_pred, return_counts=True)"
   ]
  },
  {
   "cell_type": "code",
   "execution_count": 113,
   "metadata": {},
   "outputs": [],
   "source": [
    "# dict_pred_rf = dict(zip(unique, cm_rf_p.diagonal()))\n",
    "# dict_pred_lr = dict(zip(unique, cm_lr_p.diagonal()))\n",
    "# dict_pred_knn = dict(zip(unique, cm_knn_p.diagonal()))\n",
    "# dict_pred_k_svc = dict(zip(unique, cm_k_svc_p.diagonal()))\n",
    "# dict_pred_dt = dict(zip(unique, cm_dt_p.diagonal()))"
   ]
  },
  {
   "cell_type": "code",
   "execution_count": 114,
   "metadata": {},
   "outputs": [],
   "source": [
    "# import json\n",
    "\n",
    "# models = ['random_forest', 'linear_regression', 'knn', 'kernal_svc', 'decision_tree']\n",
    "# pred_dict = [dict_pred_rf, dict_pred_lr, dict_pred_knn, dict_pred_k_svc, dict_pred_dt]\n",
    "\n",
    "# predictions = {}\n",
    "# for model, pred in zip(models, pred_dict):\n",
    "#     predictions[model] = pred\n",
    "\n",
    "# with open('prediction.json', 'w') as json_file:\n",
    "#     json.dump(predictions, json_file)"
   ]
  },
  {
   "cell_type": "code",
   "execution_count": 115,
   "metadata": {},
   "outputs": [],
   "source": [
    "# predictions"
   ]
  },
  {
   "cell_type": "code",
   "execution_count": 116,
   "metadata": {},
   "outputs": [],
   "source": [
    "# To DO:\n",
    "# Send json"
   ]
  },
  {
   "cell_type": "code",
   "execution_count": null,
   "metadata": {},
   "outputs": [],
   "source": []
  }
 ],
 "metadata": {
  "interpreter": {
   "hash": "f8509387d968c699998c75ac6b8ab54c3577488682f0f34fc077c48227722b70"
  },
  "kernelspec": {
   "display_name": "venv",
   "language": "python",
   "name": "python3"
  },
  "language_info": {
   "codemirror_mode": {
    "name": "ipython",
    "version": 3
   },
   "file_extension": ".py",
   "mimetype": "text/x-python",
   "name": "python",
   "nbconvert_exporter": "python",
   "pygments_lexer": "ipython3",
   "version": "3.9.7"
  }
 },
 "nbformat": 4,
 "nbformat_minor": 4
}
